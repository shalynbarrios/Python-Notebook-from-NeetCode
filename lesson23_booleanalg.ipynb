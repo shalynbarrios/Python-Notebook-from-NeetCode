{
  "nbformat": 4,
  "nbformat_minor": 0,
  "metadata": {
    "colab": {
      "provenance": [],
      "authorship_tag": "ABX9TyO+uo+6/EUlPPIVFXF25tQu",
      "include_colab_link": true
    },
    "kernelspec": {
      "name": "python3",
      "display_name": "Python 3"
    },
    "language_info": {
      "name": "python"
    }
  },
  "cells": [
    {
      "cell_type": "markdown",
      "metadata": {
        "id": "view-in-github",
        "colab_type": "text"
      },
      "source": [
        "<a href=\"https://colab.research.google.com/github/shalynbarrios/Python-Notebook-from-NeetCode/blob/main/lesson23_booleanalg.ipynb\" target=\"_parent\"><img src=\"https://colab.research.google.com/assets/colab-badge.svg\" alt=\"Open In Colab\"/></a>"
      ]
    },
    {
      "cell_type": "markdown",
      "source": [
        "Lesson 23 on Boolean Algebra"
      ],
      "metadata": {
        "id": "3bYnT47vJrTg"
      }
    },
    {
      "cell_type": "code",
      "execution_count": null,
      "metadata": {
        "colab": {
          "base_uri": "https://localhost:8080/"
        },
        "id": "xjmU-sg4JjhC",
        "outputId": "d13e851d-be33-4895-fdbf-0e85c9be1013"
      },
      "outputs": [
        {
          "output_type": "stream",
          "name": "stdout",
          "text": [
            "True\n"
          ]
        }
      ],
      "source": [
        "a = True # a, b = True, False is also acceptable!\n",
        "b = False\n",
        "print (a or b) # this is asking, hey, is one of these true?\n",
        "# is either a or b true?"
      ]
    },
    {
      "cell_type": "code",
      "source": [
        "a = True\n",
        "b = False\n",
        "print (a and b) #this is asking, hey, are both of these true?\n",
        "# is a and b true?"
      ],
      "metadata": {
        "colab": {
          "base_uri": "https://localhost:8080/"
        },
        "id": "xvIJy1YqKCx0",
        "outputId": "aba540e8-2af1-4db1-a361-e1ccb412c109"
      },
      "execution_count": null,
      "outputs": [
        {
          "output_type": "stream",
          "name": "stdout",
          "text": [
            "False\n"
          ]
        }
      ]
    },
    {
      "cell_type": "code",
      "source": [
        "a = True\n",
        "b = False\n",
        "print(not b)\n",
        "# i do not want what b is equal to\n",
        "# essentially, the boolean opposite of what the variable is"
      ],
      "metadata": {
        "colab": {
          "base_uri": "https://localhost:8080/"
        },
        "id": "pnNY-_mcLitR",
        "outputId": "2b9b527a-cb18-4a7e-e47b-cb6e681067a1"
      },
      "execution_count": null,
      "outputs": [
        {
          "output_type": "stream",
          "name": "stdout",
          "text": [
            "True\n"
          ]
        }
      ]
    },
    {
      "cell_type": "code",
      "source": [
        "# if you wanna combine a few boolean operations...\n",
        "a, b = True, False\n",
        "print(not(a and b))\n",
        "# this is asking is a and b both true? here, it's false\n",
        "# the not function asks for the opposite, so the console will print true"
      ],
      "metadata": {
        "colab": {
          "base_uri": "https://localhost:8080/"
        },
        "id": "swrdNo0ENb17",
        "outputId": "7c4007d9-1572-4bdb-dd35-4ce7cb50e3a9"
      },
      "execution_count": null,
      "outputs": [
        {
          "output_type": "stream",
          "name": "stdout",
          "text": [
            "True\n"
          ]
        }
      ]
    }
  ]
}