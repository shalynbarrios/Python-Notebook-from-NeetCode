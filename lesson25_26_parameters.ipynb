{
  "nbformat": 4,
  "nbformat_minor": 0,
  "metadata": {
    "colab": {
      "provenance": [],
      "authorship_tag": "ABX9TyPMXkQtWLvs7LmID4po6x8b",
      "include_colab_link": true
    },
    "kernelspec": {
      "name": "python3",
      "display_name": "Python 3"
    },
    "language_info": {
      "name": "python"
    }
  },
  "cells": [
    {
      "cell_type": "markdown",
      "metadata": {
        "id": "view-in-github",
        "colab_type": "text"
      },
      "source": [
        "<a href=\"https://colab.research.google.com/github/shalynbarrios/Python-Notebook-from-NeetCode/blob/main/lesson25_26_parameters.ipynb\" target=\"_parent\"><img src=\"https://colab.research.google.com/assets/colab-badge.svg\" alt=\"Open In Colab\"/></a>"
      ]
    },
    {
      "cell_type": "markdown",
      "source": [
        "Lesson 25 on Parameters and Arguments"
      ],
      "metadata": {
        "id": "WdYLREr2LFO0"
      }
    },
    {
      "cell_type": "code",
      "execution_count": null,
      "metadata": {
        "id": "aYTD209HKFtM",
        "colab": {
          "base_uri": "https://localhost:8080/"
        },
        "outputId": "173d49bf-b750-4c19-a366-f918f9ee9439"
      },
      "outputs": [
        {
          "output_type": "stream",
          "name": "stdout",
          "text": [
            "Hello, Alice\n"
          ]
        }
      ],
      "source": [
        "def greet(name): #takes variable called \"name\" as a parameter\n",
        "  msg = \"Hello, \" + name # example of string concatenation\n",
        "  print(msg)\n",
        "\n",
        "greet(\"Alice\") #when you pass in a value for that parameter, this is the argument"
      ]
    },
    {
      "cell_type": "markdown",
      "source": [
        "So, an example"
      ],
      "metadata": {
        "id": "J87ublrfKIvA"
      }
    },
    {
      "cell_type": "code",
      "source": [
        "def farewell(name):\n",
        "  msg = \"Goodbye, \" + name\n",
        "  print(msg)\n",
        "\n",
        "farewell(\"Charlie\")"
      ],
      "metadata": {
        "colab": {
          "base_uri": "https://localhost:8080/"
        },
        "id": "ttuYVb-8KKFg",
        "outputId": "572eb3a1-c818-4615-ab52-40c8a009ca52"
      },
      "execution_count": null,
      "outputs": [
        {
          "output_type": "stream",
          "name": "stdout",
          "text": [
            "Goodbye, Charlie\n"
          ]
        }
      ]
    },
    {
      "cell_type": "markdown",
      "source": [
        "How about multiple parameters? (Lesson 26)"
      ],
      "metadata": {
        "id": "en2FrkKeKeR9"
      }
    },
    {
      "cell_type": "code",
      "source": [
        "def two_sum(num1, num2):\n",
        "  print(num1+num2)\n",
        "\n",
        "def three_sum(num1, num2, num3):\n",
        "  print(num1+num2+num3)\n",
        "\n",
        "two_sum(7, 10)\n",
        "three_sum(3, 5, 8)"
      ],
      "metadata": {
        "colab": {
          "base_uri": "https://localhost:8080/"
        },
        "id": "zEyIOBCtKjbb",
        "outputId": "c1acdba5-9115-42bf-e01b-592d3a30c743"
      },
      "execution_count": null,
      "outputs": [
        {
          "output_type": "stream",
          "name": "stdout",
          "text": [
            "17\n",
            "16\n"
          ]
        }
      ]
    },
    {
      "cell_type": "code",
      "source": [
        "def greet(name, greeting):\n",
        "  message = greeting + \" \" + name\n",
        "  print(message)\n",
        "\n",
        "greet(\"Alice\", \"Hello,\")\n",
        "\n",
        "# Parameter: The variable listed inside the function definition (a placeholder).\n",
        "# here it's name, greeting\n",
        "# Argument: The actual value you pass to the function when calling it.\n",
        "# here it's the strings alice, hello"
      ],
      "metadata": {
        "colab": {
          "base_uri": "https://localhost:8080/"
        },
        "id": "Qo0AcREaLJlw",
        "outputId": "e43560ae-0cb7-4d3e-bdc2-711705a42bd7"
      },
      "execution_count": null,
      "outputs": [
        {
          "output_type": "stream",
          "name": "stdout",
          "text": [
            "Hello, Alice\n"
          ]
        }
      ]
    }
  ]
}