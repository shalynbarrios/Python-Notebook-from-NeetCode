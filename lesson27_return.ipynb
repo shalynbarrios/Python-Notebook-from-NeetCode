{
  "nbformat": 4,
  "nbformat_minor": 0,
  "metadata": {
    "colab": {
      "provenance": [],
      "authorship_tag": "ABX9TyMMfw/9lsjlEijd3Ctl8UUy",
      "include_colab_link": true
    },
    "kernelspec": {
      "name": "python3",
      "display_name": "Python 3"
    },
    "language_info": {
      "name": "python"
    }
  },
  "cells": [
    {
      "cell_type": "markdown",
      "metadata": {
        "id": "view-in-github",
        "colab_type": "text"
      },
      "source": [
        "<a href=\"https://colab.research.google.com/github/shalynbarrios/Python-Notebook-from-NeetCode/blob/main/lesson27_return.ipynb\" target=\"_parent\"><img src=\"https://colab.research.google.com/assets/colab-badge.svg\" alt=\"Open In Colab\"/></a>"
      ]
    },
    {
      "cell_type": "markdown",
      "source": [
        "**Lesson 27 is on the Return Statement**"
      ],
      "metadata": {
        "id": "Wruq9YJiMEI6"
      }
    },
    {
      "cell_type": "code",
      "execution_count": null,
      "metadata": {
        "id": "dB91u6VbJEsQ",
        "colab": {
          "base_uri": "https://localhost:8080/"
        },
        "outputId": "45659567-5589-4309-a696-201b37cb71ab"
      },
      "outputs": [
        {
          "output_type": "stream",
          "name": "stdout",
          "text": [
            "8\n"
          ]
        }
      ],
      "source": [
        "def product(a,b):\n",
        "  return a*b # this will execute and return a * b\n",
        "\n",
        "print(product(2,4))"
      ]
    },
    {
      "cell_type": "code",
      "source": [
        "# we can also do it like this, so the return statement gets stored in a variable we\n",
        "# can call on later\n",
        "def add(x,y):\n",
        "  return x+y\n",
        "\n",
        "result = add(3,5)\n",
        "print(result)"
      ],
      "metadata": {
        "colab": {
          "base_uri": "https://localhost:8080/"
        },
        "id": "Dcghf-csMS9R",
        "outputId": "b7c65529-d11b-4f31-ded8-cdc0725febd7"
      },
      "execution_count": null,
      "outputs": [
        {
          "output_type": "stream",
          "name": "stdout",
          "text": [
            "8\n"
          ]
        }
      ]
    },
    {
      "cell_type": "code",
      "source": [
        "# let's try something\n",
        "ask = int(input(\"What's 4+4?\"))\n",
        "def ok(ask):\n",
        "  if ask > 2:\n",
        "    return ask + 4\n",
        "  else:\n",
        "    return ask + 1\n",
        "\n",
        "print(ok(ask))"
      ],
      "metadata": {
        "colab": {
          "base_uri": "https://localhost:8080/"
        },
        "id": "-3p1vh37MgeD",
        "outputId": "44276a86-a014-4b61-b4ef-fcde6926d747"
      },
      "execution_count": null,
      "outputs": [
        {
          "output_type": "stream",
          "name": "stdout",
          "text": [
            "What's 4+4?1\n",
            "2\n"
          ]
        }
      ]
    }
  ]
}