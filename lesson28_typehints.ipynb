{
  "nbformat": 4,
  "nbformat_minor": 0,
  "metadata": {
    "colab": {
      "provenance": [],
      "authorship_tag": "ABX9TyN9o+2Isaz9nizSXPz9Q0RO",
      "include_colab_link": true
    },
    "kernelspec": {
      "name": "python3",
      "display_name": "Python 3"
    },
    "language_info": {
      "name": "python"
    }
  },
  "cells": [
    {
      "cell_type": "markdown",
      "metadata": {
        "id": "view-in-github",
        "colab_type": "text"
      },
      "source": [
        "<a href=\"https://colab.research.google.com/github/shalynbarrios/Python-Notebook-from-NeetCode/blob/main/lesson28_typehints.ipynb\" target=\"_parent\"><img src=\"https://colab.research.google.com/assets/colab-badge.svg\" alt=\"Open In Colab\"/></a>"
      ]
    },
    {
      "cell_type": "markdown",
      "source": [
        "Lesson 28 on Type Hints"
      ],
      "metadata": {
        "id": "ZY83--b-CrqI"
      }
    },
    {
      "cell_type": "code",
      "execution_count": null,
      "metadata": {
        "id": "OBpUhwYXChlr"
      },
      "outputs": [],
      "source": [
        "def greet(name: str) -> None: #so the : str part is a type hint for a parameter\n",
        "# to add a return type hint, it's right arrow and the thing, so\n",
        "# -> None, so we expect it to not return anything\n",
        "  print(\"Hello, \" + name)\n",
        "# even though it \"returns\" a string, its only running a print statement\n",
        "# it's actually not returning anything, so None"
      ]
    },
    {
      "cell_type": "code",
      "source": [
        "def add (x: int, y: int) -> int:\n",
        "  return x + y\n",
        "\n",
        "# so the parameters (multiple paramaters are x, y) are expected to be integers\n",
        "# the return value is expected to be an integer\n",
        "\n",
        "print(add(2,3))"
      ],
      "metadata": {
        "colab": {
          "base_uri": "https://localhost:8080/"
        },
        "id": "aQo1y5VzERwP",
        "outputId": "44aca3f9-496c-4d13-9e9a-603ad65525af"
      },
      "execution_count": null,
      "outputs": [
        {
          "output_type": "execute_result",
          "data": {
            "text/plain": [
              "5"
            ]
          },
          "metadata": {},
          "execution_count": 6
        }
      ]
    },
    {
      "cell_type": "markdown",
      "source": [
        "Remember type hints don't change the function, they just make it more readable"
      ],
      "metadata": {
        "id": "-CFvNh3VEuBT"
      }
    },
    {
      "cell_type": "code",
      "source": [
        "# let's check!\n",
        "def add (x: int, y: int) -> int:\n",
        "  return x + y\n",
        "\n",
        "# so the parameters (multiple paramaters are x, y) are expected to be integers\n",
        "# the return value is expected to be an integer\n",
        "\n",
        "print(add(2,3))\n",
        "print(type(add(2,3)))"
      ],
      "metadata": {
        "colab": {
          "base_uri": "https://localhost:8080/"
        },
        "id": "Djj9GmuZEx_1",
        "outputId": "b06e9177-8bb1-4ab7-e598-cb6e4ae88e7a"
      },
      "execution_count": null,
      "outputs": [
        {
          "output_type": "stream",
          "name": "stdout",
          "text": [
            "5\n"
          ]
        },
        {
          "output_type": "execute_result",
          "data": {
            "text/plain": [
              "int"
            ]
          },
          "metadata": {},
          "execution_count": 5
        }
      ]
    },
    {
      "cell_type": "code",
      "source": [
        "def greet(name: str) -> None:\n",
        "  print(\"Hello, \" + name)\n",
        "\n",
        "print(type(greet(\"Neetcode\"))) #ran inside function first, then outside"
      ],
      "metadata": {
        "colab": {
          "base_uri": "https://localhost:8080/"
        },
        "id": "7-xRC1DIGwcL",
        "outputId": "6ecb0ad0-3936-4399-a1f3-24e296185418"
      },
      "execution_count": null,
      "outputs": [
        {
          "output_type": "stream",
          "name": "stdout",
          "text": [
            "Hello, Neetcode\n",
            "<class 'NoneType'>\n"
          ]
        }
      ]
    }
  ]
}