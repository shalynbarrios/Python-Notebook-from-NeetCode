{
  "nbformat": 4,
  "nbformat_minor": 0,
  "metadata": {
    "colab": {
      "provenance": [],
      "authorship_tag": "ABX9TyOzguLNHn5hHuNMep+7Vunb",
      "include_colab_link": true
    },
    "kernelspec": {
      "name": "python3",
      "display_name": "Python 3"
    },
    "language_info": {
      "name": "python"
    }
  },
  "cells": [
    {
      "cell_type": "markdown",
      "metadata": {
        "id": "view-in-github",
        "colab_type": "text"
      },
      "source": [
        "<a href=\"https://colab.research.google.com/github/shalynbarrios/Python-Notebook-from-NeetCode/blob/main/lesson30_globalVSlocal_scope.ipynb\" target=\"_parent\"><img src=\"https://colab.research.google.com/assets/colab-badge.svg\" alt=\"Open In Colab\"/></a>"
      ]
    },
    {
      "cell_type": "markdown",
      "source": [
        "Lesson 30 highlights the difference between global and local scope.\n"
      ],
      "metadata": {
        "id": "1RGZozNM3BwV"
      }
    },
    {
      "cell_type": "code",
      "execution_count": null,
      "metadata": {
        "colab": {
          "base_uri": "https://localhost:8080/",
          "height": 176
        },
        "id": "BaUhXPuo1jM8",
        "outputId": "f6d30f48-6a23-4197-dc03-2aa1e2172b31"
      },
      "outputs": [
        {
          "output_type": "error",
          "ename": "NameError",
          "evalue": "name 'inside_function_only' is not defined",
          "traceback": [
            "\u001b[0;31m---------------------------------------------------------------------------\u001b[0m",
            "\u001b[0;31mNameError\u001b[0m                                 Traceback (most recent call last)",
            "\u001b[0;32m<ipython-input-4-348b988c2223>\u001b[0m in \u001b[0;36m<cell line: 6>\u001b[0;34m()\u001b[0m\n\u001b[1;32m      4\u001b[0m \u001b[0;34m\u001b[0m\u001b[0m\n\u001b[1;32m      5\u001b[0m \u001b[0mdeclare_variable\u001b[0m\u001b[0;34m(\u001b[0m\u001b[0;34m)\u001b[0m\u001b[0;34m\u001b[0m\u001b[0;34m\u001b[0m\u001b[0m\n\u001b[0;32m----> 6\u001b[0;31m \u001b[0mprint\u001b[0m\u001b[0;34m(\u001b[0m\u001b[0minside_function_only\u001b[0m\u001b[0;34m)\u001b[0m\u001b[0;34m\u001b[0m\u001b[0;34m\u001b[0m\u001b[0m\n\u001b[0m",
            "\u001b[0;31mNameError\u001b[0m: name 'inside_function_only' is not defined"
          ]
        }
      ],
      "source": [
        "def declare_variable() -> None:\n",
        "  inside_function_only = 10\n",
        "  return\n",
        "\n",
        "declare_variable()\n",
        "print(inside_function_only)\n",
        "\n",
        "# this is an error because python can't find the variable\n",
        "#variables declared within a function have a local scope"
      ]
    },
    {
      "cell_type": "markdown",
      "source": [
        "In Python, variables defined inside a function have local scope. They are created when the function is called and destroyed when the function returns. They are not accessible outside the function."
      ],
      "metadata": {
        "id": "ATM5iFfg3lUr"
      }
    },
    {
      "cell_type": "code",
      "source": [
        "n = 100\n",
        "\n",
        "def print_local_variable(num: int) -> None:\n",
        "  print(num)\n",
        "  #num is only usable in the scope of this function\n",
        "\n",
        "print_local_variable(n)\n",
        "\n",
        "print(n)"
      ],
      "metadata": {
        "colab": {
          "base_uri": "https://localhost:8080/"
        },
        "id": "rNaCVnOW3rFb",
        "outputId": "4777df08-54bf-46cd-8202-846ffa6bcc6e"
      },
      "execution_count": null,
      "outputs": [
        {
          "output_type": "stream",
          "name": "stdout",
          "text": [
            "100\n",
            "100\n"
          ]
        }
      ]
    }
  ]
}