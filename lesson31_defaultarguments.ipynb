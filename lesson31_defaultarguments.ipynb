{
  "nbformat": 4,
  "nbformat_minor": 0,
  "metadata": {
    "colab": {
      "provenance": [],
      "authorship_tag": "ABX9TyMf5Vtl8coa7iC6EymoDWhP",
      "include_colab_link": true
    },
    "kernelspec": {
      "name": "python3",
      "display_name": "Python 3"
    },
    "language_info": {
      "name": "python"
    }
  },
  "cells": [
    {
      "cell_type": "markdown",
      "metadata": {
        "id": "view-in-github",
        "colab_type": "text"
      },
      "source": [
        "<a href=\"https://colab.research.google.com/github/shalynbarrios/Python-Notebook-from-NeetCode/blob/main/lesson31_defaultarguments.ipynb\" target=\"_parent\"><img src=\"https://colab.research.google.com/assets/colab-badge.svg\" alt=\"Open In Colab\"/></a>"
      ]
    },
    {
      "cell_type": "markdown",
      "source": [
        "Lesson 31 is on default arguments (like when you set up a function)"
      ],
      "metadata": {
        "id": "Fw1IRMDQ5xpT"
      }
    },
    {
      "cell_type": "code",
      "execution_count": null,
      "metadata": {
        "colab": {
          "base_uri": "https://localhost:8080/"
        },
        "id": "sDhYgbIQ5qQZ",
        "outputId": "88fd29b1-fe9d-4e73-a78b-24be6549b7ee"
      },
      "outputs": [
        {
          "output_type": "stream",
          "name": "stdout",
          "text": [
            "Hello, World!\n",
            "Hello, Bob?\n"
          ]
        }
      ],
      "source": [
        "def greet(name, punctuation = \"?\") -> None: # here, the default argument to the parameter \"punctuation\" is \"?\"\n",
        "  print(\"Hello, \" + name + punctuation)\n",
        "\n",
        "greet(\"World\", \"!\")\n",
        "greet(\"Bob\")\n",
        "# normally, we would expect an error if there aren't enough arguments to the same amount of parameters\n",
        "# but by default, we can set an argument if we don't pass anything"
      ]
    },
    {
      "cell_type": "code",
      "source": [
        "# This is VALID\n",
        "def greet(name, punctuation = \"?\") -> None:\n",
        "  print(\"Hello, \" + name + punctuation)\n",
        "\n",
        "greet(\"Bob\")\n",
        "\n",
        "# This is VALID\n",
        "def greet(name, punctuation = \"?\") -> None:\n",
        "  print(\"Hello, \" + name + punctuation)\n",
        "\n",
        "greet(\"Bob\", \"!\")"
      ],
      "metadata": {
        "colab": {
          "base_uri": "https://localhost:8080/"
        },
        "id": "oY42nYzG6eW0",
        "outputId": "08e9c087-de88-4f7b-cabf-fbd3408b0b33"
      },
      "execution_count": null,
      "outputs": [
        {
          "output_type": "stream",
          "name": "stdout",
          "text": [
            "Hello, Bob?\n",
            "Hello, Bob!\n"
          ]
        }
      ]
    },
    {
      "cell_type": "code",
      "source": [
        "# This is NOT VALID\n",
        "def greet(name = \"Bob\", punctuation) -> None:\n",
        "  print(\"Hello, \" + name + punctuation)\n",
        "\n",
        "greet(\"Bob\", \"!\")\n",
        "\n",
        "# Why is this incorrect? Because if it were, the syntax would be strange\n",
        "# It would be like,\n",
        "# greet(, \"!\")\n",
        "\n",
        "# If the first one is optional, the second one must ALSO be optional\n",
        "# so just put them at the end of the parameter list"
      ],
      "metadata": {
        "colab": {
          "base_uri": "https://localhost:8080/",
          "height": 106
        },
        "id": "-t6nHaS6619h",
        "outputId": "0491b1b2-caa7-4202-e5ca-2b34c160a9fd"
      },
      "execution_count": null,
      "outputs": [
        {
          "output_type": "error",
          "ename": "SyntaxError",
          "evalue": "non-default argument follows default argument (<ipython-input-3-71cf91ce07e6>, line 2)",
          "traceback": [
            "\u001b[0;36m  File \u001b[0;32m\"<ipython-input-3-71cf91ce07e6>\"\u001b[0;36m, line \u001b[0;32m2\u001b[0m\n\u001b[0;31m    def greet(name = \"Bob\", punctuation) -> None:\u001b[0m\n\u001b[0m                            ^\u001b[0m\n\u001b[0;31mSyntaxError\u001b[0m\u001b[0;31m:\u001b[0m non-default argument follows default argument\n"
          ]
        }
      ]
    }
  ]
}