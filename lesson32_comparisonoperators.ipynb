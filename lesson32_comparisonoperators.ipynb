{
  "nbformat": 4,
  "nbformat_minor": 0,
  "metadata": {
    "colab": {
      "provenance": [],
      "authorship_tag": "ABX9TyMT++UP7WqCjH3k2DiMVNua",
      "include_colab_link": true
    },
    "kernelspec": {
      "name": "python3",
      "display_name": "Python 3"
    },
    "language_info": {
      "name": "python"
    }
  },
  "cells": [
    {
      "cell_type": "markdown",
      "metadata": {
        "id": "view-in-github",
        "colab_type": "text"
      },
      "source": [
        "<a href=\"https://colab.research.google.com/github/shalynbarrios/Python-Notebook-from-NeetCode/blob/main/lesson32_comparisonoperators.ipynb\" target=\"_parent\"><img src=\"https://colab.research.google.com/assets/colab-badge.svg\" alt=\"Open In Colab\"/></a>"
      ]
    },
    {
      "cell_type": "markdown",
      "source": [
        "Lesson 32 is on Comparison Operators\n",
        "\n",
        "They evaluate and compare whether or not something (values) is true or false"
      ],
      "metadata": {
        "id": "uenyStmZ_6PE"
      }
    },
    {
      "cell_type": "code",
      "execution_count": null,
      "metadata": {
        "colab": {
          "base_uri": "https://localhost:8080/"
        },
        "id": "J3vp7lL97nq4",
        "outputId": "97f37f36-2699-40a7-ac19-b471b02bb928"
      },
      "outputs": [
        {
          "output_type": "stream",
          "name": "stdout",
          "text": [
            "False\n"
          ]
        }
      ],
      "source": [
        "# for example, to check if two values are equal, we can use ==\n",
        "# remember, = is assignment. == is to compare\n",
        "\n",
        "x, y = 3, 5\n",
        "print(x == y)\n",
        "\n",
        "# this will print false b/c we're asking if x is equal to y, which they are not\n",
        "# 3 does not equal 5"
      ]
    },
    {
      "cell_type": "code",
      "source": [
        "# other comparison operators include\n",
        "\n",
        "# == (equal to)\n",
        "\n",
        "# != (not equal to)\n",
        "\n",
        "# < less than\n",
        "\n",
        "# > greater than\n",
        "\n",
        "# <= less than or equal to\n",
        "\n",
        "# >= greater than or equal to"
      ],
      "metadata": {
        "id": "G07-wnVjAdx7"
      },
      "execution_count": null,
      "outputs": []
    },
    {
      "cell_type": "code",
      "source": [
        "def check_equal(x,y) -> bool:\n",
        "    return x == y\n",
        "print(check_equal(3,5))\n",
        "\n",
        "def check_not_equal(x,y) -> bool:\n",
        "    return x != y\n",
        "print(check_not_equal(3,5))\n",
        "\n",
        "def check_less_than(x,y) -> bool:\n",
        "    return x < y\n",
        "print(check_less_than(3,5))\n",
        "\n",
        "def check_greater_than(x,y) -> bool:\n",
        "    return x > y\n",
        "print(check_greater_than(3,5))\n",
        "\n",
        "def check_less_than_orequal(x,y) -> bool:\n",
        "    return x <= y\n",
        "print(check_less_than_orequal(3,5))\n",
        "\n",
        "def check_greater_than_orequal(x,y) -> bool:\n",
        "    return x >= y\n",
        "print(check_greater_than_orequal(3,5))"
      ],
      "metadata": {
        "colab": {
          "base_uri": "https://localhost:8080/"
        },
        "id": "iDIgGHpUAy97",
        "outputId": "865b9506-440e-46fa-a9cf-0bafbf2c0e20"
      },
      "execution_count": null,
      "outputs": [
        {
          "output_type": "stream",
          "name": "stdout",
          "text": [
            "False\n",
            "True\n",
            "True\n",
            "False\n",
            "True\n",
            "False\n"
          ]
        }
      ]
    }
  ]
}