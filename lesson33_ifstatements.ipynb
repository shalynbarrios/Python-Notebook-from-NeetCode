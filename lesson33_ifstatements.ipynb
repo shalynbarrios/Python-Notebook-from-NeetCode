{
  "nbformat": 4,
  "nbformat_minor": 0,
  "metadata": {
    "colab": {
      "provenance": [],
      "authorship_tag": "ABX9TyOWTPlFdV2/iUbqjroHEtCz",
      "include_colab_link": true
    },
    "kernelspec": {
      "name": "python3",
      "display_name": "Python 3"
    },
    "language_info": {
      "name": "python"
    }
  },
  "cells": [
    {
      "cell_type": "markdown",
      "metadata": {
        "id": "view-in-github",
        "colab_type": "text"
      },
      "source": [
        "<a href=\"https://colab.research.google.com/github/shalynbarrios/Python-Notebook-from-NeetCode/blob/main/lesson33_ifstatements.ipynb\" target=\"_parent\"><img src=\"https://colab.research.google.com/assets/colab-badge.svg\" alt=\"Open In Colab\"/></a>"
      ]
    },
    {
      "cell_type": "markdown",
      "source": [
        "Lesson 33 is on If Statements"
      ],
      "metadata": {
        "id": "6baFYk5GCVgZ"
      }
    },
    {
      "cell_type": "code",
      "execution_count": null,
      "metadata": {
        "id": "0ct-3co6CP_A"
      },
      "outputs": [],
      "source": [
        "account_balance = -100\n",
        "\n",
        "if account_balance < 0:\n",
        "    print(\"Account Balance is Negative\")"
      ]
    },
    {
      "cell_type": "code",
      "source": [
        "def is_balance_low(balance:int)-> None:\n",
        "    if balance <= 100:\n",
        "        print(\"Account Balance is Low\")\n",
        "    else:\n",
        "        print(\"Account Balance is GOOD!\")\n",
        "\n",
        "is_balance_low(200)\n",
        "\n",
        "# remember, here i don't need to print"
      ],
      "metadata": {
        "colab": {
          "base_uri": "https://localhost:8080/"
        },
        "id": "Y6it_cmyCzK7",
        "outputId": "1a6107ac-ec69-4adf-f6c7-52c130973ba9"
      },
      "execution_count": null,
      "outputs": [
        {
          "output_type": "stream",
          "name": "stdout",
          "text": [
            "Account Balance is GOOD!\n"
          ]
        }
      ]
    },
    {
      "cell_type": "code",
      "source": [
        "def is_balance_low(balance: int) -> str:\n",
        "    if balance <= 100:\n",
        "        return \"Account Balance is Low\"\n",
        "    else:\n",
        "        return \"Account Balance is GOOD!\"\n",
        "\n",
        "print(is_balance_low(200))  # Output: Account Balance is GOOD!\n",
        "\n",
        "# here, i would need to print! because i am returning something, but that doesn't mean it will show up in\n",
        "# the console"
      ],
      "metadata": {
        "id": "j0SeNdwADdmt"
      },
      "execution_count": null,
      "outputs": []
    }
  ]
}