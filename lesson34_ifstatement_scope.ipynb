{
  "nbformat": 4,
  "nbformat_minor": 0,
  "metadata": {
    "colab": {
      "provenance": [],
      "authorship_tag": "ABX9TyNLuXbVuykStCyyNAwUs6pF",
      "include_colab_link": true
    },
    "kernelspec": {
      "name": "python3",
      "display_name": "Python 3"
    },
    "language_info": {
      "name": "python"
    }
  },
  "cells": [
    {
      "cell_type": "markdown",
      "metadata": {
        "id": "view-in-github",
        "colab_type": "text"
      },
      "source": [
        "<a href=\"https://colab.research.google.com/github/shalynbarrios/Python-Notebook-from-NeetCode/blob/main/lesson34_ifstatement_scope.ipynb\" target=\"_parent\"><img src=\"https://colab.research.google.com/assets/colab-badge.svg\" alt=\"Open In Colab\"/></a>"
      ]
    },
    {
      "cell_type": "markdown",
      "source": [
        "Lesson 34 is about the If Statement's Scope"
      ],
      "metadata": {
        "id": "0XwEIIC_EHMp"
      }
    },
    {
      "cell_type": "code",
      "execution_count": null,
      "metadata": {
        "colab": {
          "base_uri": "https://localhost:8080/"
        },
        "id": "H03DXUqkDw51",
        "outputId": "f8b0b521-11c0-4ccf-d2cd-e388e326ae2e"
      },
      "outputs": [
        {
          "output_type": "stream",
          "name": "stdout",
          "text": [
            "Hello, Earthling!\n"
          ]
        }
      ],
      "source": [
        "# unlike functions, if statements do NOT create a new scope!\n",
        "# this means that variables defined inside an if statement are accessible outside for global scope\n",
        "\n",
        "if True:\n",
        "  message = \"Hello, Earthling!\"\n",
        "\n",
        "print(message)\n",
        "\n",
        "# the variable message, although defined in the if statement, will print when called to print in the global scope"
      ]
    },
    {
      "cell_type": "code",
      "source": [
        "if True:\n",
        "  message = \"Hello, Earthling!\"\n",
        "  print(message)\n",
        "\n",
        "# both of these work!"
      ],
      "metadata": {
        "id": "G9QzpTncEs0A"
      },
      "execution_count": null,
      "outputs": []
    },
    {
      "cell_type": "markdown",
      "source": [
        "Here's another example"
      ],
      "metadata": {
        "id": "8_SMzI3CFdEJ"
      }
    },
    {
      "cell_type": "code",
      "source": [
        "balance = -100\n",
        "\n",
        "if balance < 0:\n",
        "  balance = 0\n",
        "\n",
        "print(balance)\n",
        "\n",
        "# a new \"balance\" was not created\n",
        "# you can update variables and their respected values inside of a if statement"
      ],
      "metadata": {
        "id": "m9-nf8GyFcyi"
      },
      "execution_count": null,
      "outputs": []
    },
    {
      "cell_type": "markdown",
      "source": [
        "What about an If Statement inside a function?\n",
        "\n",
        "If Statements have the same scope as the function"
      ],
      "metadata": {
        "id": "K_-0uG7PE73V"
      }
    },
    {
      "cell_type": "code",
      "source": [
        "def is_balance_low(balance: int) -> None:\n",
        "  if balance <= 100:\n",
        "    message1 = \"Low Balance\"\n",
        "  print(message1)\n",
        "\n",
        "is_balance_low(50)\n",
        "print(message1)\n",
        "\n",
        "# this will cause an error b/c message1 was inside the scope of the function, and as we know,\n",
        "# once a function has been run, it's done\n",
        "# so the global scope does not have access to the function scope of is_balance_low()"
      ],
      "metadata": {
        "colab": {
          "base_uri": "https://localhost:8080/",
          "height": 193
        },
        "id": "QzXhpLBHEvjv",
        "outputId": "0866fa8e-cd82-4a26-dd83-d984742da09f"
      },
      "execution_count": null,
      "outputs": [
        {
          "output_type": "stream",
          "name": "stdout",
          "text": [
            "Low Balance\n"
          ]
        },
        {
          "output_type": "error",
          "ename": "NameError",
          "evalue": "name 'message1' is not defined",
          "traceback": [
            "\u001b[0;31m---------------------------------------------------------------------------\u001b[0m",
            "\u001b[0;31mNameError\u001b[0m                                 Traceback (most recent call last)",
            "\u001b[0;32m<ipython-input-6-24110fc6c6c8>\u001b[0m in \u001b[0;36m<cell line: 7>\u001b[0;34m()\u001b[0m\n\u001b[1;32m      5\u001b[0m \u001b[0;34m\u001b[0m\u001b[0m\n\u001b[1;32m      6\u001b[0m \u001b[0mis_balance_low\u001b[0m\u001b[0;34m(\u001b[0m\u001b[0;36m50\u001b[0m\u001b[0;34m)\u001b[0m\u001b[0;34m\u001b[0m\u001b[0;34m\u001b[0m\u001b[0m\n\u001b[0;32m----> 7\u001b[0;31m \u001b[0mprint\u001b[0m\u001b[0;34m(\u001b[0m\u001b[0mmessage1\u001b[0m\u001b[0;34m)\u001b[0m\u001b[0;34m\u001b[0m\u001b[0;34m\u001b[0m\u001b[0m\n\u001b[0m",
            "\u001b[0;31mNameError\u001b[0m: name 'message1' is not defined"
          ]
        }
      ]
    },
    {
      "cell_type": "code",
      "source": [
        "def pay_bill(balance: int, bill: int)-> int:\n",
        "  new_balance = balance\n",
        "  if balance >= bill:\n",
        "    new_balance = balance - bill\n",
        "  return new_balance # remember, return finishes executing the function\n",
        "\n",
        "print(pay_bill(100, 20))\n",
        "print(pay_bill(20, 30))"
      ],
      "metadata": {
        "colab": {
          "base_uri": "https://localhost:8080/"
        },
        "id": "oXANRaIKG18d",
        "outputId": "af8c4096-9e56-4a24-83c4-aa26a00583ca"
      },
      "execution_count": null,
      "outputs": [
        {
          "output_type": "stream",
          "name": "stdout",
          "text": [
            "80\n",
            "20\n"
          ]
        }
      ]
    }
  ]
}