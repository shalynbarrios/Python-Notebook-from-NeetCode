{
  "nbformat": 4,
  "nbformat_minor": 0,
  "metadata": {
    "colab": {
      "provenance": [],
      "authorship_tag": "ABX9TyMjOFM/CclGgQrBDx8RHi9z",
      "include_colab_link": true
    },
    "kernelspec": {
      "name": "python3",
      "display_name": "Python 3"
    },
    "language_info": {
      "name": "python"
    }
  },
  "cells": [
    {
      "cell_type": "markdown",
      "metadata": {
        "id": "view-in-github",
        "colab_type": "text"
      },
      "source": [
        "<a href=\"https://colab.research.google.com/github/shalynbarrios/Python-Notebook-from-NeetCode/blob/main/lesson35_ifelse.ipynb\" target=\"_parent\"><img src=\"https://colab.research.google.com/assets/colab-badge.svg\" alt=\"Open In Colab\"/></a>"
      ]
    },
    {
      "cell_type": "markdown",
      "source": [
        "Lesson 34 is on If Else Statements"
      ],
      "metadata": {
        "id": "UC7msLljxxMI"
      }
    },
    {
      "cell_type": "code",
      "execution_count": null,
      "metadata": {
        "colab": {
          "base_uri": "https://localhost:8080/"
        },
        "id": "uYSgckOcxrqc",
        "outputId": "63d28c9b-ab06-45e3-8e5b-76bd0f284f07"
      },
      "outputs": [
        {
          "output_type": "stream",
          "name": "stdout",
          "text": [
            "You have a positive balance\n"
          ]
        }
      ],
      "source": [
        "balance = 100\n",
        "\n",
        "if balance < 0:\n",
        "  print(\"You have a negative balance\")\n",
        "else:\n",
        "  print(\"You have a positive balance\")"
      ]
    },
    {
      "cell_type": "code",
      "source": [
        "# you can use multiple return statements\n",
        "# because if one wo't run, the other one will\n",
        "\n",
        "def get_max(a: int, b: int) -> int:\n",
        "  if a > b:\n",
        "    return a # return statement stops the function\n",
        "  else:\n",
        "    return b # also here\n",
        "\n",
        "print(get_max(1, 2))"
      ],
      "metadata": {
        "colab": {
          "base_uri": "https://localhost:8080/"
        },
        "id": "DTQcRXhwyiUz",
        "outputId": "2b9f42c2-0c6a-4bb5-bc39-27dbb3eaa3e8"
      },
      "execution_count": null,
      "outputs": [
        {
          "output_type": "stream",
          "name": "stdout",
          "text": [
            "2\n"
          ]
        }
      ]
    },
    {
      "cell_type": "code",
      "source": [
        "def get_min(x: int, y: int) -> int:\n",
        "  if x <= y:\n",
        "    return x\n",
        "  else:\n",
        "    return y\n",
        "\n",
        "print(get_min(1, 2))\n",
        "print(get_min(5, 3))"
      ],
      "metadata": {
        "colab": {
          "base_uri": "https://localhost:8080/"
        },
        "id": "07PWRNqHzXh8",
        "outputId": "5a5d0e56-eb85-435f-ebf7-1f84529339f4"
      },
      "execution_count": null,
      "outputs": [
        {
          "output_type": "stream",
          "name": "stdout",
          "text": [
            "1\n",
            "3\n"
          ]
        }
      ]
    },
    {
      "cell_type": "code",
      "source": [
        "# with the whole return statement stops the function\n",
        "# in mind, we can do it like this\n",
        "def get_min(x: int, y: int) -> int:\n",
        "  if x <= y:\n",
        "    return x # b/c if it has reached to this return, the if statement\n",
        "            # would be true, and if it didn't reach, then it would\n",
        "            # be y which is what we would get with else\n",
        "  return y\n",
        "\n",
        "print(get_min(1, 2))\n",
        "print(get_min(5, 3))"
      ],
      "metadata": {
        "colab": {
          "base_uri": "https://localhost:8080/"
        },
        "id": "x-PurINCzrdH",
        "outputId": "c3ba8918-b0ef-4b5e-cffe-1c512428449e"
      },
      "execution_count": null,
      "outputs": [
        {
          "output_type": "stream",
          "name": "stdout",
          "text": [
            "1\n",
            "3\n"
          ]
        }
      ]
    }
  ]
}