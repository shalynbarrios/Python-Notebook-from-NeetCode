{
  "nbformat": 4,
  "nbformat_minor": 0,
  "metadata": {
    "colab": {
      "provenance": [],
      "authorship_tag": "ABX9TyPCfpB6y/dFwynIWHQD22ZT",
      "include_colab_link": true
    },
    "kernelspec": {
      "name": "python3",
      "display_name": "Python 3"
    },
    "language_info": {
      "name": "python"
    }
  },
  "cells": [
    {
      "cell_type": "markdown",
      "metadata": {
        "id": "view-in-github",
        "colab_type": "text"
      },
      "source": [
        "<a href=\"https://colab.research.google.com/github/shalynbarrios/Python-Notebook-from-NeetCode/blob/main/lesson36_elif.ipynb\" target=\"_parent\"><img src=\"https://colab.research.google.com/assets/colab-badge.svg\" alt=\"Open In Colab\"/></a>"
      ]
    },
    {
      "cell_type": "markdown",
      "source": [
        "Lesson 35 is on Elif Statements"
      ],
      "metadata": {
        "id": "xIHYJdLz26pV"
      }
    },
    {
      "cell_type": "code",
      "execution_count": null,
      "metadata": {
        "colab": {
          "base_uri": "https://localhost:8080/"
        },
        "id": "KZvkWMAA0UqW",
        "outputId": "b881d3d5-9b2a-40d4-a2ce-f0f91c0e932c"
      },
      "outputs": [
        {
          "output_type": "stream",
          "name": "stdout",
          "text": [
            "yay!!!\n"
          ]
        }
      ],
      "source": [
        "balance = 1000\n",
        "if balance < 0:\n",
        "  print(\"uh oh\")\n",
        "elif balance == 0:\n",
        "  print(\"no money\")\n",
        "elif balance < 400:\n",
        "  print(\"yay!\")\n",
        "else:\n",
        "  print(\"yay!!!\")\n",
        "\n",
        "\n",
        "# in a chain like this of if elif else, only one of the conditions\n",
        "# will ever run\n",
        "# as soon as it finds one, it'll run and not check the others"
      ]
    },
    {
      "cell_type": "code",
      "source": [
        "def check_range(num: int) -> str:\n",
        "  if num < 0:\n",
        "    print(\"negative\")\n",
        "  elif num == 0:\n",
        "    print (\"zero\")\n",
        "  elif num < 10:\n",
        "    print(\"single digit\")\n",
        "  else:\n",
        "    print(\"posititve multi\")\n",
        "\n",
        "check_range(10)\n",
        "check_range(-1)\n",
        "check_range(0)\n",
        "check_range(9)\n"
      ],
      "metadata": {
        "colab": {
          "base_uri": "https://localhost:8080/"
        },
        "id": "7bbgnCHk3t1F",
        "outputId": "6aa64e8b-6ea4-44b2-d347-2fbe94001eef"
      },
      "execution_count": null,
      "outputs": [
        {
          "output_type": "stream",
          "name": "stdout",
          "text": [
            "posititve multi\n",
            "negative\n",
            "zero\n",
            "single digit\n"
          ]
        }
      ]
    }
  ]
}