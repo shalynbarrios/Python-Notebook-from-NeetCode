{
  "nbformat": 4,
  "nbformat_minor": 0,
  "metadata": {
    "colab": {
      "provenance": [],
      "authorship_tag": "ABX9TyOsY1EVC+6yTaGQ7/TB2xim",
      "include_colab_link": true
    },
    "kernelspec": {
      "name": "python3",
      "display_name": "Python 3"
    },
    "language_info": {
      "name": "python"
    }
  },
  "cells": [
    {
      "cell_type": "markdown",
      "metadata": {
        "id": "view-in-github",
        "colab_type": "text"
      },
      "source": [
        "<a href=\"https://colab.research.google.com/github/shalynbarrios/Python-Notebook-from-NeetCode/blob/main/lesson37_logicconditions.ipynb\" target=\"_parent\"><img src=\"https://colab.research.google.com/assets/colab-badge.svg\" alt=\"Open In Colab\"/></a>"
      ]
    },
    {
      "cell_type": "markdown",
      "source": [
        "Lesson 37 is on Logic Conditions\n",
        "\n",
        "So Logical Operators in If Else Statements"
      ],
      "metadata": {
        "id": "8v5fb9Tk7KmF"
      }
    },
    {
      "cell_type": "code",
      "execution_count": null,
      "metadata": {
        "colab": {
          "base_uri": "https://localhost:8080/"
        },
        "id": "hv0Ag38h7JVw",
        "outputId": "9b18de2d-3fce-4dad-88ec-f71ec7c01abb"
      },
      "outputs": [
        {
          "output_type": "stream",
          "name": "stdout",
          "text": [
            "Balance is between 0 and 1000\n"
          ]
        }
      ],
      "source": [
        "balance = 500\n",
        "if balance > 0 and balance < 1000: # so it's asking, if both of these are true\n",
        "  print(\"Balance is between 0 and 1000\")"
      ]
    },
    {
      "cell_type": "code",
      "source": [
        "x, y = 2, 5\n",
        "if x > 1 or y == 1: # it's asking one of these is true\n",
        "  print(\"At least one of the conditions is true\")"
      ],
      "metadata": {
        "colab": {
          "base_uri": "https://localhost:8080/"
        },
        "id": "yAe-KpJT8MSP",
        "outputId": "626dece2-ef97-470f-aafa-2b326065cf2c"
      },
      "execution_count": null,
      "outputs": [
        {
          "output_type": "stream",
          "name": "stdout",
          "text": [
            "At least one of the conditions is true\n"
          ]
        }
      ]
    },
    {
      "cell_type": "code",
      "source": [
        "def discount_applies(age: int)->bool:\n",
        "  if age < 18 or age >= 65:\n",
        "    return True\n",
        "  return False\n",
        "\n",
        "print(\"Does the discount apply? \" + str(discount_applies(15)))\n",
        "print(\"Does the discount apply? \" + str(discount_applies(25)))"
      ],
      "metadata": {
        "colab": {
          "base_uri": "https://localhost:8080/"
        },
        "id": "gGG2YMqP8ZH4",
        "outputId": "b8de08f6-81a1-42b6-93f7-4c25472f0464"
      },
      "execution_count": null,
      "outputs": [
        {
          "output_type": "stream",
          "name": "stdout",
          "text": [
            "Does the discount apply? True\n",
            "Does the discount apply? False\n"
          ]
        }
      ]
    }
  ]
}