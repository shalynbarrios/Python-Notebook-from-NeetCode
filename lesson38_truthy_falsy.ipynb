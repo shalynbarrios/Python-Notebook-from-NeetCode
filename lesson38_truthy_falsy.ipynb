{
  "nbformat": 4,
  "nbformat_minor": 0,
  "metadata": {
    "colab": {
      "provenance": [],
      "authorship_tag": "ABX9TyOA+xDJJ4Vn8M7ka3JoI852",
      "include_colab_link": true
    },
    "kernelspec": {
      "name": "python3",
      "display_name": "Python 3"
    },
    "language_info": {
      "name": "python"
    }
  },
  "cells": [
    {
      "cell_type": "markdown",
      "metadata": {
        "id": "view-in-github",
        "colab_type": "text"
      },
      "source": [
        "<a href=\"https://colab.research.google.com/github/shalynbarrios/Python-Notebook-from-NeetCode/blob/main/lesson38_truthy_falsy.ipynb\" target=\"_parent\"><img src=\"https://colab.research.google.com/assets/colab-badge.svg\" alt=\"Open In Colab\"/></a>"
      ]
    },
    {
      "cell_type": "markdown",
      "source": [
        "Lesson 37 is on Truthy and Falsy"
      ],
      "metadata": {
        "id": "e9xW85sGS8Kf"
      }
    },
    {
      "cell_type": "code",
      "execution_count": null,
      "metadata": {
        "colab": {
          "base_uri": "https://localhost:8080/"
        },
        "id": "DnblshXZSzBA",
        "outputId": "bb6b0076-4f90-4486-fd7d-5441f7780685"
      },
      "outputs": [
        {
          "output_type": "stream",
          "name": "stdout",
          "text": [
            "Message is not empty 2\n"
          ]
        }
      ],
      "source": [
        "msg = \"\"\n",
        "if msg:\n",
        "  print(\"Message is not empty 1\") # this will not be printed\n",
        "\n",
        "msg = \" \"\n",
        "if msg:\n",
        "  print(\"Message is not empty 2\") # this will be printed"
      ]
    },
    {
      "cell_type": "code",
      "source": [
        "# \"Truthy\" and \"falsy\" refer to values that act like True or False in conditions.\n",
        "# Falsy values include empty strings, 0, None, empty lists, etc., while all others are truthy.\n",
        "# Using truthy/falsy values can simplify condition checks and\n",
        "# make code more concise.\n",
        "\n",
        "my_list = [2,3]\n",
        "\n",
        "# Without truthy/falsy shorthand\n",
        "if len(my_list) > 0:\n",
        "    print(\"The list has items\")\n",
        "\n",
        "# Using truthy/falsy shorthand\n",
        "if my_list:\n",
        "    print(\"The list has items\")\n",
        "\n",
        "# Here, if my_list implicitly checks if the list is non-empty\n",
        "# by relying on the truthy/falsy behavior. A non-empty list is truthy,\n",
        "# so it will evaluate to True in the condition.\n"
      ],
      "metadata": {
        "colab": {
          "base_uri": "https://localhost:8080/"
        },
        "id": "jUj18BZIUqCz",
        "outputId": "f51cfe5c-30db-46fd-d235-946edcd5d923"
      },
      "execution_count": null,
      "outputs": [
        {
          "output_type": "stream",
          "name": "stdout",
          "text": [
            "The list has items\n",
            "The list has items\n"
          ]
        }
      ]
    },
    {
      "cell_type": "code",
      "source": [
        "num = 5  # A non-zero number\n",
        "\n",
        "# Without truthy/falsy shorthand\n",
        "if num != 0:\n",
        "    print(\"The number is non-zero (truthy)\")\n",
        "\n",
        "# Using truthy/falsy shorthand\n",
        "if num:\n",
        "    print(\"The number is non-zero (truthy)\")\n",
        "\n",
        "# ok so, truthy is essentially True, non-zero, non-empty things (lists)\n",
        "# falsy is False, zero, empty things (lists)\n"
      ],
      "metadata": {
        "colab": {
          "base_uri": "https://localhost:8080/"
        },
        "id": "2va5_WGSU6mW",
        "outputId": "7d21781a-ff87-4a8e-cbbe-ddb79817bc60"
      },
      "execution_count": null,
      "outputs": [
        {
          "output_type": "stream",
          "name": "stdout",
          "text": [
            "The number is non-zero (truthy)\n",
            "The number is non-zero (truthy)\n"
          ]
        }
      ]
    }
  ]
}