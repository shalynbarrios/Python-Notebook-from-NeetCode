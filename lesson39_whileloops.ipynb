{
  "nbformat": 4,
  "nbformat_minor": 0,
  "metadata": {
    "colab": {
      "provenance": [],
      "authorship_tag": "ABX9TyOt8t2/lidh/JFKptJFKPkw",
      "include_colab_link": true
    },
    "kernelspec": {
      "name": "python3",
      "display_name": "Python 3"
    },
    "language_info": {
      "name": "python"
    }
  },
  "cells": [
    {
      "cell_type": "markdown",
      "metadata": {
        "id": "view-in-github",
        "colab_type": "text"
      },
      "source": [
        "<a href=\"https://colab.research.google.com/github/shalynbarrios/Python-Notebook-from-NeetCode/blob/main/lesson39_whileloops.ipynb\" target=\"_parent\"><img src=\"https://colab.research.google.com/assets/colab-badge.svg\" alt=\"Open In Colab\"/></a>"
      ]
    },
    {
      "cell_type": "markdown",
      "source": [
        "Lesson 38 is on While Loops"
      ],
      "metadata": {
        "id": "zT6rKh_CZVUK"
      }
    },
    {
      "cell_type": "code",
      "execution_count": null,
      "metadata": {
        "id": "cr7ADp_fXqtS"
      },
      "outputs": [],
      "source": [
        "# what if we want to print something a lot?\n",
        "# we could use a function... but we'd have to call that 5 times anyway\n",
        "# we could use an if statement, but that's also quite a few lines"
      ]
    },
    {
      "cell_type": "code",
      "source": [
        "# well, there's these things called loops!\n",
        "# and as you might imagine, they loop a select code over and over\n",
        "# as infinitely times as you want (though we steer from that b/c it can crash)\n",
        "# so we can introduce the while loop"
      ],
      "metadata": {
        "id": "RLDMLi6aZhwd"
      },
      "execution_count": null,
      "outputs": []
    },
    {
      "cell_type": "code",
      "source": [
        "# the while loop is like saying\n",
        "# while this is true...\n",
        "# run this\n",
        "\n",
        "i = 0\n",
        "while i < 5: # checks condition over and over\n",
        "  print(\"I love python!\")\n",
        "  i += 1\n",
        "\n",
        "# this won't crash b/c it will stop when i is equal to or greater than 5\n",
        "# and we've insured it will reach that point b/c of line 8\n",
        "# line 8 means i = i+1 and that runs everytime it passes thru\n",
        "# eventually reaching 5, stopping the loop"
      ],
      "metadata": {
        "colab": {
          "base_uri": "https://localhost:8080/"
        },
        "id": "2SFho13-Zzfw",
        "outputId": "2b636d73-d033-4ab8-c059-6c454c0c1021"
      },
      "execution_count": null,
      "outputs": [
        {
          "output_type": "stream",
          "name": "stdout",
          "text": [
            "I love python!\n",
            "I love python!\n",
            "I love python!\n",
            "I love python!\n",
            "I love python!\n"
          ]
        }
      ]
    },
    {
      "cell_type": "code",
      "source": [
        "n = 1\n",
        "while n < 13: # n <= 12 also works\n",
        "  print(\"I know how to use while loops\")\n",
        "  n += 1"
      ],
      "metadata": {
        "colab": {
          "base_uri": "https://localhost:8080/"
        },
        "id": "3UZlCQOXZ-pW",
        "outputId": "97359e85-f266-4201-cfaf-8fd32f39ae0b"
      },
      "execution_count": null,
      "outputs": [
        {
          "output_type": "stream",
          "name": "stdout",
          "text": [
            "I know how to use while loops\n",
            "I know how to use while loops\n",
            "I know how to use while loops\n",
            "I know how to use while loops\n",
            "I know how to use while loops\n",
            "I know how to use while loops\n",
            "I know how to use while loops\n",
            "I know how to use while loops\n",
            "I know how to use while loops\n",
            "I know how to use while loops\n",
            "I know how to use while loops\n",
            "I know how to use while loops\n"
          ]
        }
      ]
    },
    {
      "cell_type": "code",
      "source": [
        "n = 0\n",
        "while n < 12:\n",
        "  print(\"I know how to use while loops\")\n",
        "  n+=1"
      ],
      "metadata": {
        "colab": {
          "base_uri": "https://localhost:8080/"
        },
        "id": "Hgf0rnXhazq7",
        "outputId": "9a1f9412-4741-4370-8327-7f0f52b94eca"
      },
      "execution_count": null,
      "outputs": [
        {
          "output_type": "stream",
          "name": "stdout",
          "text": [
            "I know how to use while loops\n",
            "I know how to use while loops\n",
            "I know how to use while loops\n",
            "I know how to use while loops\n",
            "I know how to use while loops\n",
            "I know how to use while loops\n",
            "I know how to use while loops\n",
            "I know how to use while loops\n",
            "I know how to use while loops\n",
            "I know how to use while loops\n",
            "I know how to use while loops\n",
            "I know how to use while loops\n"
          ]
        }
      ]
    },
    {
      "cell_type": "code",
      "source": [
        "# for context, starting at 0 is much more common.\n",
        "\n",
        "i = 0\n",
        "while i < 2:\n",
        "  print(\"hi again!\")\n",
        "  i += 1"
      ],
      "metadata": {
        "colab": {
          "base_uri": "https://localhost:8080/"
        },
        "id": "knbN0R58b4eH",
        "outputId": "e73c822a-2192-4a0e-db74-973ab03ee679"
      },
      "execution_count": null,
      "outputs": [
        {
          "output_type": "stream",
          "name": "stdout",
          "text": [
            "hi again!\n",
            "hi again!\n"
          ]
        }
      ]
    }
  ]
}