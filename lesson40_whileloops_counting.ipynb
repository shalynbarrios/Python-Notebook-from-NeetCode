{
  "nbformat": 4,
  "nbformat_minor": 0,
  "metadata": {
    "colab": {
      "provenance": [],
      "authorship_tag": "ABX9TyMN1cBzPARzdbfGFJ+CZMsp",
      "include_colab_link": true
    },
    "kernelspec": {
      "name": "python3",
      "display_name": "Python 3"
    },
    "language_info": {
      "name": "python"
    }
  },
  "cells": [
    {
      "cell_type": "markdown",
      "metadata": {
        "id": "view-in-github",
        "colab_type": "text"
      },
      "source": [
        "<a href=\"https://colab.research.google.com/github/shalynbarrios/Python-Notebook-from-NeetCode/blob/main/lesson40_whileloops_counting.ipynb\" target=\"_parent\"><img src=\"https://colab.research.google.com/assets/colab-badge.svg\" alt=\"Open In Colab\"/></a>"
      ]
    },
    {
      "cell_type": "markdown",
      "source": [
        "Lesson 39 is on While Loops Counting"
      ],
      "metadata": {
        "id": "PfJqCr1-cYgq"
      }
    },
    {
      "cell_type": "code",
      "execution_count": null,
      "metadata": {
        "colab": {
          "base_uri": "https://localhost:8080/"
        },
        "id": "dNvZI_w7cUHp",
        "outputId": "27cb4582-ef5e-49e5-b3b1-c14cd4c02cba"
      },
      "outputs": [
        {
          "output_type": "stream",
          "name": "stdout",
          "text": [
            "0\n",
            "1\n",
            "2\n",
            "3\n",
            "4\n",
            "5\n",
            "6\n",
            "7\n",
            "8\n",
            "9\n"
          ]
        }
      ],
      "source": [
        "n = 0\n",
        "while n <= 9:\n",
        "  print(n)\n",
        "  n += 1"
      ]
    },
    {
      "cell_type": "code",
      "source": [
        "# what about multiples of 10?\n",
        "# we'll stop at 90\n",
        "\n",
        "n = 10\n",
        "while n <= 90:\n",
        "  print(n)\n",
        "  n+=10"
      ],
      "metadata": {
        "colab": {
          "base_uri": "https://localhost:8080/"
        },
        "id": "yO_tPZ_ddJtP",
        "outputId": "df2a528f-ac61-465e-b0b3-605455db16d7"
      },
      "execution_count": null,
      "outputs": [
        {
          "output_type": "stream",
          "name": "stdout",
          "text": [
            "10\n",
            "20\n",
            "30\n",
            "40\n",
            "50\n",
            "60\n",
            "70\n",
            "80\n",
            "90\n"
          ]
        }
      ]
    },
    {
      "cell_type": "code",
      "source": [
        "x = 5\n",
        "while x >= 1: # bound!\n",
        "  print(x)\n",
        "  x -= 1\n",
        "print(\"Liftoff!\")"
      ],
      "metadata": {
        "colab": {
          "base_uri": "https://localhost:8080/"
        },
        "id": "_QuD8mK8eOlC",
        "outputId": "7e2a33ae-13f2-4254-be03-ab982ba63e8a"
      },
      "execution_count": null,
      "outputs": [
        {
          "output_type": "stream",
          "name": "stdout",
          "text": [
            "5\n",
            "4\n",
            "3\n",
            "2\n",
            "1\n",
            "Liftoff!\n"
          ]
        }
      ]
    },
    {
      "cell_type": "code",
      "source": [
        "n = 1\n",
        "total = 0\n",
        "while n<=10: # will run 10 times\n",
        "  total += n # adds to the piggy bank and keep tabs...1+2+3..\n",
        "  n+= 1 # this creates the new value of n to continue in the loop until it's 11\n",
        "print(total) # the sum of total values from 1 to 10"
      ],
      "metadata": {
        "colab": {
          "base_uri": "https://localhost:8080/"
        },
        "id": "0FDQCxSrexuJ",
        "outputId": "29eb8961-9e8f-4616-9a06-d6cd1237a1b8"
      },
      "execution_count": null,
      "outputs": [
        {
          "output_type": "stream",
          "name": "stdout",
          "text": [
            "55\n"
          ]
        }
      ]
    },
    {
      "cell_type": "code",
      "source": [
        "n = 10\n",
        "while n >= 1:  # Loop runs as long as n is 1 or greater\n",
        "  print(n)     # Prints the current value of n\n",
        "  n -= 1       # Decreases n by 1 on each iteration\n",
        "print(\"Blastoff!\")  # Prints after the loop finishes"
      ],
      "metadata": {
        "colab": {
          "base_uri": "https://localhost:8080/"
        },
        "id": "X3wSHobUgSiw",
        "outputId": "067c3db6-3424-4953-ef7a-ea5eb9acfbb8"
      },
      "execution_count": null,
      "outputs": [
        {
          "output_type": "stream",
          "name": "stdout",
          "text": [
            "10\n",
            "9\n",
            "8\n",
            "7\n",
            "6\n",
            "5\n",
            "4\n",
            "3\n",
            "2\n",
            "1\n",
            "blastoff!\n"
          ]
        }
      ]
    },
    {
      "cell_type": "code",
      "source": [
        "n = 5  # You can change this to any number\n",
        "factorial = 1  # Start with 1 because multiplying by 1 doesn't change the result\n",
        "\n",
        "while n > 0:  # Keep looping as long as n is greater than 0\n",
        "    factorial *= n  # Multiply the current factorial value by n\n",
        "    n -= 1  # Decrease n by 1 to multiply with the next smaller number\n",
        "\n",
        "print(factorial)  # Output the final result\n"
      ],
      "metadata": {
        "colab": {
          "base_uri": "https://localhost:8080/"
        },
        "id": "vlqHARx4guDl",
        "outputId": "db68c231-7f12-4ded-8bd2-ecacacc87d24"
      },
      "execution_count": null,
      "outputs": [
        {
          "output_type": "stream",
          "name": "stdout",
          "text": [
            "120\n"
          ]
        }
      ]
    }
  ]
}