{
  "nbformat": 4,
  "nbformat_minor": 0,
  "metadata": {
    "colab": {
      "provenance": [],
      "authorship_tag": "ABX9TyMGAKryjW/zr5NciU0O8yu+",
      "include_colab_link": true
    },
    "kernelspec": {
      "name": "python3",
      "display_name": "Python 3"
    },
    "language_info": {
      "name": "python"
    }
  },
  "cells": [
    {
      "cell_type": "markdown",
      "metadata": {
        "id": "view-in-github",
        "colab_type": "text"
      },
      "source": [
        "<a href=\"https://colab.research.google.com/github/shalynbarrios/Python-Notebook-from-NeetCode/blob/main/lesson41_whileloop_multiples.ipynb\" target=\"_parent\"><img src=\"https://colab.research.google.com/assets/colab-badge.svg\" alt=\"Open In Colab\"/></a>"
      ]
    },
    {
      "cell_type": "markdown",
      "source": [
        "Lesson 40 (yay!!) is on While Loops Multiples"
      ],
      "metadata": {
        "id": "YVok9Po3VxVe"
      }
    },
    {
      "cell_type": "code",
      "execution_count": null,
      "metadata": {
        "colab": {
          "base_uri": "https://localhost:8080/"
        },
        "id": "ws5nUHPCVsHh",
        "outputId": "47bcb50d-b6a8-4fed-e9d4-db21a5ee075b"
      },
      "outputs": [
        {
          "output_type": "stream",
          "name": "stdout",
          "text": [
            "I love python!\n",
            "I love python!\n",
            "I love python!\n",
            "I love python!\n",
            "I love python!\n",
            "10\n",
            "20\n",
            "30\n",
            "40\n",
            "50\n",
            "60\n",
            "70\n",
            "80\n",
            "90\n"
          ]
        }
      ],
      "source": [
        "# this notebook is gonna be a breaf thing about while loops since we kind of\n",
        "# got ahead earlier lol\n",
        "# but below it was to prove that while loops can solve like\n",
        "# multiples\n",
        "\n",
        "# so this is what while loops look like, as a reminder\n",
        "i = 0\n",
        "while i < 5:\n",
        "  print(\"I love python!\")\n",
        "  i += 1\n",
        "\n",
        "\n",
        "# here is the multiples\n",
        "n = 10\n",
        "while n <= 90:\n",
        "  print(n)\n",
        "  n += 10"
      ]
    },
    {
      "cell_type": "code",
      "source": [
        "# that's all!"
      ],
      "metadata": {
        "id": "kgJtLbqOWrzN"
      },
      "execution_count": null,
      "outputs": []
    }
  ]
}