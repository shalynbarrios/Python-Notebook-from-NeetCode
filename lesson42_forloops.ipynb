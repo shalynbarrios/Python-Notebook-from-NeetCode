{
  "nbformat": 4,
  "nbformat_minor": 0,
  "metadata": {
    "colab": {
      "provenance": [],
      "authorship_tag": "ABX9TyOhV+dmlvq8JiLnAxvEurFR",
      "include_colab_link": true
    },
    "kernelspec": {
      "name": "python3",
      "display_name": "Python 3"
    },
    "language_info": {
      "name": "python"
    }
  },
  "cells": [
    {
      "cell_type": "markdown",
      "metadata": {
        "id": "view-in-github",
        "colab_type": "text"
      },
      "source": [
        "<a href=\"https://colab.research.google.com/github/shalynbarrios/Python-Notebook-from-NeetCode/blob/main/lesson42_forloops.ipynb\" target=\"_parent\"><img src=\"https://colab.research.google.com/assets/colab-badge.svg\" alt=\"Open In Colab\"/></a>"
      ]
    },
    {
      "cell_type": "code",
      "execution_count": null,
      "metadata": {
        "id": "8xDeX4byW8-v"
      },
      "outputs": [],
      "source": [
        "# there is a second way of looping in python\n",
        "# they are called for loops!\n",
        "\n",
        "# they can do identical things..\n",
        "\n",
        "i = 0\n",
        "while i < 10:\n",
        "  print(i)\n",
        "  i += 1\n",
        "\n",
        "for i in range(10):\n",
        "  print(i)"
      ]
    },
    {
      "cell_type": "code",
      "source": [
        "# ok, lets explain the syntax\n",
        "# well the variable was definined after the keyword \"for\"\n",
        "# there is also \"in\"\n",
        "# \"range\" is a function, starting from 0\n",
        "\n",
        "# the in range function is the incrementing part essentially\n",
        "\n",
        "# the loop starts with the keyword for\n",
        "# next is the variable name\n",
        "# after the variable, use in\n",
        "# range(10) for example generatures a sequence of numbers from 0 to 9\n",
        "\n",
        "# 9 is not included\n",
        "\n",
        "n = 0\n",
        "while n < 5:\n",
        "  print(n)\n",
        "  n+=1\n",
        "\n",
        "for x in range(5):\n",
        "  print(x)\n",
        "\n",
        "# you see how both of them didn't return 5? that's essentialy the translation\n",
        "# from while loops to for loops"
      ],
      "metadata": {
        "colab": {
          "base_uri": "https://localhost:8080/"
        },
        "id": "Q3uhomhIXQYQ",
        "outputId": "ab83167f-c9ad-404f-cce3-8415846428a7"
      },
      "execution_count": null,
      "outputs": [
        {
          "output_type": "stream",
          "name": "stdout",
          "text": [
            "0\n",
            "1\n",
            "2\n",
            "3\n",
            "4\n",
            "0\n",
            "1\n",
            "2\n",
            "3\n",
            "4\n"
          ]
        }
      ]
    },
    {
      "cell_type": "code",
      "source": [
        "for y in range(12):\n",
        "  print(y)\n",
        "\n",
        "# this is gonna go from 0 to 11"
      ],
      "metadata": {
        "id": "MUZTQJnfYgvA",
        "outputId": "6af17274-6c3a-4427-9507-de146ad8edf0",
        "colab": {
          "base_uri": "https://localhost:8080/"
        }
      },
      "execution_count": null,
      "outputs": [
        {
          "output_type": "stream",
          "name": "stdout",
          "text": [
            "0\n",
            "1\n",
            "2\n",
            "3\n",
            "4\n",
            "5\n",
            "6\n",
            "7\n",
            "8\n",
            "9\n",
            "10\n",
            "11\n"
          ]
        }
      ]
    }
  ]
}