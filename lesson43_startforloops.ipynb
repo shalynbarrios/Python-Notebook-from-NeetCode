{
  "nbformat": 4,
  "nbformat_minor": 0,
  "metadata": {
    "colab": {
      "provenance": [],
      "authorship_tag": "ABX9TyOTNH6LXdOF9GvZiHiwtf8H",
      "include_colab_link": true
    },
    "kernelspec": {
      "name": "python3",
      "display_name": "Python 3"
    },
    "language_info": {
      "name": "python"
    }
  },
  "cells": [
    {
      "cell_type": "markdown",
      "metadata": {
        "id": "view-in-github",
        "colab_type": "text"
      },
      "source": [
        "<a href=\"https://colab.research.google.com/github/shalynbarrios/Python-Notebook-from-NeetCode/blob/main/lesson43_startforloops.ipynb\" target=\"_parent\"><img src=\"https://colab.research.google.com/assets/colab-badge.svg\" alt=\"Open In Colab\"/></a>"
      ]
    },
    {
      "cell_type": "markdown",
      "source": [
        "Lesson 43 on how to change the initial number for For Loops"
      ],
      "metadata": {
        "id": "QR-PrSzf5FQJ"
      }
    },
    {
      "cell_type": "code",
      "execution_count": null,
      "metadata": {
        "id": "8xDeX4byW8-v",
        "colab": {
          "base_uri": "https://localhost:8080/"
        },
        "outputId": "888725f8-7011-4e0f-bafd-cc6fcb70f943"
      },
      "outputs": [
        {
          "output_type": "stream",
          "name": "stdout",
          "text": [
            "2\n",
            "3\n",
            "4\n",
            "2\n",
            "3\n",
            "4\n"
          ]
        }
      ],
      "source": [
        "i = 2\n",
        "while i < 5:\n",
        "  print(i)\n",
        "  i += 1\n",
        "\n",
        "for i in range(2,5):\n",
        "  print(i)\n",
        "\n",
        "# these are equivalent"
      ]
    },
    {
      "cell_type": "code",
      "source": [
        "i = 10\n",
        "while i <= 20:\n",
        "  print(i)\n",
        "  i += 1\n",
        "\n",
        "for i in range(10,21):\n",
        "  print(i)"
      ],
      "metadata": {
        "colab": {
          "base_uri": "https://localhost:8080/"
        },
        "id": "0n_rcVAB5cyM",
        "outputId": "ca299666-1abc-4e94-99a6-9340744f3b62"
      },
      "execution_count": null,
      "outputs": [
        {
          "output_type": "stream",
          "name": "stdout",
          "text": [
            "10\n",
            "11\n",
            "12\n",
            "13\n",
            "14\n",
            "15\n",
            "16\n",
            "17\n",
            "18\n",
            "19\n",
            "20\n",
            "10\n",
            "11\n",
            "12\n",
            "13\n",
            "14\n",
            "15\n",
            "16\n",
            "17\n",
            "18\n",
            "19\n",
            "20\n"
          ]
        }
      ]
    }
  ]
}