{
  "nbformat": 4,
  "nbformat_minor": 0,
  "metadata": {
    "colab": {
      "provenance": [],
      "authorship_tag": "ABX9TyN/cBiOwzrCkHnFlDnRXmgQ",
      "include_colab_link": true
    },
    "kernelspec": {
      "name": "python3",
      "display_name": "Python 3"
    },
    "language_info": {
      "name": "python"
    }
  },
  "cells": [
    {
      "cell_type": "markdown",
      "metadata": {
        "id": "view-in-github",
        "colab_type": "text"
      },
      "source": [
        "<a href=\"https://colab.research.google.com/github/shalynbarrios/Python-Notebook-from-NeetCode/blob/main/lesson44_stepsforloops.ipynb\" target=\"_parent\"><img src=\"https://colab.research.google.com/assets/colab-badge.svg\" alt=\"Open In Colab\"/></a>"
      ]
    },
    {
      "cell_type": "markdown",
      "source": [
        "Lesson 44 on how to change the stepping size / increment size for For Loops"
      ],
      "metadata": {
        "id": "QR-PrSzf5FQJ"
      }
    },
    {
      "cell_type": "code",
      "execution_count": null,
      "metadata": {
        "id": "8xDeX4byW8-v",
        "colab": {
          "base_uri": "https://localhost:8080/"
        },
        "outputId": "bd308773-24b0-4929-a293-ecbd59bb0fbe"
      },
      "outputs": [
        {
          "output_type": "stream",
          "name": "stdout",
          "text": [
            "0\n",
            "2\n",
            "4\n",
            "6\n",
            "8\n",
            "0\n",
            "2\n",
            "4\n",
            "6\n",
            "8\n"
          ]
        }
      ],
      "source": [
        "i = 0\n",
        "while i < 10:\n",
        "  print(i)\n",
        "  i+= 2\n",
        "\n",
        "for i in range (0, 10, 2):\n",
        "  print(i)\n",
        "\n",
        "# these are the same!!\n",
        "# as you see, the first two are like the bounds.\n",
        "# the last one is the stepping size, like n?\n",
        "\n",
        "# so the third parameter is the step\n",
        "# when no argument is passed, it will assume 1"
      ]
    },
    {
      "cell_type": "code",
      "source": [
        "for n in range(0, 110, 10):\n",
        "  print(n) # here, the stepping stone is the last parameter with the argument 10\n",
        "  # so the stepping stone is 10\n",
        "  # starting at 0\n",
        "\n",
        "# remember, the 110, is like while n < 110, so does not include 110"
      ],
      "metadata": {
        "id": "SdggmJiv5ish",
        "colab": {
          "base_uri": "https://localhost:8080/"
        },
        "outputId": "1559e0d1-3797-4d5f-e3ba-1c81c01ca2b5"
      },
      "execution_count": null,
      "outputs": [
        {
          "output_type": "stream",
          "name": "stdout",
          "text": [
            "0\n",
            "10\n",
            "20\n",
            "30\n",
            "40\n",
            "50\n",
            "60\n",
            "70\n",
            "80\n",
            "90\n",
            "100\n"
          ]
        }
      ]
    }
  ]
}