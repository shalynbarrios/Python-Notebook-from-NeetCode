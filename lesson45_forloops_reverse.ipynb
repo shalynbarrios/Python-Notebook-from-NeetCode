{
  "nbformat": 4,
  "nbformat_minor": 0,
  "metadata": {
    "colab": {
      "provenance": [],
      "authorship_tag": "ABX9TyN9m3RYrtzSd4wpvTs0x8ay",
      "include_colab_link": true
    },
    "kernelspec": {
      "name": "python3",
      "display_name": "Python 3"
    },
    "language_info": {
      "name": "python"
    }
  },
  "cells": [
    {
      "cell_type": "markdown",
      "metadata": {
        "id": "view-in-github",
        "colab_type": "text"
      },
      "source": [
        "<a href=\"https://colab.research.google.com/github/shalynbarrios/Python-Notebook-from-NeetCode/blob/main/lesson45_forloops_reverse.ipynb\" target=\"_parent\"><img src=\"https://colab.research.google.com/assets/colab-badge.svg\" alt=\"Open In Colab\"/></a>"
      ]
    },
    {
      "cell_type": "markdown",
      "source": [
        "Lesson 45 is on For Loops Reverse"
      ],
      "metadata": {
        "id": "JpZGNLTawurQ"
      }
    },
    {
      "cell_type": "code",
      "execution_count": null,
      "metadata": {
        "colab": {
          "base_uri": "https://localhost:8080/"
        },
        "id": "e-UjoKbWwrvI",
        "outputId": "1aa622b8-b8da-4bf4-9930-02d890976b4a",
        "collapsed": true
      },
      "outputs": [
        {
          "output_type": "stream",
          "name": "stdout",
          "text": [
            "10\n",
            "9\n",
            "8\n",
            "7\n",
            "6\n",
            "5\n",
            "4\n",
            "3\n",
            "2\n",
            "1\n",
            "10\n",
            "9\n",
            "8\n",
            "7\n",
            "6\n",
            "5\n",
            "4\n",
            "3\n",
            "2\n",
            "1\n"
          ]
        }
      ],
      "source": [
        "i = 10\n",
        "while i > 0:\n",
        "  print(i)\n",
        "  i -= 1\n",
        "\n",
        "for i in range(10,0,-1):\n",
        "  print(i)\n",
        "\n",
        "# prints from 10 to 1 with stepping stones of -1"
      ]
    },
    {
      "cell_type": "code",
      "source": [
        "# using a for loop print the numbers between 20 through 10\n",
        "for n in range(20, 9, -1):\n",
        "  print(n)"
      ],
      "metadata": {
        "colab": {
          "base_uri": "https://localhost:8080/"
        },
        "id": "JLFSKn8kxFY6",
        "outputId": "b75b36e3-226b-438f-ea5d-5751fc1df9fc",
        "collapsed": true
      },
      "execution_count": null,
      "outputs": [
        {
          "output_type": "stream",
          "name": "stdout",
          "text": [
            "20\n",
            "19\n",
            "18\n",
            "17\n",
            "16\n",
            "15\n",
            "14\n",
            "13\n",
            "12\n",
            "11\n",
            "10\n"
          ]
        }
      ]
    },
    {
      "cell_type": "code",
      "source": [
        "# we can also shortcut/shorthand reversing!!\n",
        "\n",
        "for i in range(10):\n",
        "  print(i)\n",
        "  # this will go from 0 to 9\n",
        "\n",
        "for n in reversed(range(10)):\n",
        "  print(n)\n",
        "  # this will go from 9 to 0"
      ],
      "metadata": {
        "colab": {
          "base_uri": "https://localhost:8080/"
        },
        "id": "cpfVBCr1xobl",
        "outputId": "0a5a7378-81b4-4b07-8fc9-a0f9762f6d45",
        "collapsed": true
      },
      "execution_count": null,
      "outputs": [
        {
          "output_type": "stream",
          "name": "stdout",
          "text": [
            "0\n",
            "1\n",
            "2\n",
            "3\n",
            "4\n",
            "5\n",
            "6\n",
            "7\n",
            "8\n",
            "9\n",
            "9\n",
            "8\n",
            "7\n",
            "6\n",
            "5\n",
            "4\n",
            "3\n",
            "2\n",
            "1\n",
            "0\n"
          ]
        }
      ]
    },
    {
      "cell_type": "code",
      "source": [
        "for i in reversed(range(21)):\n",
        "  print(i)"
      ],
      "metadata": {
        "colab": {
          "base_uri": "https://localhost:8080/"
        },
        "id": "yNRnUJykxVzU",
        "outputId": "34527a23-8dea-4e3f-bf9d-23639f55679b",
        "collapsed": true
      },
      "execution_count": null,
      "outputs": [
        {
          "output_type": "stream",
          "name": "stdout",
          "text": [
            "20\n",
            "19\n",
            "18\n",
            "17\n",
            "16\n",
            "15\n",
            "14\n",
            "13\n",
            "12\n",
            "11\n",
            "10\n",
            "9\n",
            "8\n",
            "7\n",
            "6\n",
            "5\n",
            "4\n",
            "3\n",
            "2\n",
            "1\n",
            "0\n"
          ]
        }
      ]
    },
    {
      "cell_type": "code",
      "source": [
        "# here are a series of challenges!"
      ],
      "metadata": {
        "id": "DpWAFgLcyX1-"
      },
      "execution_count": null,
      "outputs": []
    },
    {
      "cell_type": "markdown",
      "source": [
        "**Pattern A: Basic Ascending**\n",
        "\n",
        "Print the numbers from 1 to 20, skipping every 2 numbers (i.e., stepping by 3).\n",
        "Output: 1 4 7 10 13 16 19"
      ],
      "metadata": {
        "id": "ohO3FG8rydTn"
      }
    },
    {
      "cell_type": "code",
      "source": [
        "for x in range(1, 22, 3):\n",
        "  print(x)"
      ],
      "metadata": {
        "colab": {
          "base_uri": "https://localhost:8080/"
        },
        "id": "27_tGgJ3ye1C",
        "outputId": "89065ef2-291d-4a68-9151-2d444cae92fb"
      },
      "execution_count": null,
      "outputs": [
        {
          "output_type": "stream",
          "name": "stdout",
          "text": [
            "1\n",
            "4\n",
            "7\n",
            "10\n",
            "13\n",
            "16\n",
            "19\n"
          ]
        }
      ]
    },
    {
      "cell_type": "markdown",
      "source": [
        "**Pattern B: Reversed Sequence**\n",
        "\n",
        "Print the numbers from 30 to 10 in reverse order, stepping by 5.\n",
        "Output: 30 25 20 15 10"
      ],
      "metadata": {
        "id": "c2oMl2DUyopU"
      }
    },
    {
      "cell_type": "code",
      "source": [
        "for y in reversed(range(30, 9, -5)):\n",
        "  print(y)"
      ],
      "metadata": {
        "id": "45PSC5E7yvJy",
        "colab": {
          "base_uri": "https://localhost:8080/"
        },
        "outputId": "700a781c-8ddd-4073-f6a2-4ec7e93f2d17"
      },
      "execution_count": null,
      "outputs": [
        {
          "output_type": "stream",
          "name": "stdout",
          "text": [
            "10\n",
            "15\n",
            "20\n",
            "25\n",
            "30\n"
          ]
        }
      ]
    },
    {
      "cell_type": "markdown",
      "source": [
        "**Pattern C: Pyramid of Stars**\n",
        "\n",
        "Use a for loop to create the following pattern:\n",
        "markdown\n",
        "\"*\n",
        "\"***\n",
        "\"*****\n",
        "\"*******\n",
        "\"*********\n",
        "Each row should have an odd number of stars, up to 9 stars."
      ],
      "metadata": {
        "id": "uwMj8AA9zY_0"
      }
    },
    {
      "cell_type": "code",
      "source": [
        "for stars in range(1, 11, 2):\n",
        "  print(\"*\" * stars)"
      ],
      "metadata": {
        "colab": {
          "base_uri": "https://localhost:8080/"
        },
        "id": "IZytXI9ezTK7",
        "outputId": "a211ea43-bf3e-416d-878a-d52fc9e24101"
      },
      "execution_count": null,
      "outputs": [
        {
          "output_type": "stream",
          "name": "stdout",
          "text": [
            "*\n",
            "***\n",
            "*****\n",
            "*******\n",
            "*********\n"
          ]
        }
      ]
    },
    {
      "cell_type": "markdown",
      "source": [
        "**Pattern D: Sum of Squares**\n",
        "\n",
        "Calculate the sum of squares for numbers from 1 to 10 using a for loop.\n",
        "Output: The sum of squares is: 385"
      ],
      "metadata": {
        "id": "UcQVYzVw0Hpx"
      }
    },
    {
      "cell_type": "code",
      "source": [
        "sum = 0\n",
        "for t in range(1, 11, 1):\n",
        "  sum += t*t\n",
        "\n",
        "print(sum)"
      ],
      "metadata": {
        "colab": {
          "base_uri": "https://localhost:8080/"
        },
        "id": "VR_k1Lua0K0i",
        "outputId": "48f9bdb1-653a-4373-a536-dbac3fb3d011"
      },
      "execution_count": null,
      "outputs": [
        {
          "output_type": "stream",
          "name": "stdout",
          "text": [
            "385\n"
          ]
        }
      ]
    },
    {
      "cell_type": "markdown",
      "source": [
        "**Bonus Challenge:**\n",
        "\n",
        "Write a single loop that prints numbers from 1 to 50. If the number is divisible by 3, print \"Fizz.\" If divisible by 5, print \"Buzz.\" If divisible by both, print \"FizzBuzz.\" Otherwise, print the number."
      ],
      "metadata": {
        "id": "G3hBh5Ej05sQ"
      }
    },
    {
      "cell_type": "code",
      "source": [
        "for x in range(1, 51):\n",
        "  if x % 5 == 0 and x % 3 == 0:\n",
        "    print(\"FizzBuzz\")\n",
        "  elif x % 5 == 0:\n",
        "    print(\"Buzz\")\n",
        "  elif x % 3 == 0:\n",
        "    print(\"Fizz\")\n",
        "\n",
        "# for x in range(1, 51):\n",
        "#   ....\n",
        "#   elif x % 5 == 0 and x % 3 == 0: order matters, so this at the end didnt work\n",
        "#     print(\"FizzBuzz\")"
      ],
      "metadata": {
        "colab": {
          "base_uri": "https://localhost:8080/"
        },
        "id": "RA3ds0AP08E6",
        "outputId": "f6f1adf9-2d55-4262-e290-fd49258afa56"
      },
      "execution_count": null,
      "outputs": [
        {
          "output_type": "stream",
          "name": "stdout",
          "text": [
            "Fizz\n",
            "Buzz\n",
            "Fizz\n",
            "Fizz\n",
            "Buzz\n",
            "Fizz\n",
            "FizzBuzz\n",
            "Fizz\n",
            "Buzz\n",
            "Fizz\n",
            "Fizz\n",
            "Buzz\n",
            "Fizz\n",
            "FizzBuzz\n",
            "Fizz\n",
            "Buzz\n",
            "Fizz\n",
            "Fizz\n",
            "Buzz\n",
            "Fizz\n",
            "FizzBuzz\n",
            "Fizz\n",
            "Buzz\n"
          ]
        }
      ]
    }
  ]
}