{
  "nbformat": 4,
  "nbformat_minor": 0,
  "metadata": {
    "colab": {
      "provenance": [],
      "authorship_tag": "ABX9TyNe+zjFnHvFN/rCXZVPuQep",
      "include_colab_link": true
    },
    "kernelspec": {
      "name": "python3",
      "display_name": "Python 3"
    },
    "language_info": {
      "name": "python"
    }
  },
  "cells": [
    {
      "cell_type": "markdown",
      "metadata": {
        "id": "view-in-github",
        "colab_type": "text"
      },
      "source": [
        "<a href=\"https://colab.research.google.com/github/shalynbarrios/Python-Notebook-from-NeetCode/blob/main/lesson46_nestedloops.ipynb\" target=\"_parent\"><img src=\"https://colab.research.google.com/assets/colab-badge.svg\" alt=\"Open In Colab\"/></a>"
      ]
    },
    {
      "cell_type": "markdown",
      "source": [
        "Lesson 46 is on Nested Loops"
      ],
      "metadata": {
        "id": "rZDbceIk8zFF"
      }
    },
    {
      "cell_type": "code",
      "execution_count": null,
      "metadata": {
        "colab": {
          "base_uri": "https://localhost:8080/"
        },
        "id": "-F2B790P8tUl",
        "outputId": "76c8ad4e-523d-4375-b0ea-2cc5d6421bbc"
      },
      "outputs": [
        {
          "output_type": "stream",
          "name": "stdout",
          "text": [
            "1 1\n",
            "1 2\n",
            "1 3\n",
            "2 1\n",
            "2 2\n",
            "2 3\n",
            "3 1\n",
            "3 2\n",
            "3 3\n"
          ]
        }
      ],
      "source": [
        "for i in range(1,4):\n",
        "  for j in range(1,4): # this is a nested loop\n",
        "    # so this for loop with run 3 times. since it was done after 3\n",
        "    # it re-ran when i = 2\n",
        "    # and then re-ran the for j loop\n",
        "    print(i, j)"
      ]
    },
    {
      "cell_type": "code",
      "source": [
        "for x in range(3,6):\n",
        "  for y in range(3,6):\n",
        "    print(x,y)"
      ],
      "metadata": {
        "colab": {
          "base_uri": "https://localhost:8080/"
        },
        "id": "x6eZehhK9NUx",
        "outputId": "132b6439-f9ef-4af5-b262-9a5ef4b0a6ae"
      },
      "execution_count": null,
      "outputs": [
        {
          "output_type": "stream",
          "name": "stdout",
          "text": [
            "3 3\n",
            "3 4\n",
            "3 5\n",
            "4 3\n",
            "4 4\n",
            "4 5\n",
            "5 3\n",
            "5 4\n",
            "5 5\n"
          ]
        }
      ]
    },
    {
      "cell_type": "markdown",
      "source": [
        "Here are some practice problems,\n",
        "\n",
        "**Problem 1: Print Numbers from 1 to 10**\n",
        "\n",
        "Write a for loop to print the numbers from 1 to 10 (inclusive)."
      ],
      "metadata": {
        "id": "vnZq8HQIaR61"
      }
    },
    {
      "cell_type": "code",
      "source": [
        "for x in range(11):\n",
        "  print(x)"
      ],
      "metadata": {
        "colab": {
          "base_uri": "https://localhost:8080/"
        },
        "id": "zIJzDaz6aRsw",
        "outputId": "92438934-05f3-46a6-8d93-59ab447707ff"
      },
      "execution_count": null,
      "outputs": [
        {
          "output_type": "stream",
          "name": "stdout",
          "text": [
            "0\n",
            "1\n",
            "2\n",
            "3\n",
            "4\n",
            "5\n",
            "6\n",
            "7\n",
            "8\n",
            "9\n",
            "10\n"
          ]
        }
      ]
    },
    {
      "cell_type": "markdown",
      "source": [
        "**Problem 2: Sum of Even Numbers**\n",
        "\n",
        "Write a for loop that calculates the sum of all even numbers from 1 to 50."
      ],
      "metadata": {
        "id": "Iu3YO3Xxagc7"
      }
    },
    {
      "cell_type": "code",
      "source": [
        "sum = 0\n",
        "for y in range(51):\n",
        "  if y % 2 == 0:\n",
        "    sum += y\n",
        "\n",
        "print(sum)"
      ],
      "metadata": {
        "colab": {
          "base_uri": "https://localhost:8080/"
        },
        "id": "rooeSa12ajMZ",
        "outputId": "99a8fb72-4133-4946-b1bd-59b75e3159fb"
      },
      "execution_count": null,
      "outputs": [
        {
          "output_type": "stream",
          "name": "stdout",
          "text": [
            "650\n"
          ]
        }
      ]
    },
    {
      "cell_type": "markdown",
      "source": [
        "**Problem 3: Multiplication Table**\n",
        "\n",
        "Write a for loop to print the multiplication table for the number 5 (from 5 x 1 to 5 x 10)."
      ],
      "metadata": {
        "id": "n8MHD5DtbBLV"
      }
    },
    {
      "cell_type": "code",
      "source": [
        "n = 5\n",
        "for z in range(1, 11):\n",
        "  print(n, \"*\", z, \"=\", n*z)"
      ],
      "metadata": {
        "colab": {
          "base_uri": "https://localhost:8080/"
        },
        "id": "-SDGYFfObFFZ",
        "outputId": "6625aed1-1e72-447e-d05d-b961a8deb414"
      },
      "execution_count": null,
      "outputs": [
        {
          "output_type": "stream",
          "name": "stdout",
          "text": [
            "5 * 1 = 5\n",
            "5 * 2 = 10\n",
            "5 * 3 = 15\n",
            "5 * 4 = 20\n",
            "5 * 5 = 25\n",
            "5 * 6 = 30\n",
            "5 * 7 = 35\n",
            "5 * 8 = 40\n",
            "5 * 9 = 45\n",
            "5 * 10 = 50\n"
          ]
        }
      ]
    },
    {
      "cell_type": "markdown",
      "source": [
        "**Problem: Multiplication Table for Numbers 1 to 5**\n",
        "\n",
        "Write a nested loop that prints the multiplication table for the numbers 1 to 5."
      ],
      "metadata": {
        "id": "K1vbx6wndpMV"
      }
    },
    {
      "cell_type": "code",
      "source": [
        "for x in range(1,6):\n",
        "  for g in range(1,6):\n",
        "    print(x, \"*\", g, \"=\", g*x, end=\"\\t\")\n",
        "  print()"
      ],
      "metadata": {
        "colab": {
          "base_uri": "https://localhost:8080/"
        },
        "id": "wrm9TltRb1GP",
        "outputId": "4aed190c-5f43-4e6d-9de4-67f7a720672e"
      },
      "execution_count": null,
      "outputs": [
        {
          "output_type": "stream",
          "name": "stdout",
          "text": [
            "1 * 1 = 1\t1 * 2 = 2\t1 * 3 = 3\t1 * 4 = 4\t1 * 5 = 5\t\n",
            "2 * 1 = 2\t2 * 2 = 4\t2 * 3 = 6\t2 * 4 = 8\t2 * 5 = 10\t\n",
            "3 * 1 = 3\t3 * 2 = 6\t3 * 3 = 9\t3 * 4 = 12\t3 * 5 = 15\t\n",
            "4 * 1 = 4\t4 * 2 = 8\t4 * 3 = 12\t4 * 4 = 16\t4 * 5 = 20\t\n",
            "5 * 1 = 5\t5 * 2 = 10\t5 * 3 = 15\t5 * 4 = 20\t5 * 5 = 25\t\n"
          ]
        }
      ]
    },
    {
      "cell_type": "code",
      "source": [
        "for i in range(1, 5):\n",
        "  for j in range(1, i+1):\n",
        "    print(j, end=\" \")\n",
        "  print()"
      ],
      "metadata": {
        "colab": {
          "base_uri": "https://localhost:8080/"
        },
        "id": "74XfABsKd6kp",
        "outputId": "70d7b18d-05b6-46c8-c343-3fd905bd630a"
      },
      "execution_count": null,
      "outputs": [
        {
          "output_type": "stream",
          "name": "stdout",
          "text": [
            "1 \n",
            "1 2 \n",
            "1 2 3 \n",
            "1 2 3 4 \n"
          ]
        }
      ]
    },
    {
      "cell_type": "markdown",
      "source": [
        "Here's a key difference!"
      ],
      "metadata": {
        "id": "0au1gwhOUHNL"
      }
    },
    {
      "cell_type": "code",
      "source": [
        "# example with range\n",
        "\n",
        "for x in range(1,7):\n",
        "  print(x)\n",
        "\n",
        "# example with list\n",
        "\n",
        "colors = [\"white\", \"orange\", \"green\", \"red\", \"blue\", \"yellow\"]\n",
        "\n",
        "for color in colors:\n",
        "    print(color)\n"
      ],
      "metadata": {
        "colab": {
          "base_uri": "https://localhost:8080/"
        },
        "id": "slOaTSiRUJCv",
        "outputId": "d5d50837-05b5-4ebf-f324-5f9c6f3d7f8f"
      },
      "execution_count": null,
      "outputs": [
        {
          "output_type": "stream",
          "name": "stdout",
          "text": [
            "1\n",
            "2\n",
            "3\n",
            "4\n",
            "5\n",
            "6\n",
            "white\n",
            "orange\n",
            "green\n",
            "red\n",
            "blue\n",
            "yellow\n"
          ]
        }
      ]
    },
    {
      "cell_type": "code",
      "source": [
        "x = [\"white\", \"orange\", \"green\", \"red\", \"blue\", \"yellow\"]\n",
        "y = [\"white\", \"orange\", \"green\", \"red\", \"blue\", \"yellow\"]\n",
        "for colorx in x:\n",
        "  for colory in y:\n",
        "    print(colorx, colory)\n",
        "  print(\" \")"
      ],
      "metadata": {
        "colab": {
          "base_uri": "https://localhost:8080/"
        },
        "id": "A0Kpw-TpSx7U",
        "outputId": "a18cff5f-612e-46ed-cd54-31c3e6a2ba09"
      },
      "execution_count": null,
      "outputs": [
        {
          "output_type": "stream",
          "name": "stdout",
          "text": [
            "white white\n",
            "white orange\n",
            "white green\n",
            "white red\n",
            "white blue\n",
            "white yellow\n",
            " \n",
            "orange white\n",
            "orange orange\n",
            "orange green\n",
            "orange red\n",
            "orange blue\n",
            "orange yellow\n",
            " \n",
            "green white\n",
            "green orange\n",
            "green green\n",
            "green red\n",
            "green blue\n",
            "green yellow\n",
            " \n",
            "red white\n",
            "red orange\n",
            "red green\n",
            "red red\n",
            "red blue\n",
            "red yellow\n",
            " \n",
            "blue white\n",
            "blue orange\n",
            "blue green\n",
            "blue red\n",
            "blue blue\n",
            "blue yellow\n",
            " \n",
            "yellow white\n",
            "yellow orange\n",
            "yellow green\n",
            "yellow red\n",
            "yellow blue\n",
            "yellow yellow\n",
            " \n"
          ]
        }
      ]
    }
  ]
}