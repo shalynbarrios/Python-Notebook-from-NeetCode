{
  "nbformat": 4,
  "nbformat_minor": 0,
  "metadata": {
    "colab": {
      "provenance": [],
      "authorship_tag": "ABX9TyOGGPmZfTd3bBpCzPS3nZ9v",
      "include_colab_link": true
    },
    "kernelspec": {
      "name": "python3",
      "display_name": "Python 3"
    },
    "language_info": {
      "name": "python"
    }
  },
  "cells": [
    {
      "cell_type": "markdown",
      "metadata": {
        "id": "view-in-github",
        "colab_type": "text"
      },
      "source": [
        "<a href=\"https://colab.research.google.com/github/shalynbarrios/Python-Notebook-from-NeetCode/blob/main/lesson47_controlflow.ipynb\" target=\"_parent\"><img src=\"https://colab.research.google.com/assets/colab-badge.svg\" alt=\"Open In Colab\"/></a>"
      ]
    },
    {
      "cell_type": "markdown",
      "source": [
        "**Lesson 47 is on Control Flow**\n",
        "\n",
        "The following comments show the control statements of loops"
      ],
      "metadata": {
        "id": "N6N1y8t0Vpb8"
      }
    },
    {
      "cell_type": "code",
      "source": [
        "# break\n",
        "# exits the loop immediately\n",
        "\n",
        "# continue\n",
        "# skips the remaining code inside the loop for the current iteration\n",
        "# and moves to the next iteration\n",
        "\n",
        "# pass\n",
        "# acts as a placeholder and does nothing\n",
        "# empty loop = error, but loop w/ pass = no error"
      ],
      "metadata": {
        "id": "hu3OmDWvVo9b"
      },
      "execution_count": null,
      "outputs": []
    },
    {
      "cell_type": "code",
      "source": [
        "# break\n",
        "\n",
        "for x in range(1,8):\n",
        "  break\n",
        "  print(x)\n",
        "\n",
        "# you'll see that no x was ever printed\n",
        "# because we exited the loop immediately when the line break was read"
      ],
      "metadata": {
        "id": "FgDTRtI8WNFC"
      },
      "execution_count": null,
      "outputs": []
    },
    {
      "cell_type": "code",
      "source": [
        "# continue\n",
        "for y in range(1,8):\n",
        "  continue # we keep exiting the current iteration before we even\n",
        "  # reach the print statement\n",
        "  print(y)"
      ],
      "metadata": {
        "id": "v-8AY7dwWOff"
      },
      "execution_count": null,
      "outputs": []
    },
    {
      "cell_type": "code",
      "source": [
        "# pass\n",
        "\n",
        "for i in range(1,8):\n",
        "  pass # placeholder, does nothing\n",
        "\n",
        "if True:\n",
        "  pass"
      ],
      "metadata": {
        "id": "iADrKXS-WQBI"
      },
      "execution_count": null,
      "outputs": []
    },
    {
      "cell_type": "markdown",
      "source": [
        "Here's an example of break and continue control"
      ],
      "metadata": {
        "id": "16EKuLp_XEjr"
      }
    },
    {
      "cell_type": "code",
      "source": [
        "for z in range(1,8):\n",
        "  if z == 3:\n",
        "    continue # immediately exits the current iteration but continues the loop\n",
        "  elif z == 6:\n",
        "    break # immediately exits the loop entirely\n",
        "  print(z)"
      ],
      "metadata": {
        "colab": {
          "base_uri": "https://localhost:8080/"
        },
        "id": "bQC6-cdCXGuB",
        "outputId": "a5d51b68-ce11-4ec7-d042-74fa1a48bbdb"
      },
      "execution_count": null,
      "outputs": [
        {
          "output_type": "stream",
          "name": "stdout",
          "text": [
            "1\n",
            "2\n",
            "4\n",
            "5\n"
          ]
        }
      ]
    }
  ]
}