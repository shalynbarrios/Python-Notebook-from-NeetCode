{
  "nbformat": 4,
  "nbformat_minor": 0,
  "metadata": {
    "colab": {
      "provenance": [],
      "authorship_tag": "ABX9TyPhBlpCJIEN4GjirhE9nCbq",
      "include_colab_link": true
    },
    "kernelspec": {
      "name": "python3",
      "display_name": "Python 3"
    },
    "language_info": {
      "name": "python"
    }
  },
  "cells": [
    {
      "cell_type": "markdown",
      "metadata": {
        "id": "view-in-github",
        "colab_type": "text"
      },
      "source": [
        "<a href=\"https://colab.research.google.com/github/shalynbarrios/Python-Notebook-from-NeetCode/blob/main/lesson48_lengthfunc.ipynb\" target=\"_parent\"><img src=\"https://colab.research.google.com/assets/colab-badge.svg\" alt=\"Open In Colab\"/></a>"
      ]
    },
    {
      "cell_type": "markdown",
      "source": [
        "**Lesson 48 is on the bult-in function for Length**\n",
        "\n",
        "The length function (len()) counts how many characters are in a string"
      ],
      "metadata": {
        "id": "amSX7MhgYRVD"
      }
    },
    {
      "cell_type": "code",
      "execution_count": null,
      "metadata": {
        "colab": {
          "base_uri": "https://localhost:8080/"
        },
        "id": "JxgwysPGYKCL",
        "outputId": "2e5bab3e-7b0b-49cd-b0f9-2a34826f3c67"
      },
      "outputs": [
        {
          "output_type": "stream",
          "name": "stdout",
          "text": [
            "9\n"
          ]
        }
      ],
      "source": [
        "my_str = \"hey shay!\"\n",
        "print(len(my_str))\n",
        "\n",
        "# output = 9  b/c space and ! are included (space is a character)"
      ]
    },
    {
      "cell_type": "code",
      "source": [
        "def get_longer_word(word: str, word2: str) -> str:\n",
        "  x = len(word)\n",
        "  y = len(word2)\n",
        "  if x >= y:\n",
        "    return word\n",
        "  return word2\n",
        "\n",
        "print(get_longer_word(\"dog\", \"mooo\"))\n",
        "print(get_longer_word(\"dog\", \"dog\"))\n",
        "print(get_longer_word(\"dog\", \"cat\"))\n",
        "print(get_longer_word(\"eeeeeee\", \"mooo\"))"
      ],
      "metadata": {
        "colab": {
          "base_uri": "https://localhost:8080/"
        },
        "id": "Z9FspqjfYtV1",
        "outputId": "0a63ef3e-f7a5-445a-9c64-52e6ae51d883"
      },
      "execution_count": null,
      "outputs": [
        {
          "output_type": "stream",
          "name": "stdout",
          "text": [
            "mooo\n",
            "dog\n",
            "cat\n",
            "eeeeeee\n"
          ]
        }
      ]
    }
  ]
}