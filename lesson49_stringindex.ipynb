{
  "nbformat": 4,
  "nbformat_minor": 0,
  "metadata": {
    "colab": {
      "provenance": [],
      "authorship_tag": "ABX9TyPrtyfXcvXIEK5uHw8cFRe2",
      "include_colab_link": true
    },
    "kernelspec": {
      "name": "python3",
      "display_name": "Python 3"
    },
    "language_info": {
      "name": "python"
    }
  },
  "cells": [
    {
      "cell_type": "markdown",
      "metadata": {
        "id": "view-in-github",
        "colab_type": "text"
      },
      "source": [
        "<a href=\"https://colab.research.google.com/github/shalynbarrios/Python-Notebook-from-NeetCode/blob/main/lesson49_stringindex.ipynb\" target=\"_parent\"><img src=\"https://colab.research.google.com/assets/colab-badge.svg\" alt=\"Open In Colab\"/></a>"
      ]
    },
    {
      "cell_type": "markdown",
      "source": [
        "Lesson 49 is on String Indexing"
      ],
      "metadata": {
        "id": "MDu6Kv31KSa8"
      }
    },
    {
      "cell_type": "code",
      "execution_count": null,
      "metadata": {
        "colab": {
          "base_uri": "https://localhost:8080/"
        },
        "id": "gUkMra1sKR0g",
        "outputId": "553123f5-e644-467f-e619-4d8b7796f3f2"
      },
      "outputs": [
        {
          "output_type": "stream",
          "name": "stdout",
          "text": [
            "H\n"
          ]
        }
      ],
      "source": [
        "# suppose we want to access an individual character from\n",
        "# a given string\n",
        "my_str = \"Hello\"\n",
        "print(my_str[0])"
      ]
    },
    {
      "cell_type": "code",
      "source": [
        "# python is zero-based index\n",
        "my_str = \"Hello\"\n",
        "print(my_str[0])\n",
        "print(my_str[1])\n",
        "print(my_str[2])\n",
        "print(my_str[3])\n",
        "print(my_str[4])"
      ],
      "metadata": {
        "colab": {
          "base_uri": "https://localhost:8080/"
        },
        "id": "EkkvZ8L4Kw5r",
        "outputId": "33ab1444-279b-45b0-a480-40534aa745a8"
      },
      "execution_count": null,
      "outputs": [
        {
          "output_type": "stream",
          "name": "stdout",
          "text": [
            "H\n",
            "e\n",
            "l\n",
            "l\n",
            "o\n"
          ]
        }
      ]
    },
    {
      "cell_type": "code",
      "source": [
        "shay = \"SHAY\"\n",
        "def prn_first_char(word: str) -> None:\n",
        "  print(word[0])\n",
        "\n",
        "prn_first_char(shay)"
      ],
      "metadata": {
        "colab": {
          "base_uri": "https://localhost:8080/"
        },
        "id": "wP-QHEdlK-n-",
        "outputId": "508448ff-d6e6-46c3-ad64-7788b18a370c"
      },
      "execution_count": null,
      "outputs": [
        {
          "output_type": "stream",
          "name": "stdout",
          "text": [
            "S\n"
          ]
        }
      ]
    },
    {
      "cell_type": "code",
      "source": [
        "shay = \"SHAY\"\n",
        "def prn_sec_char(word: str) -> None:\n",
        "  print(word[1])\n",
        "\n",
        "prn_sec_char(shay)"
      ],
      "metadata": {
        "colab": {
          "base_uri": "https://localhost:8080/"
        },
        "id": "UuzHaMv3LYB8",
        "outputId": "381adc66-64b6-477e-ddfa-9157bad25026"
      },
      "execution_count": null,
      "outputs": [
        {
          "output_type": "stream",
          "name": "stdout",
          "text": [
            "H\n"
          ]
        }
      ]
    },
    {
      "cell_type": "code",
      "source": [
        "# what if we want to print the last character of something?\n",
        "\n",
        "def last_char(word: str) -> None:\n",
        "  word_len = len(word) - 1\n",
        "  print(word[word_len])\n",
        "\n",
        "last_char(\"HEOF\")\n",
        "\n",
        "# remember if we had a string of length 5\n",
        "# the last character is going to be at index 4"
      ],
      "metadata": {
        "colab": {
          "base_uri": "https://localhost:8080/"
        },
        "id": "r4BhE9unLriO",
        "outputId": "6655e04e-e77f-4ac9-9e24-dadcc0876709"
      },
      "execution_count": null,
      "outputs": [
        {
          "output_type": "stream",
          "name": "stdout",
          "text": [
            "F\n"
          ]
        }
      ]
    }
  ]
}