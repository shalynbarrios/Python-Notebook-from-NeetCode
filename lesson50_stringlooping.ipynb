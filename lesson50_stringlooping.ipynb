{
  "nbformat": 4,
  "nbformat_minor": 0,
  "metadata": {
    "colab": {
      "provenance": [],
      "authorship_tag": "ABX9TyMMRXOAx4eYvXaw2S67RPDv",
      "include_colab_link": true
    },
    "kernelspec": {
      "name": "python3",
      "display_name": "Python 3"
    },
    "language_info": {
      "name": "python"
    }
  },
  "cells": [
    {
      "cell_type": "markdown",
      "metadata": {
        "id": "view-in-github",
        "colab_type": "text"
      },
      "source": [
        "<a href=\"https://colab.research.google.com/github/shalynbarrios/Python-Notebook-from-NeetCode/blob/main/lesson50_stringlooping.ipynb\" target=\"_parent\"><img src=\"https://colab.research.google.com/assets/colab-badge.svg\" alt=\"Open In Colab\"/></a>"
      ]
    },
    {
      "cell_type": "markdown",
      "source": [
        "**Lesson 50 is on String Looping**\n",
        "\n",
        "We are looping through the characters of a string."
      ],
      "metadata": {
        "id": "-_0ZwjdpMmwf"
      }
    },
    {
      "cell_type": "code",
      "execution_count": null,
      "metadata": {
        "colab": {
          "base_uri": "https://localhost:8080/"
        },
        "id": "vMCGt8kEMjbO",
        "outputId": "5170cd2e-bd5c-4945-a3e4-84ff9997a657"
      },
      "outputs": [
        {
          "output_type": "stream",
          "name": "stdout",
          "text": [
            "0\n",
            "1\n",
            "2\n",
            "3\n"
          ]
        }
      ],
      "source": [
        "# crazy thing is.. so you know how you have like\n",
        "# word is length of 4\n",
        "# but 3 indexes (starting from 0)?\n",
        "\n",
        "# this whole -1 thing might remind you of..\n",
        "# loops!\n",
        "# so if you had a loop and was like\n",
        "# for x in range(4)\n",
        "\n",
        "for y in range(4):\n",
        "  print(y)"
      ]
    },
    {
      "cell_type": "code",
      "source": [
        "# you see how it's like the same?\n",
        "# w = 0\n",
        "# o = 1\n",
        "# r = 2\n",
        "# d = 3"
      ],
      "metadata": {
        "id": "Pac-ihyaNInK"
      },
      "execution_count": null,
      "outputs": []
    },
    {
      "cell_type": "code",
      "source": [
        "# so they line up perfectly!\n",
        "my_str = \"Hello, World!\"\n",
        "length = len(my_str) # 13\n",
        "\n",
        "for i in range(length):\n",
        "  print(my_str[i])"
      ],
      "metadata": {
        "colab": {
          "base_uri": "https://localhost:8080/"
        },
        "id": "7HqoFDwaNQpR",
        "outputId": "be37d5db-10e9-4f3e-b260-cc6c14d4ef74"
      },
      "execution_count": null,
      "outputs": [
        {
          "output_type": "stream",
          "name": "stdout",
          "text": [
            "H\n",
            "e\n",
            "l\n",
            "l\n",
            "o\n",
            ",\n",
            " \n",
            "W\n",
            "o\n",
            "r\n",
            "l\n",
            "d\n",
            "!\n"
          ]
        }
      ]
    },
    {
      "cell_type": "code",
      "source": [
        "# range(length) generates numbers from 0 to length-1\n",
        "# If the length of your string is 13, then range(13) produces:\n",
        "# [0, 1, 2, 3, 4, 5, 6, 7, 8, 9, 10, 11, 12]\n",
        "# which is 13 iterations\n",
        "# which matches up the length of your string!"
      ],
      "metadata": {
        "id": "WxpgzPwxOULp"
      },
      "execution_count": null,
      "outputs": []
    },
    {
      "cell_type": "code",
      "source": [
        "my_strng = \"Hello\"\n",
        "\n",
        "for i in range(len(my_strng)):\n",
        "  print(i, my_strng[i])\n",
        "\n",
        "print(\" \")\n",
        "\n",
        "print(len(my_strng))"
      ],
      "metadata": {
        "colab": {
          "base_uri": "https://localhost:8080/"
        },
        "id": "DvPrbTykO0ob",
        "outputId": "5e1fbb77-037e-4f93-ea08-6c633e32d1fd"
      },
      "execution_count": null,
      "outputs": [
        {
          "output_type": "stream",
          "name": "stdout",
          "text": [
            "0 H\n",
            "1 e\n",
            "2 l\n",
            "3 l\n",
            "4 o\n",
            " \n",
            "5\n"
          ]
        }
      ]
    }
  ]
}