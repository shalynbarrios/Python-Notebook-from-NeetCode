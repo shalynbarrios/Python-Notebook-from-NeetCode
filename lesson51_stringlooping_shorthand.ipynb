{
  "nbformat": 4,
  "nbformat_minor": 0,
  "metadata": {
    "colab": {
      "provenance": [],
      "authorship_tag": "ABX9TyO4C8jxoR710BeTzlhc/bRm",
      "include_colab_link": true
    },
    "kernelspec": {
      "name": "python3",
      "display_name": "Python 3"
    },
    "language_info": {
      "name": "python"
    }
  },
  "cells": [
    {
      "cell_type": "markdown",
      "metadata": {
        "id": "view-in-github",
        "colab_type": "text"
      },
      "source": [
        "<a href=\"https://colab.research.google.com/github/shalynbarrios/Python-Notebook-from-NeetCode/blob/main/lesson51_stringlooping_shorthand.ipynb\" target=\"_parent\"><img src=\"https://colab.research.google.com/assets/colab-badge.svg\" alt=\"Open In Colab\"/></a>"
      ]
    },
    {
      "cell_type": "markdown",
      "source": [
        "**Lesson 51 is on the shorthand version of string looping**\n",
        "\n",
        "In other words, we don't even need to index the string"
      ],
      "metadata": {
        "id": "vp2w1VujPibS"
      }
    },
    {
      "cell_type": "code",
      "execution_count": null,
      "metadata": {
        "colab": {
          "base_uri": "https://localhost:8080/"
        },
        "id": "jOXI4ylLPc6_",
        "outputId": "ee024fbf-2375-4486-f21d-30fadc3869c8"
      },
      "outputs": [
        {
          "output_type": "stream",
          "name": "stdout",
          "text": [
            "H\n",
            "e\n",
            "l\n",
            "l\n",
            "o\n"
          ]
        }
      ],
      "source": [
        "my_string = \"Hello\"\n",
        "\n",
        "for char in my_string: # woah! no usage of range function\n",
        "  print(char)"
      ]
    },
    {
      "cell_type": "code",
      "source": [
        "def pr_string_char(word1: str, word2: str)-> None:\n",
        "  for x in word1:\n",
        "    print(x)\n",
        "  for y in word2:\n",
        "    print(y)\n",
        "\n",
        "pr_string_char(\"dog\", \"meow\")\n",
        "\n",
        "# now why doesnt this work?\n",
        "# def pr_string_char(word1: str, word2: str)-> None:\n",
        "#   for x in word1: because x as we are passing and printing is already\n",
        "                    # an index! it's a letter! not a range of numbers\n",
        "#     print(word1[x])\n",
        "#   for y in word2:\n",
        "#     print(word2[y])\n",
        "\n",
        "# pr_string_char(\"dog\", \"meow\")"
      ],
      "metadata": {
        "colab": {
          "base_uri": "https://localhost:8080/"
        },
        "id": "SsCIeKU_P4OL",
        "outputId": "1dcd2dce-abb7-4db1-f731-18a6b2313fed"
      },
      "execution_count": null,
      "outputs": [
        {
          "output_type": "stream",
          "name": "stdout",
          "text": [
            "d\n",
            "o\n",
            "g\n",
            "m\n",
            "e\n",
            "o\n",
            "w\n"
          ]
        }
      ]
    },
    {
      "cell_type": "code",
      "source": [
        "def count_vowels(word: str) -> int:\n",
        "  for x in word:\n",
        "    print(x)\n",
        "    if x == \"a\" or \"e\" or \"i\" or \"o\" or \"u\":\n",
        "      print(\"he\")\n",
        "    else:\n",
        "      pass\n",
        "\n",
        "\n",
        "count_vowels(\"wrd\")"
      ],
      "metadata": {
        "colab": {
          "base_uri": "https://localhost:8080/"
        },
        "id": "xlQrgxB21Fp0",
        "outputId": "312d29bc-4d5a-469e-cba3-4b00fd508819"
      },
      "execution_count": null,
      "outputs": [
        {
          "output_type": "stream",
          "name": "stdout",
          "text": [
            "w\n",
            "he\n",
            "r\n",
            "he\n",
            "d\n",
            "he\n"
          ]
        }
      ]
    },
    {
      "cell_type": "code",
      "source": [
        "def count_vowels(word: str) -> int:\n",
        "    for x in word:\n",
        "        print(x)\n",
        "        if x in \"aeiou\":  # Correctly check if x is a vowel\n",
        "            print(\"he\")\n",
        "        else:\n",
        "            pass\n",
        "\n",
        "count_vowels(\"wrd\")\n"
      ],
      "metadata": {
        "id": "TdKfO01A33zL",
        "outputId": "4cca2bb3-f3ca-4401-fe9e-e02f07a8c3d4",
        "colab": {
          "base_uri": "https://localhost:8080/"
        }
      },
      "execution_count": null,
      "outputs": [
        {
          "output_type": "stream",
          "name": "stdout",
          "text": [
            "w\n",
            "r\n",
            "d\n"
          ]
        }
      ]
    },
    {
      "cell_type": "code",
      "source": [
        "# in other words if we dont need the index\n",
        "\n",
        "stri = \"heyy\"\n",
        "for i in range(len(stri)):\n",
        "  print(i, stri[i])\n",
        "\n",
        "print(\" \")\n",
        "# so if we dont need to index, aka dont need the range function\n",
        "\n",
        "thing = \"heyy\"\n",
        "for char in thing:\n",
        "  print(char)\n",
        "\n",
        "# no range func!"
      ],
      "metadata": {
        "colab": {
          "base_uri": "https://localhost:8080/"
        },
        "id": "V6qxY8-D8PC6",
        "outputId": "700d39ca-9045-4ea8-9f65-114545c197ba"
      },
      "execution_count": null,
      "outputs": [
        {
          "output_type": "stream",
          "name": "stdout",
          "text": [
            "0 h\n",
            "1 e\n",
            "2 y\n",
            "3 y\n",
            " \n",
            "h\n",
            "e\n",
            "y\n",
            "y\n"
          ]
        }
      ]
    }
  ]
}