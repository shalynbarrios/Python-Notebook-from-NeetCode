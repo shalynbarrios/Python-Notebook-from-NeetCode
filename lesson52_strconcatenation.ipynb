{
  "nbformat": 4,
  "nbformat_minor": 0,
  "metadata": {
    "colab": {
      "provenance": [],
      "authorship_tag": "ABX9TyMUKxfy9XhOFTidnmqm7KOO",
      "include_colab_link": true
    },
    "kernelspec": {
      "name": "python3",
      "display_name": "Python 3"
    },
    "language_info": {
      "name": "python"
    }
  },
  "cells": [
    {
      "cell_type": "markdown",
      "metadata": {
        "id": "view-in-github",
        "colab_type": "text"
      },
      "source": [
        "<a href=\"https://colab.research.google.com/github/shalynbarrios/Python-Notebook-from-NeetCode/blob/main/lesson52_strconcatenation.ipynb\" target=\"_parent\"><img src=\"https://colab.research.google.com/assets/colab-badge.svg\" alt=\"Open In Colab\"/></a>"
      ]
    },
    {
      "cell_type": "markdown",
      "source": [
        "**Lesson 52 in on String Concatentation**\n",
        "\n",
        "This is the process of comining two or more strings into a single string"
      ],
      "metadata": {
        "id": "csuNOkSP9rhH"
      }
    },
    {
      "cell_type": "code",
      "execution_count": null,
      "metadata": {
        "colab": {
          "base_uri": "https://localhost:8080/"
        },
        "id": "dpY7C0Ez9fSO",
        "outputId": "668dae53-ad05-441c-e74a-e7f5df0d70e5"
      },
      "outputs": [
        {
          "output_type": "stream",
          "name": "stdout",
          "text": [
            "Hello World!\n"
          ]
        }
      ],
      "source": [
        "string1 = \"Hello \"\n",
        "string2 = \"World!\"\n",
        "print(string1 + string2)\n",
        "# string1 and string2 are concatenated together using the + operator"
      ]
    },
    {
      "cell_type": "code",
      "source": [
        "def concatenate(s1: str, s2: str)-> str:\n",
        "  if len(s1 + s2) >= 10:\n",
        "    print(\"Too long!\")\n",
        "  else:\n",
        "    print(\"Good job!\")\n",
        "\n",
        "concatenate(\"hey\", \"dog\")\n",
        "concatenate(\"verylongwordhere\", \"dog\")"
      ],
      "metadata": {
        "colab": {
          "base_uri": "https://localhost:8080/"
        },
        "id": "CY7_KNJg-Ds_",
        "outputId": "2cc01a6b-1940-48bc-d71b-d062a6f5b586"
      },
      "execution_count": null,
      "outputs": [
        {
          "output_type": "stream",
          "name": "stdout",
          "text": [
            "Good job!\n",
            "Too long!\n"
          ]
        }
      ]
    },
    {
      "cell_type": "code",
      "source": [
        "x = \"hey \" + \"dog\"\n",
        "if x == \"hey dog\":\n",
        "  print(\"sup dawg!\")\n",
        "else:\n",
        "  print(\"dog no!\")"
      ],
      "metadata": {
        "colab": {
          "base_uri": "https://localhost:8080/"
        },
        "id": "xpObdQCdCNMh",
        "outputId": "1db36d2b-ceca-4202-8cff-4dd7114b3e9c"
      },
      "execution_count": null,
      "outputs": [
        {
          "output_type": "stream",
          "name": "stdout",
          "text": [
            "sup dawg!\n"
          ]
        }
      ]
    }
  ]
}