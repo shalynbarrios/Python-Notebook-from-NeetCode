{
  "nbformat": 4,
  "nbformat_minor": 0,
  "metadata": {
    "colab": {
      "provenance": [],
      "authorship_tag": "ABX9TyMWBdclkmmObux/bWmgvcCw",
      "include_colab_link": true
    },
    "kernelspec": {
      "name": "python3",
      "display_name": "Python 3"
    },
    "language_info": {
      "name": "python"
    }
  },
  "cells": [
    {
      "cell_type": "markdown",
      "metadata": {
        "id": "view-in-github",
        "colab_type": "text"
      },
      "source": [
        "<a href=\"https://colab.research.google.com/github/shalynbarrios/Python-Notebook-from-NeetCode/blob/main/lesson53_stringslicing.ipynb\" target=\"_parent\"><img src=\"https://colab.research.google.com/assets/colab-badge.svg\" alt=\"Open In Colab\"/></a>"
      ]
    },
    {
      "cell_type": "markdown",
      "source": [
        "Lesson 53 is on String Slicing"
      ],
      "metadata": {
        "id": "t5j5e49qDf2f"
      }
    },
    {
      "cell_type": "code",
      "execution_count": null,
      "metadata": {
        "colab": {
          "base_uri": "https://localhost:8080/"
        },
        "id": "by9XDTB_DWPO",
        "outputId": "bb11beed-3152-478d-a9db-3c287d4023c8"
      },
      "outputs": [
        {
          "output_type": "stream",
          "name": "stdout",
          "text": [
            "ello\n"
          ]
        }
      ],
      "source": [
        "my_string = \"HelloShay\"\n",
        "\n",
        "# remember, 1 is \"e\"\n",
        "# does not include 5 below\n",
        "\n",
        "start, end = 1, 5\n",
        "print(my_string[start:end])\n"
      ]
    },
    {
      "cell_type": "code",
      "source": [
        "# to see it more clearly, let's ask it to also rpitn out what the index is for each letter\n",
        "string = \"HelloShay\"\n",
        "\n",
        "for i in range(1,5):\n",
        "  print(string[i], i)"
      ],
      "metadata": {
        "colab": {
          "base_uri": "https://localhost:8080/"
        },
        "id": "rBy_FjYQmFYQ",
        "outputId": "1a49f1ce-eb5a-43ba-8224-36994a76aaf8"
      },
      "execution_count": null,
      "outputs": [
        {
          "output_type": "stream",
          "name": "stdout",
          "text": [
            "e 1\n",
            "l 2\n",
            "l 3\n",
            "o 4\n"
          ]
        }
      ]
    },
    {
      "cell_type": "code",
      "source": [
        "def get_substring(str1: str, start: int, end: int) -> str:\n",
        "  if end > len(str1):\n",
        "    return \"\"\n",
        "  return str1[start:end]\n",
        "\n",
        "# ur asking for a range of indecies\n",
        "\n",
        "get_substring(\"heyyyyy\",2,5)"
      ],
      "metadata": {
        "id": "FDl2WArFEPG6",
        "colab": {
          "base_uri": "https://localhost:8080/",
          "height": 35
        },
        "outputId": "d1beea05-0568-4154-f038-71619f336f47"
      },
      "execution_count": null,
      "outputs": [
        {
          "output_type": "execute_result",
          "data": {
            "text/plain": [
              "'yyy'"
            ],
            "application/vnd.google.colaboratory.intrinsic+json": {
              "type": "string"
            }
          },
          "metadata": {},
          "execution_count": 7
        }
      ]
    },
    {
      "cell_type": "code",
      "source": [
        "# h e l l o\n",
        "# 0 1 2 3 4\n",
        "# start = 0 and e = 5 is valid"
      ],
      "metadata": {
        "id": "_iVz0-ef7mux"
      },
      "execution_count": null,
      "outputs": []
    }
  ]
}