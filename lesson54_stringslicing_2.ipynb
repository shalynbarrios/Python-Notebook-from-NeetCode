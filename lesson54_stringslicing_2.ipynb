{
  "nbformat": 4,
  "nbformat_minor": 0,
  "metadata": {
    "colab": {
      "provenance": [],
      "authorship_tag": "ABX9TyMbzziDu7Mwh2bLBwuvjCq6",
      "include_colab_link": true
    },
    "kernelspec": {
      "name": "python3",
      "display_name": "Python 3"
    },
    "language_info": {
      "name": "python"
    }
  },
  "cells": [
    {
      "cell_type": "markdown",
      "metadata": {
        "id": "view-in-github",
        "colab_type": "text"
      },
      "source": [
        "<a href=\"https://colab.research.google.com/github/shalynbarrios/Python-Notebook-from-NeetCode/blob/main/lesson54_stringslicing_2.ipynb\" target=\"_parent\"><img src=\"https://colab.research.google.com/assets/colab-badge.svg\" alt=\"Open In Colab\"/></a>"
      ]
    },
    {
      "cell_type": "markdown",
      "source": [
        "Lesson 54 is a continuation of String Slicing"
      ],
      "metadata": {
        "id": "ZD6bKia9nt1f"
      }
    },
    {
      "cell_type": "code",
      "execution_count": null,
      "metadata": {
        "colab": {
          "base_uri": "https://localhost:8080/"
        },
        "id": "wsXbDxiClp_h",
        "outputId": "31cbfccf-387a-49d4-8b1e-8fd15d417c8a"
      },
      "outputs": [
        {
          "output_type": "stream",
          "name": "stdout",
          "text": [
            "Nee\n",
            "Nee\n"
          ]
        }
      ],
      "source": [
        "my_string = \"NeetCode\"\n",
        "\n",
        "print(my_string[:3])\n",
        "\n",
        "print(my_string[0:3])\n",
        "# same thing!"
      ]
    },
    {
      "cell_type": "code",
      "source": [
        "my_string = \"NeetCode\"\n",
        "\n",
        "print(my_string[4:])\n",
        "\n",
        "print(my_string[4:8])\n",
        "# same thing!"
      ],
      "metadata": {
        "colab": {
          "base_uri": "https://localhost:8080/"
        },
        "id": "iREtoMHzn7yV",
        "outputId": "2a521603-10e8-4e41-d80d-8e8aa53047e8"
      },
      "execution_count": null,
      "outputs": [
        {
          "output_type": "stream",
          "name": "stdout",
          "text": [
            "Code\n",
            "Code\n"
          ]
        }
      ]
    },
    {
      "cell_type": "code",
      "source": [
        "my_string = \"NeetCode\"\n",
        "\n",
        "print(my_string[:]) # this is a copy\n",
        "\n",
        "print(my_string)\n",
        "# same thing!"
      ],
      "metadata": {
        "colab": {
          "base_uri": "https://localhost:8080/"
        },
        "id": "lu3bwRqEoKN6",
        "outputId": "432e0edc-97a1-4d55-d902-7318d22de7b8"
      },
      "execution_count": null,
      "outputs": [
        {
          "output_type": "stream",
          "name": "stdout",
          "text": [
            "NeetCode\n",
            "NeetCode\n"
          ]
        }
      ]
    },
    {
      "cell_type": "code",
      "source": [
        "def first_n_char(s:str, n: int) -> str:\n",
        "  return s[:n]\n",
        "\n",
        "first_n_char(\"sorry!\", 3)"
      ],
      "metadata": {
        "colab": {
          "base_uri": "https://localhost:8080/"
        },
        "id": "zwuYUC-aoV-q",
        "outputId": "7ab27636-13ca-4b4a-b7a0-c0e761601852"
      },
      "execution_count": null,
      "outputs": [
        {
          "output_type": "stream",
          "name": "stdout",
          "text": [
            "sor\n"
          ]
        }
      ]
    },
    {
      "cell_type": "code",
      "source": [
        "def last_n_char(s:str, n: int)-> str:\n",
        "  return s[n:]\n",
        "\n",
        "print(last_n_char(\"sorry!\",4))\n",
        "print(last_n_char(\"neetcode\",8))\n",
        "# this isnt gettign the last n, and instead, its slicing from n\n",
        "def slice_from_n(s: str, n: int) -> str:\n",
        "    return s[n:]  # This slices from the n-th index to the end of the string\n",
        "\n",
        "print(slice_from_n(\"sorry!\", 4))  # Expected output: \"y!\"\n",
        "print(slice_from_n(\"neetcode\", 8))  # Expected output: \"\"\n",
        "# to get the actual last n characters, look at the next one"
      ],
      "metadata": {
        "colab": {
          "base_uri": "https://localhost:8080/"
        },
        "id": "iGv0W8sko0df",
        "outputId": "cebe61b1-89ac-4758-db85-f2b7cef60e2c"
      },
      "execution_count": null,
      "outputs": [
        {
          "output_type": "stream",
          "name": "stdout",
          "text": [
            "y!\n",
            "\n"
          ]
        }
      ]
    },
    {
      "cell_type": "code",
      "source": [
        "def last_n_char(s:str, n: int)-> str:\n",
        "  index = len(s) - n # When we subtract n from the length of the string, we are essentially\n",
        "                    # finding the position that is n characters away from the end.\n",
        "                    # so for \"sorry!\" when n = 4, 6 - 4 = 2. so the starting index is 2\n",
        "                    # which is where the last 4 characters of the string begin\n",
        "  return s[index:]  # python knows to index all the way to the end of the string\n",
        "                    # this is like shorthand notation for [index:len(s)] as you can see\n",
        "                    # in the next bubble below\n",
        "print(last_n_char(\"sorry!\",4))\n",
        "print(last_n_char(\"neetcode\",8))"
      ],
      "metadata": {
        "colab": {
          "base_uri": "https://localhost:8080/"
        },
        "id": "IS7XZpDnpd2v",
        "outputId": "0acf88bb-e343-424f-a469-626f0c5ade92"
      },
      "execution_count": null,
      "outputs": [
        {
          "output_type": "stream",
          "name": "stdout",
          "text": [
            "rry!\n",
            "neetcode\n"
          ]
        }
      ]
    },
    {
      "cell_type": "code",
      "source": [
        "def last_n_char(s:str, n: int)-> str:\n",
        "  index = len(s) - n\n",
        "  endindex = len(s)\n",
        "  return s[index:endindex] # not shorthand version of [:]\n",
        "\n",
        "print(last_n_char(\"sorry!\",4))\n",
        "print(last_n_char(\"neetcode\",8))"
      ],
      "metadata": {
        "colab": {
          "base_uri": "https://localhost:8080/"
        },
        "id": "fhPrZJTWtFdJ",
        "outputId": "392f3f48-be78-46f5-9051-b7c5dce151a1"
      },
      "execution_count": null,
      "outputs": [
        {
          "output_type": "stream",
          "name": "stdout",
          "text": [
            "rry!\n",
            "neetcode\n"
          ]
        }
      ]
    }
  ]
}