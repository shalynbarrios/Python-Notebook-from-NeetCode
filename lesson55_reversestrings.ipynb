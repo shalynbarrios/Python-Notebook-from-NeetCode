{
  "nbformat": 4,
  "nbformat_minor": 0,
  "metadata": {
    "colab": {
      "provenance": [],
      "authorship_tag": "ABX9TyO5c/0jshXpRZDqJkFpf5PX",
      "include_colab_link": true
    },
    "kernelspec": {
      "name": "python3",
      "display_name": "Python 3"
    },
    "language_info": {
      "name": "python"
    }
  },
  "cells": [
    {
      "cell_type": "markdown",
      "metadata": {
        "id": "view-in-github",
        "colab_type": "text"
      },
      "source": [
        "<a href=\"https://colab.research.google.com/github/shalynbarrios/Python-Notebook-from-NeetCode/blob/main/lesson55_reversestrings.ipynb\" target=\"_parent\"><img src=\"https://colab.research.google.com/assets/colab-badge.svg\" alt=\"Open In Colab\"/></a>"
      ]
    },
    {
      "cell_type": "markdown",
      "source": [
        "Lesson 55 is on reversing a string"
      ],
      "metadata": {
        "id": "txe8akFE0RT2"
      }
    },
    {
      "cell_type": "code",
      "execution_count": null,
      "metadata": {
        "colab": {
          "base_uri": "https://localhost:8080/"
        },
        "id": "n6N0S4YD0PsO",
        "outputId": "30664e09-24a0-4ed7-cea0-50f0ba28e81f"
      },
      "outputs": [
        {
          "output_type": "stream",
          "name": "stdout",
          "text": [
            "!olleH\n"
          ]
        }
      ],
      "source": [
        "my_string = \"Hello!\"\n",
        "print(my_string[::-1])\n",
        "\n",
        "# it's kind of similar to for loops in the sense b/c\n",
        "# you had for i in range(start, end, step size) (or i += step size)\n",
        "\n",
        "# The double colon ([::-1]) works to reverse the string because:\n",
        "# The start and end are omitted, so it defaults to the entire string\n",
        "# The step size of -1 tells Python to step backwards through the string\n",
        "\n",
        "# with specific indexes it could be like\n",
        "# print(my_string[3:1:-1]) where you are slicing from index 3 to 1 in reverse"
      ]
    },
    {
      "cell_type": "code",
      "source": [
        "my_string = \"Hey Shay\"\n",
        "start, end, step = 1, 4, 1\n",
        "\n",
        "# note that step = 1 isnt necessary to state b/c its default\n",
        "\n",
        "print(my_string[start:end:step])"
      ],
      "metadata": {
        "colab": {
          "base_uri": "https://localhost:8080/"
        },
        "id": "3d3lzJnw1Sw9",
        "outputId": "5043e684-d66b-46c9-ad56-91fb104191cc"
      },
      "execution_count": null,
      "outputs": [
        {
          "output_type": "stream",
          "name": "stdout",
          "text": [
            "ey \n"
          ]
        }
      ]
    },
    {
      "cell_type": "code",
      "source": [
        "def reverse_string(s: str) -> str:\n",
        "  return s[::-1]\n",
        "\n",
        "reverse_string(\"Heya Shaya!\")"
      ],
      "metadata": {
        "colab": {
          "base_uri": "https://localhost:8080/",
          "height": 35
        },
        "id": "P8tn_LP92glR",
        "outputId": "5140e316-95b6-4b4f-f965-079db32be961"
      },
      "execution_count": null,
      "outputs": [
        {
          "output_type": "execute_result",
          "data": {
            "text/plain": [
              "'!ayahS ayeH'"
            ],
            "application/vnd.google.colaboratory.intrinsic+json": {
              "type": "string"
            }
          },
          "metadata": {},
          "execution_count": 5
        }
      ]
    }
  ]
}