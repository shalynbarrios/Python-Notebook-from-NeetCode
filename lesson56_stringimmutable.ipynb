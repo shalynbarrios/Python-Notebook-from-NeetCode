{
  "nbformat": 4,
  "nbformat_minor": 0,
  "metadata": {
    "colab": {
      "provenance": [],
      "authorship_tag": "ABX9TyPhlzumfVre7KX6HqAdcGjw",
      "include_colab_link": true
    },
    "kernelspec": {
      "name": "python3",
      "display_name": "Python 3"
    },
    "language_info": {
      "name": "python"
    }
  },
  "cells": [
    {
      "cell_type": "markdown",
      "metadata": {
        "id": "view-in-github",
        "colab_type": "text"
      },
      "source": [
        "<a href=\"https://colab.research.google.com/github/shalynbarrios/Python-Notebook-from-NeetCode/blob/main/lesson56_stringimmutable.ipynb\" target=\"_parent\"><img src=\"https://colab.research.google.com/assets/colab-badge.svg\" alt=\"Open In Colab\"/></a>"
      ]
    },
    {
      "cell_type": "markdown",
      "source": [
        "Lesson 56 tells us that strings are immutable (cannot modify or change the original strange)"
      ],
      "metadata": {
        "id": "21Uu_x0g32SH"
      }
    },
    {
      "cell_type": "code",
      "execution_count": null,
      "metadata": {
        "colab": {
          "base_uri": "https://localhost:8080/"
        },
        "id": "-mcMBP8k3yq-",
        "outputId": "8508b475-a208-4838-8f46-fe2f4ad0d8d9"
      },
      "outputs": [
        {
          "output_type": "stream",
          "name": "stdout",
          "text": [
            "Iwill never change\n"
          ]
        }
      ],
      "source": [
        "# if we wanted to create a string from an original string (since we can't change it)\n",
        "# we can accomplish this by slicing and concatenation\n",
        "\n",
        "message = \"I will never change\"\n",
        "\n",
        "before_second_char = message[:1] # 1st char (0 index)\n",
        "after_second_char = message[2:] # 3rd char (2 index)\n",
        "\n",
        "new_message = before_second_char + after_second_char\n",
        "print(new_message)"
      ]
    },
    {
      "cell_type": "markdown",
      "source": [
        "Above, we reomved the second character, which was the space, and then concatenated the two slices together to create a new string"
      ],
      "metadata": {
        "id": "N9zMiLeq4oUq"
      }
    },
    {
      "cell_type": "code",
      "source": [
        "# now try to implement a function to remove the fourth character\n",
        "# which then creates a new string from the  two slices\n",
        "\n",
        "def remove_fourth_char(s:str) -> str:\n",
        "  first_slice = s[:3] # (char 4 = index 3)\n",
        "  second_slice = s[4:]# (char 5 = index 4)\n",
        "  return first_slice + second_slice\n",
        "\n",
        "remove_fourth_char(\"Hi Shay!\")"
      ],
      "metadata": {
        "colab": {
          "base_uri": "https://localhost:8080/",
          "height": 35
        },
        "id": "NZG792ZB4wH9",
        "outputId": "15ce5d96-ff71-4699-cb0d-feb2e127c0eb"
      },
      "execution_count": null,
      "outputs": [
        {
          "output_type": "execute_result",
          "data": {
            "text/plain": [
              "'Hi hay!'"
            ],
            "application/vnd.google.colaboratory.intrinsic+json": {
              "type": "string"
            }
          },
          "metadata": {},
          "execution_count": 4
        }
      ]
    }
  ]
}