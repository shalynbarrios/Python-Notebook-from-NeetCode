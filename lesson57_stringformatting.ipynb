{
  "nbformat": 4,
  "nbformat_minor": 0,
  "metadata": {
    "colab": {
      "provenance": [],
      "authorship_tag": "ABX9TyNVIVVIi2PgKEOv7j32XFLK",
      "include_colab_link": true
    },
    "kernelspec": {
      "name": "python3",
      "display_name": "Python 3"
    },
    "language_info": {
      "name": "python"
    }
  },
  "cells": [
    {
      "cell_type": "markdown",
      "metadata": {
        "id": "view-in-github",
        "colab_type": "text"
      },
      "source": [
        "<a href=\"https://colab.research.google.com/github/shalynbarrios/Python-Notebook-from-NeetCode/blob/main/lesson57_stringformatting.ipynb\" target=\"_parent\"><img src=\"https://colab.research.google.com/assets/colab-badge.svg\" alt=\"Open In Colab\"/></a>"
      ]
    },
    {
      "cell_type": "markdown",
      "source": [
        "Lesson 57 is on String Formatting"
      ],
      "metadata": {
        "id": "uScW3W6DbvG0"
      }
    },
    {
      "cell_type": "code",
      "execution_count": null,
      "metadata": {
        "colab": {
          "base_uri": "https://localhost:8080/"
        },
        "id": "nEEbfLaxbsJx",
        "outputId": "57fa3d93-87f5-481e-8841-70621b3504ab"
      },
      "outputs": [
        {
          "output_type": "stream",
          "name": "stdout",
          "text": [
            "Hello, Alice. You are 25 years old.\n"
          ]
        }
      ],
      "source": [
        "name = \"Alice\"\n",
        "age = 25\n",
        "\n",
        "msg = \"Hello, {}. You are {} years old.\".format(name, age) # these parameters\n",
        "# come in order, so name will fill up the first {} and so on\n",
        "# format() is a built in function in python\n",
        "print(msg)\n",
        "\n",
        "# remember, the number of placeholders must match the number of arguments passed\n",
        "# in the format function\n",
        "# in other words, there must be an argument per {}"
      ]
    },
    {
      "cell_type": "code",
      "source": [
        "# let's say we wanted to specify the order\n",
        "name = \"Alice\"\n",
        "age = 25\n",
        "\n",
        "msg = \"Hello, {1}. You are {0} years old.\".format(age, name)\n",
        "# the number in the {} is the order, so 0 is first, 1 is next, etc\n",
        "# so if you wanted to specify the order, this is how!\n",
        "print(msg)"
      ],
      "metadata": {
        "colab": {
          "base_uri": "https://localhost:8080/"
        },
        "id": "q8MeL6amcJiT",
        "outputId": "b8f775b2-6acf-4695-950f-390e55ea40cf"
      },
      "execution_count": null,
      "outputs": [
        {
          "output_type": "stream",
          "name": "stdout",
          "text": [
            "Hello, Alice. You are 25 years old.\n"
          ]
        }
      ]
    },
    {
      "cell_type": "code",
      "source": [
        "# there is another way to call without the format function..\n",
        "# this way is more widely used\n",
        "\n",
        "name = \"Alice\"\n",
        "age = 25\n",
        "\n",
        "msg = f\"Hello, {name}. You are {age} years old.\" # this is called an f string! short for\n",
        "# formatted string\n",
        "\n",
        "print(msg)"
      ],
      "metadata": {
        "colab": {
          "base_uri": "https://localhost:8080/"
        },
        "id": "Y5UI5G-Fc_zX",
        "outputId": "0067738a-3157-4716-fa58-daa59ede1b74"
      },
      "execution_count": null,
      "outputs": [
        {
          "output_type": "stream",
          "name": "stdout",
          "text": [
            "Hello, Alice. You are 25 years old.\n"
          ]
        }
      ]
    }
  ]
}