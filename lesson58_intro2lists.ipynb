{
  "nbformat": 4,
  "nbformat_minor": 0,
  "metadata": {
    "colab": {
      "provenance": [],
      "authorship_tag": "ABX9TyO3uAjZtMRyboFHjobdE/m+",
      "include_colab_link": true
    },
    "kernelspec": {
      "name": "python3",
      "display_name": "Python 3"
    },
    "language_info": {
      "name": "python"
    }
  },
  "cells": [
    {
      "cell_type": "markdown",
      "metadata": {
        "id": "view-in-github",
        "colab_type": "text"
      },
      "source": [
        "<a href=\"https://colab.research.google.com/github/shalynbarrios/Python-Notebook-from-NeetCode/blob/main/lesson58_intro2lists.ipynb\" target=\"_parent\"><img src=\"https://colab.research.google.com/assets/colab-badge.svg\" alt=\"Open In Colab\"/></a>"
      ]
    },
    {
      "cell_type": "markdown",
      "source": [
        "**Lesson 58 is an Intro to Lists!**\n",
        "\n",
        "This is a data type pretty similar to strings, which is a collection of characters in a given order.\n",
        "\n",
        "A list is a collection of items that are stored in a specific order.\n"
      ],
      "metadata": {
        "id": "CCQaE6ypfL7S"
      }
    },
    {
      "cell_type": "code",
      "execution_count": null,
      "metadata": {
        "colab": {
          "base_uri": "https://localhost:8080/"
        },
        "id": "goLqzncBfE5S",
        "outputId": "cdd06d59-7ee4-4d6a-d8d5-9213d2575b77"
      },
      "outputs": [
        {
          "output_type": "stream",
          "name": "stdout",
          "text": [
            "3\n",
            "1\n",
            "2\n",
            "3\n"
          ]
        }
      ],
      "source": [
        "my_first_list = [1, 2 ,3]\n",
        "\n",
        "print(len(my_first_list))\n",
        "\n",
        "# we can index a list like a string!\n",
        "\n",
        "print(my_first_list[0])\n",
        "print(my_first_list[1])\n",
        "print(my_first_list[2])"
      ]
    },
    {
      "cell_type": "code",
      "source": [
        "# lists are mutable, unlike strings\n",
        "\n",
        "my_list = [1, 2, 3]\n",
        "my_list[0] = 10\n",
        "print(my_list)\n",
        "\n",
        "# we modified the index 0 to go from 1 to 10"
      ],
      "metadata": {
        "colab": {
          "base_uri": "https://localhost:8080/"
        },
        "id": "UD8yCcgDf8Do",
        "outputId": "0c378157-05bc-414a-82b0-8a8f37fa296b"
      },
      "execution_count": null,
      "outputs": [
        {
          "output_type": "stream",
          "name": "stdout",
          "text": [
            "[10, 2, 3]\n"
          ]
        }
      ]
    },
    {
      "cell_type": "code",
      "source": [
        "# lists can also store more than numbers\n",
        "my_list = [\"I\", \"am\", \"a\", \"list\"]\n",
        "# this is a list of strings\n",
        "\n",
        "for x in my_list:\n",
        "  print(x)"
      ],
      "metadata": {
        "colab": {
          "base_uri": "https://localhost:8080/"
        },
        "id": "P2_bBeAzgQAn",
        "outputId": "687468ce-8fdd-4dc2-bcd0-5515f55d929a"
      },
      "execution_count": null,
      "outputs": [
        {
          "output_type": "stream",
          "name": "stdout",
          "text": [
            "I\n",
            "am\n",
            "a\n",
            "list\n"
          ]
        }
      ]
    },
    {
      "cell_type": "code",
      "source": [
        "# we can even mix and match different types of elements (strings, integers, floats, bool)\n",
        "my_list = [1, \"Hey Shay!\", 3.14, True]\n",
        "print(my_list)\n",
        "\n",
        "# however, this is generally not recommended because it can get messy and unpredictable\n",
        "# just know it's possible!"
      ],
      "metadata": {
        "colab": {
          "base_uri": "https://localhost:8080/"
        },
        "id": "tyB_bNBGg1s2",
        "outputId": "194e39af-e537-4ea9-a0bc-b0c9b23556b0"
      },
      "execution_count": null,
      "outputs": [
        {
          "output_type": "stream",
          "name": "stdout",
          "text": [
            "[1, 'Hey Shay!', 3.14, True]\n"
          ]
        }
      ]
    },
    {
      "cell_type": "code",
      "source": [
        "my_list = [1, 7, 5, 4, 3, 2]\n",
        "\n",
        "# remember\n",
        "# 1 7 5 4 3 2\n",
        "# 0 1 2 3 4 5\n",
        "\n",
        "print(my_list[1])\n",
        "print(my_list[2])\n",
        "print(my_list[0])\n",
        "print(len(my_list))"
      ],
      "metadata": {
        "colab": {
          "base_uri": "https://localhost:8080/"
        },
        "id": "loBJHz7qhPlp",
        "outputId": "5b8243d5-e6e0-49ef-9392-225852d139cc"
      },
      "execution_count": null,
      "outputs": [
        {
          "output_type": "stream",
          "name": "stdout",
          "text": [
            "7\n",
            "5\n",
            "1\n",
            "6\n"
          ]
        }
      ]
    }
  ]
}