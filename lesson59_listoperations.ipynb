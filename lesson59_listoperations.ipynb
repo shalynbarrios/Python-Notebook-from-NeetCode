{
  "nbformat": 4,
  "nbformat_minor": 0,
  "metadata": {
    "colab": {
      "provenance": [],
      "authorship_tag": "ABX9TyNMHrqu77Y+kZ/vE35RWbu/",
      "include_colab_link": true
    },
    "kernelspec": {
      "name": "python3",
      "display_name": "Python 3"
    },
    "language_info": {
      "name": "python"
    }
  },
  "cells": [
    {
      "cell_type": "markdown",
      "metadata": {
        "id": "view-in-github",
        "colab_type": "text"
      },
      "source": [
        "<a href=\"https://colab.research.google.com/github/shalynbarrios/Python-Notebook-from-NeetCode/blob/main/lesson59_listoperations.ipynb\" target=\"_parent\"><img src=\"https://colab.research.google.com/assets/colab-badge.svg\" alt=\"Open In Colab\"/></a>"
      ]
    },
    {
      "cell_type": "markdown",
      "source": [
        "**Lesson 59 is on List Operations.**\n",
        "\n",
        "Lists can also be used within conditional statements."
      ],
      "metadata": {
        "id": "jIduVSgQlAoO"
      }
    },
    {
      "cell_type": "code",
      "execution_count": null,
      "metadata": {
        "colab": {
          "base_uri": "https://localhost:8080/"
        },
        "id": "hyeMwW1Bk8Cw",
        "outputId": "4cb57a97-1caf-4e8d-adbb-6d90867f5d2d"
      },
      "outputs": [
        {
          "output_type": "stream",
          "name": "stdout",
          "text": [
            "not empty\n",
            "not empty\n"
          ]
        }
      ],
      "source": [
        "# here, we are checking if a list is empty or not\n",
        "\n",
        "my_list = [1, 2, 3]\n",
        "if len(my_list) > 0: # this is true, so\n",
        "  print(\"not empty\") # the first conditon will run b/c it's true\n",
        "else:\n",
        "  print(\"list is empty\")\n",
        "\n",
        "# this isn't the only way to check!\n",
        "\n",
        "if my_list: # using list in boolean contxt, it's like truthy falsy.\n",
        "            # if it has an element, it will run truthy.\n",
        "  print(\"not empty\")\n",
        "else:\n",
        "  print(\"empty\")\n"
      ]
    },
    {
      "cell_type": "code",
      "source": [
        "# if we want to check if a specific element is IN the list, we can do\n",
        "\n",
        "my_list = [1, 2, 3]\n",
        "if 2 in my_list:\n",
        "  print(\"2 is in the list\")\n",
        "else:\n",
        "  print(\"2 is not in the list\")"
      ],
      "metadata": {
        "colab": {
          "base_uri": "https://localhost:8080/"
        },
        "id": "qS-kDziJmN2Z",
        "outputId": "49ca118d-3887-438f-d5a1-9d49b0d5a209"
      },
      "execution_count": null,
      "outputs": [
        {
          "output_type": "stream",
          "name": "stdout",
          "text": [
            "2 is in the list\n"
          ]
        }
      ]
    },
    {
      "cell_type": "code",
      "source": [
        "# if we want to check if an element is NOT in the list, we can do\n",
        "\n",
        "my_list = [1, 2, 3]\n",
        "if 4 not in my_list:\n",
        "  print(\"4 is not in list\")\n",
        "else:\n",
        "  print(\"4 is in list\")"
      ],
      "metadata": {
        "colab": {
          "base_uri": "https://localhost:8080/"
        },
        "id": "UcqthTJ6l3iQ",
        "outputId": "91d8a878-a152-432c-dc2f-814e96fc6412"
      },
      "execution_count": null,
      "outputs": [
        {
          "output_type": "stream",
          "name": "stdout",
          "text": [
            "4 is not in list\n"
          ]
        }
      ]
    },
    {
      "cell_type": "code",
      "source": [
        "def check_list_full(thislist) -> bool:\n",
        "  if thislist:\n",
        "    return True\n",
        "  else:\n",
        "    return False\n",
        "\n",
        "print(check_list_full([1,2,3]))\n",
        "\n",
        "# we can also do!\n",
        "\n",
        "def check_list_full(thislist) -> bool:\n",
        "  if thislist:\n",
        "    return True\n",
        "  return False\n",
        "\n",
        "print(check_list_full([1,2,3]))\n",
        "\n",
        "# we can also do!\n",
        "\n",
        "def check_list_full(thislist) -> bool:\n",
        "  return len(thislist) != 0\n",
        "\n",
        "print(check_list_full([1,2,3]))"
      ],
      "metadata": {
        "colab": {
          "base_uri": "https://localhost:8080/"
        },
        "id": "LJ7w2Cgco9EW",
        "outputId": "9c0eec97-73c6-49d0-def8-0f1786d682c2"
      },
      "execution_count": null,
      "outputs": [
        {
          "output_type": "stream",
          "name": "stdout",
          "text": [
            "True\n",
            "True\n",
            "True\n"
          ]
        }
      ]
    },
    {
      "cell_type": "code",
      "source": [
        "def check_list_empty(thislist) -> bool:\n",
        "  if thislist:\n",
        "    return False\n",
        "  return True\n",
        "\n",
        "print(check_list_empty([1,2,3]))\n",
        "\n",
        "# we can also do!\n",
        "\n",
        "def check_list_empty(thislist) -> bool:\n",
        "  return len(thislist) == 0\n",
        "\n",
        "print(check_list_empty([1,2,3]))"
      ],
      "metadata": {
        "colab": {
          "base_uri": "https://localhost:8080/"
        },
        "id": "uNGa2K-mmmZ-",
        "outputId": "3eb3a4c6-6269-4aa3-a253-686b1a6ad8da"
      },
      "execution_count": null,
      "outputs": [
        {
          "output_type": "stream",
          "name": "stdout",
          "text": [
            "False\n",
            "False\n"
          ]
        }
      ]
    },
    {
      "cell_type": "code",
      "source": [
        "def check_element_in_list(thislist, element) -> bool:\n",
        "  if element in thislist:\n",
        "    return True\n",
        "  return False\n",
        "\n",
        "print(check_element_in_list([2,4,5],1))\n",
        "\n",
        "# we can also do!\n",
        "\n",
        "def check_element_in_list(thislist, element) -> bool:\n",
        "  return element in thislist\n",
        "\n",
        "print(check_element_in_list([2,4,5],1))\n"
      ],
      "metadata": {
        "colab": {
          "base_uri": "https://localhost:8080/"
        },
        "id": "53whKZT4nEIh",
        "outputId": "8cbc6a16-2c6d-43b7-bebc-c68a94ba2c40"
      },
      "execution_count": null,
      "outputs": [
        {
          "output_type": "stream",
          "name": "stdout",
          "text": [
            "False\n",
            "False\n"
          ]
        }
      ]
    }
  ]
}