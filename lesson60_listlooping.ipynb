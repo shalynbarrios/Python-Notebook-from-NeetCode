{
  "nbformat": 4,
  "nbformat_minor": 0,
  "metadata": {
    "colab": {
      "provenance": [],
      "authorship_tag": "ABX9TyPq/nA+2lNqts+vhRLJ6HaO",
      "include_colab_link": true
    },
    "kernelspec": {
      "name": "python3",
      "display_name": "Python 3"
    },
    "language_info": {
      "name": "python"
    }
  },
  "cells": [
    {
      "cell_type": "markdown",
      "metadata": {
        "id": "view-in-github",
        "colab_type": "text"
      },
      "source": [
        "<a href=\"https://colab.research.google.com/github/shalynbarrios/Python-Notebook-from-NeetCode/blob/main/lesson60_listlooping.ipynb\" target=\"_parent\"><img src=\"https://colab.research.google.com/assets/colab-badge.svg\" alt=\"Open In Colab\"/></a>"
      ]
    },
    {
      "cell_type": "markdown",
      "source": [
        "**Lesson 60 tells us how we can loop through lists (similar to how we loop through strings)**\n",
        "\n",
        "We will use with the range function and without, just like we've learned for strings"
      ],
      "metadata": {
        "id": "XQdT_nEHp_62"
      }
    },
    {
      "cell_type": "code",
      "execution_count": null,
      "metadata": {
        "id": "2Bf_iqanp82U",
        "colab": {
          "base_uri": "https://localhost:8080/"
        },
        "outputId": "4764d87f-2a9b-4d68-d4dc-eef5650f506f"
      },
      "outputs": [
        {
          "output_type": "stream",
          "name": "stdout",
          "text": [
            "1\n",
            "2\n",
            "3\n",
            "4\n",
            "5\n"
          ]
        }
      ],
      "source": [
        "# an example using the built-in range and length function\n",
        "\n",
        "my_list = [1, 2, 3, 4, 5]\n",
        "\n",
        "for i in range(len(my_list)):\n",
        "  print(my_list[i])\n",
        "\n",
        "# this is very similar to\n",
        "\n",
        "for x in range(1, 5):\n",
        "  print(x)"
      ]
    },
    {
      "cell_type": "code",
      "source": [
        "# or by using the in operator\n",
        "\n",
        "my_list = [1, 2, 3, 4, 5]\n",
        "\n",
        "for element in my_list:\n",
        "  print(element)\n",
        "\n",
        "# if we don't need the index of each element, this method is\n",
        "# generally preferred\n",
        "\n",
        "# this is very similar to\n",
        "\n",
        "word = \"shay loves dogs!\"\n",
        "\n",
        "for char in word:\n",
        "  print(char)"
      ],
      "metadata": {
        "colab": {
          "base_uri": "https://localhost:8080/"
        },
        "id": "66O23NSj2lV3",
        "outputId": "280d7545-d137-4abd-9244-35bb290dd597"
      },
      "execution_count": null,
      "outputs": [
        {
          "output_type": "stream",
          "name": "stdout",
          "text": [
            "1\n",
            "2\n",
            "3\n",
            "4\n",
            "5\n"
          ]
        }
      ]
    },
    {
      "cell_type": "code",
      "source": [
        "from typing import List # this is used to add the type hint for List[]\n",
        "\n",
        "def count_x(nums: List[int], x: int) -> int: # List [int] is a list of integers\n",
        "  count = 0\n",
        "  for element in nums:\n",
        "    if element == x:\n",
        "      count += 1\n",
        "  return count\n",
        "\n",
        "print(count_x([1,2,3], 5))\n",
        "print(count_x([5,2,6], 2))\n",
        "print(count_x([2,2,2], 2))"
      ],
      "metadata": {
        "colab": {
          "base_uri": "https://localhost:8080/"
        },
        "id": "Dh6CVuLN286G",
        "outputId": "52ee6d0f-bf80-41da-987f-2fda08e92168"
      },
      "execution_count": null,
      "outputs": [
        {
          "output_type": "stream",
          "name": "stdout",
          "text": [
            "0\n",
            "1\n",
            "3\n"
          ]
        }
      ]
    }
  ]
}