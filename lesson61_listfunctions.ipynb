{
  "nbformat": 4,
  "nbformat_minor": 0,
  "metadata": {
    "colab": {
      "provenance": [],
      "authorship_tag": "ABX9TyOCKnKtpkdtglEUnyEqP/GU",
      "include_colab_link": true
    },
    "kernelspec": {
      "name": "python3",
      "display_name": "Python 3"
    },
    "language_info": {
      "name": "python"
    }
  },
  "cells": [
    {
      "cell_type": "markdown",
      "metadata": {
        "id": "view-in-github",
        "colab_type": "text"
      },
      "source": [
        "<a href=\"https://colab.research.google.com/github/shalynbarrios/Python-Notebook-from-NeetCode/blob/main/lesson61_listfunctions.ipynb\" target=\"_parent\"><img src=\"https://colab.research.google.com/assets/colab-badge.svg\" alt=\"Open In Colab\"/></a>"
      ]
    },
    {
      "cell_type": "markdown",
      "source": [
        "**Lesson 61 is on List Functions**\n",
        "\n",
        "Python provides built-in functions"
      ],
      "metadata": {
        "id": "SgyHq7EW5Mtt"
      }
    },
    {
      "cell_type": "code",
      "execution_count": null,
      "metadata": {
        "colab": {
          "base_uri": "https://localhost:8080/"
        },
        "id": "bYhF78Nk5JoU",
        "outputId": "65ceaf75-7a66-410e-c3c0-ae8fe2488a1f"
      },
      "outputs": [
        {
          "output_type": "stream",
          "name": "stdout",
          "text": [
            "15\n",
            "1\n",
            "5\n"
          ]
        }
      ],
      "source": [
        "my_list = [1, 2, 3, 4, 5]\n",
        "\n",
        "print(sum(my_list)) # returns sum of the numbers\n",
        "print(min(my_list)) # returns the smallest value of the list\n",
        "print(max(my_list)) # returns the biggest value of the list"
      ]
    },
    {
      "cell_type": "code",
      "source": [
        "# let's make the sum function from scratch!\n",
        "\n",
        "from typing import List # remember, this is used to add type hits for List\n",
        "\n",
        "def get_sum(nums: List[int]) -> int:\n",
        "  sum = 0\n",
        "  for n in nums:\n",
        "    sum += n\n",
        "  return sum\n",
        "\n",
        "get_sum([2, 5, 4])"
      ],
      "metadata": {
        "colab": {
          "base_uri": "https://localhost:8080/"
        },
        "id": "EVMfFaW45joZ",
        "outputId": "4833074f-490a-41cf-f558-c2bf82698142"
      },
      "execution_count": null,
      "outputs": [
        {
          "output_type": "execute_result",
          "data": {
            "text/plain": [
              "11"
            ]
          },
          "metadata": {},
          "execution_count": 2
        }
      ]
    },
    {
      "cell_type": "code",
      "source": [
        "# let's make the max function from scratch!\n",
        "\n",
        "from typing import List # remember, this is used to add type hits for List\n",
        "\n",
        "def get_max(nums: List[int]) -> int:\n",
        "  max = nums[0]\n",
        "  for n in nums:\n",
        "    if n > max:\n",
        "      max = n\n",
        "  return max\n",
        "\n",
        "get_max([2, 5, 4, 90, 1])"
      ],
      "metadata": {
        "colab": {
          "base_uri": "https://localhost:8080/"
        },
        "id": "B4q1BgRB6c85",
        "outputId": "9ec8816b-6b9d-4fb8-e91e-d25593149f60"
      },
      "execution_count": null,
      "outputs": [
        {
          "output_type": "execute_result",
          "data": {
            "text/plain": [
              "90"
            ]
          },
          "metadata": {},
          "execution_count": 5
        }
      ]
    },
    {
      "cell_type": "code",
      "source": [
        "# let's make the min function from scratch!\n",
        "\n",
        "from typing import List # remember, this is used to add type hits for List\n",
        "\n",
        "def get_min(nums: List[int]) -> int:\n",
        "  min = nums[0]\n",
        "  for n in nums:\n",
        "    if min > n:\n",
        "      min = n\n",
        "  return min\n",
        "\n",
        "get_min([2, 5, 4, 90, 1])"
      ],
      "metadata": {
        "colab": {
          "base_uri": "https://localhost:8080/"
        },
        "id": "qlUkyKUp64wm",
        "outputId": "8a81dba7-95da-4754-dfdf-1d823002180c"
      },
      "execution_count": null,
      "outputs": [
        {
          "output_type": "execute_result",
          "data": {
            "text/plain": [
              "1"
            ]
          },
          "metadata": {},
          "execution_count": 6
        }
      ]
    }
  ]
}