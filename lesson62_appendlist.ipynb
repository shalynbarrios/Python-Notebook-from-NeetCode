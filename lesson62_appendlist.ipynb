{
  "nbformat": 4,
  "nbformat_minor": 0,
  "metadata": {
    "colab": {
      "provenance": [],
      "authorship_tag": "ABX9TyM3UX5bDqOFrqdtlkiLm8BP",
      "include_colab_link": true
    },
    "kernelspec": {
      "name": "python3",
      "display_name": "Python 3"
    },
    "language_info": {
      "name": "python"
    }
  },
  "cells": [
    {
      "cell_type": "markdown",
      "metadata": {
        "id": "view-in-github",
        "colab_type": "text"
      },
      "source": [
        "<a href=\"https://colab.research.google.com/github/shalynbarrios/Python-Notebook-from-NeetCode/blob/main/lesson62_appendlist.ipynb\" target=\"_parent\"><img src=\"https://colab.research.google.com/assets/colab-badge.svg\" alt=\"Open In Colab\"/></a>"
      ]
    },
    {
      "cell_type": "markdown",
      "source": [
        "**Lesson 62 is on the append() function.**\n",
        "\n",
        "This is how you add new elements to a list."
      ],
      "metadata": {
        "id": "Iz5F0K6KsL1w"
      }
    },
    {
      "cell_type": "code",
      "execution_count": null,
      "metadata": {
        "colab": {
          "base_uri": "https://localhost:8080/"
        },
        "id": "u8T9GW0EsK66",
        "outputId": "e13007ea-5cc1-40be-f53e-6ba13f2855d2"
      },
      "outputs": [
        {
          "output_type": "stream",
          "name": "stdout",
          "text": [
            "[1, 2, 3]\n",
            "3\n",
            "[1, 2, 3, 4]\n",
            "4\n"
          ]
        }
      ],
      "source": [
        "my_list = [1, 2, 3]\n",
        "\n",
        "print(my_list) # prints 1, 2, 3\n",
        "print(len(my_list))\n",
        "\n",
        "my_list.append(4)\n",
        "\n",
        "print(my_list) # prints 1, 2, 3, 4\n",
        "print(len(my_list))\n",
        "\n",
        "# this function is called with a period after the list name\n",
        "# this is called a method (when we call a function on an object itself)\n",
        "# it is a function that is associated with a specific object\n",
        "# a list is considered an object (so is a string!)\n",
        "\n",
        "# also, note that after we appended the list\n",
        "# the length is different!"
      ]
    },
    {
      "cell_type": "code",
      "source": [
        "from typing import List # this is used to add the type list hint\n",
        "\n",
        "def append_to_list(my_list: List[int], elements: List[int]) -> List[int]:\n",
        "  for n in elements:\n",
        "    my_list.append(n) # we are modifying this list, not creating a new one\n",
        "  return my_list\n",
        "\n",
        "append_to_list([1,2,3], [4,4,5])"
      ],
      "metadata": {
        "colab": {
          "base_uri": "https://localhost:8080/"
        },
        "id": "MxwJkKHgtAFF",
        "outputId": "592b3933-843b-45bd-e162-750d1326cfad"
      },
      "execution_count": null,
      "outputs": [
        {
          "output_type": "execute_result",
          "data": {
            "text/plain": [
              "[1, 2, 3, 4, 4, 5]"
            ]
          },
          "metadata": {},
          "execution_count": 8
        }
      ]
    },
    {
      "cell_type": "markdown",
      "source": [
        "Try appending a list with strings!"
      ],
      "metadata": {
        "id": "O8r2ld0xyObO"
      }
    },
    {
      "cell_type": "code",
      "source": [
        "from typing import List\n",
        "\n",
        "# here, we are going to create a list with fruit!\n",
        "fruits =[\"banana\",\"apple\",\"orange\"]\n",
        "empty_loop = []\n",
        "def append_fruit() -> List[str]:\n",
        "  for fruit in fruits:\n",
        "    empty_loop.append(fruit)\n",
        "  return fruits\n",
        "\n",
        "append_fruit()"
      ],
      "metadata": {
        "colab": {
          "base_uri": "https://localhost:8080/"
        },
        "id": "9qBrfabjvjSr",
        "outputId": "6aa2b56d-700e-4481-9816-151b30ca7467"
      },
      "execution_count": null,
      "outputs": [
        {
          "output_type": "execute_result",
          "data": {
            "text/plain": [
              "['banana', 'apple', 'orange']"
            ]
          },
          "metadata": {},
          "execution_count": 10
        }
      ]
    },
    {
      "cell_type": "code",
      "source": [
        "# here is a better way to write the previous code\n",
        "\n",
        "from typing import List\n",
        "\n",
        "# list of fruits\n",
        "fruits = [\"banana\", \"apple\", \"orange\"]\n",
        "\n",
        "def append_all_fruits() -> List[str]:\n",
        "    appended_list = []  # create a local list\n",
        "    for fruit in fruits:\n",
        "        appended_list.append(fruit)  # append each fruit\n",
        "    return appended_list  # return the completed list\n",
        "\n",
        "# call the function\n",
        "print(append_all_fruits())  # Output: ['banana', 'apple', 'orange']"
      ],
      "metadata": {
        "id": "q5iHBETVySHn"
      },
      "execution_count": null,
      "outputs": []
    },
    {
      "cell_type": "markdown",
      "source": [
        "Next one!\n",
        "\n",
        "Write a program that starts with an empty list and appends the squares of numbers from 1 to 5 using a loop.\n",
        "\n"
      ],
      "metadata": {
        "id": "kreBt-Rsziy7"
      }
    },
    {
      "cell_type": "code",
      "source": [
        "from typing import List\n",
        "\n",
        "def square_append() -> List[int]:\n",
        "  empty_list = []\n",
        "  for i in range(1,6):\n",
        "    empty_list.append(i**2)\n",
        "  return empty_list\n",
        "\n",
        "print(square_append())"
      ],
      "metadata": {
        "colab": {
          "base_uri": "https://localhost:8080/"
        },
        "id": "2Yi1mjymzjtw",
        "outputId": "a4edcacd-4629-4940-ea5a-d3add424e8bb"
      },
      "execution_count": null,
      "outputs": [
        {
          "output_type": "execute_result",
          "data": {
            "text/plain": [
              "[1, 4, 9, 16, 25]"
            ]
          },
          "metadata": {},
          "execution_count": 17
        }
      ]
    }
  ]
}