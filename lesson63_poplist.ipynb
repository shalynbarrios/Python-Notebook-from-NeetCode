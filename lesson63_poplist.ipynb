{
  "nbformat": 4,
  "nbformat_minor": 0,
  "metadata": {
    "colab": {
      "provenance": [],
      "authorship_tag": "ABX9TyNlE8WXyQo38B0t2D3j1adZ",
      "include_colab_link": true
    },
    "kernelspec": {
      "name": "python3",
      "display_name": "Python 3"
    },
    "language_info": {
      "name": "python"
    }
  },
  "cells": [
    {
      "cell_type": "markdown",
      "metadata": {
        "id": "view-in-github",
        "colab_type": "text"
      },
      "source": [
        "<a href=\"https://colab.research.google.com/github/shalynbarrios/Python-Notebook-from-NeetCode/blob/main/lesson63_poplist.ipynb\" target=\"_parent\"><img src=\"https://colab.research.google.com/assets/colab-badge.svg\" alt=\"Open In Colab\"/></a>"
      ]
    },
    {
      "cell_type": "markdown",
      "source": [
        "Lesson 63 is popping (or removing) an element from a given list"
      ],
      "metadata": {
        "id": "xVJJJ8z165j2"
      }
    },
    {
      "cell_type": "code",
      "execution_count": null,
      "metadata": {
        "colab": {
          "base_uri": "https://localhost:8080/"
        },
        "id": "Q0Dmoro-63BN",
        "outputId": "4d9bf76f-fe4d-4a40-ab4f-42316ebc52c7"
      },
      "outputs": [
        {
          "output_type": "stream",
          "name": "stdout",
          "text": [
            "[1, 2]\n"
          ]
        }
      ],
      "source": [
        "my_list = [1, 2, 3]\n",
        "my_list.pop()\n",
        "\n",
        "print(my_list) # by default, pop \"pops\" the last element off the list"
      ]
    },
    {
      "cell_type": "code",
      "source": [
        "my_list = [1, 2, 3]\n",
        "\n",
        "my_list.pop(0) # note that this does not remove element \"0\"\n",
        "# it removes the element at index 0, which is the first element\n",
        "\n",
        "print(my_list)"
      ],
      "metadata": {
        "colab": {
          "base_uri": "https://localhost:8080/"
        },
        "id": "faCsP5k67NIM",
        "outputId": "c3554a87-9703-4c79-8c29-1afe0f084742"
      },
      "execution_count": null,
      "outputs": [
        {
          "output_type": "stream",
          "name": "stdout",
          "text": [
            "[2, 3]\n"
          ]
        }
      ]
    },
    {
      "cell_type": "code",
      "source": [
        "my_list = [1, 2, 3]\n",
        "\n",
        "my_list.pop(0)\n",
        "\n",
        "print(my_list)\n",
        "\n",
        "my_list.pop(0)\n",
        "\n",
        "print(my_list)\n",
        "\n",
        "# see how we called pop(0) twice?\n",
        "# after removing ther first element, the second element now becomes the first\n",
        "# so the what once was at index 1 is now at index 0"
      ],
      "metadata": {
        "colab": {
          "base_uri": "https://localhost:8080/"
        },
        "id": "_q7GUhYR7dRZ",
        "outputId": "1429394b-3507-4563-fb6f-2c88e20e3c71"
      },
      "execution_count": null,
      "outputs": [
        {
          "output_type": "stream",
          "name": "stdout",
          "text": [
            "[2, 3]\n",
            "[3]\n"
          ]
        }
      ]
    },
    {
      "cell_type": "code",
      "source": [
        "from typing import List # remember, this is used to get the type hints for lists\n",
        "\n",
        "def remove_from_list(my_LIST: List[int], num: int) -> List[int]:\n",
        "  my_LIST.pop(num)\n",
        "  return my_LIST\n",
        "\n",
        "remove_from_list([2,3,4], 1)"
      ],
      "metadata": {
        "colab": {
          "base_uri": "https://localhost:8080/"
        },
        "id": "0FRGeEgN7xU5",
        "outputId": "60b12992-a5d5-4f9f-9641-ee957dd6bcf7"
      },
      "execution_count": null,
      "outputs": [
        {
          "output_type": "execute_result",
          "data": {
            "text/plain": [
              "[2, 4]"
            ]
          },
          "metadata": {},
          "execution_count": 4
        }
      ]
    },
    {
      "cell_type": "code",
      "source": [
        "from typing import List\n",
        "\n",
        "# we want this function to pop the last n elements from a given list\n",
        "def pop_n_from_list(new_list: List[int], n: int):\n",
        "  while n > 0:\n",
        "    new_list.pop()\n",
        "    n -= 1\n",
        "  return new_list\n",
        "\n",
        "pop_n_from_list([1,2,3,4,5], 2)"
      ],
      "metadata": {
        "colab": {
          "base_uri": "https://localhost:8080/"
        },
        "id": "WisRnI8q8uhp",
        "outputId": "e64add48-4a5e-4974-95f7-f68da19d65bc"
      },
      "execution_count": null,
      "outputs": [
        {
          "output_type": "execute_result",
          "data": {
            "text/plain": [
              "[1, 2, 3]"
            ]
          },
          "metadata": {},
          "execution_count": 17
        }
      ]
    }
  ]
}