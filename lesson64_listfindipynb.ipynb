{
  "nbformat": 4,
  "nbformat_minor": 0,
  "metadata": {
    "colab": {
      "provenance": [],
      "authorship_tag": "ABX9TyPWAZCPr57wFbS2PKgcULP6",
      "include_colab_link": true
    },
    "kernelspec": {
      "name": "python3",
      "display_name": "Python 3"
    },
    "language_info": {
      "name": "python"
    }
  },
  "cells": [
    {
      "cell_type": "markdown",
      "metadata": {
        "id": "view-in-github",
        "colab_type": "text"
      },
      "source": [
        "<a href=\"https://colab.research.google.com/github/shalynbarrios/Python-Notebook-from-NeetCode/blob/main/lesson64_listfindipynb.ipynb\" target=\"_parent\"><img src=\"https://colab.research.google.com/assets/colab-badge.svg\" alt=\"Open In Colab\"/></a>"
      ]
    },
    {
      "cell_type": "markdown",
      "source": [
        "Lesson 64 is on how we can also find the index of an element in a list using the built-in function index()"
      ],
      "metadata": {
        "id": "Jc9KyIPa-vaa"
      }
    },
    {
      "cell_type": "code",
      "execution_count": null,
      "metadata": {
        "colab": {
          "base_uri": "https://localhost:8080/"
        },
        "id": "5u1n3mBL-qMJ",
        "outputId": "402a06d3-070a-48c7-e9ac-34486cdca8d6"
      },
      "outputs": [
        {
          "output_type": "stream",
          "name": "stdout",
          "text": [
            "2\n"
          ]
        }
      ],
      "source": [
        "my_list = [1, 2, 3, 4, 5]\n",
        "\n",
        "print(my_list.index(3))\n",
        "# this tells us the index of the element 3\n",
        "# which is why it returns 2, as element 3 can be found on index 2\n",
        "\n",
        "# however, it will only give us the first occurence of that element"
      ]
    },
    {
      "cell_type": "code",
      "source": [
        "from typing import List\n",
        "\n",
        "def find_index(nums: List[int], target: int) -> int:\n",
        "  # with the index function\n",
        "  return nums.index(target)\n",
        "\n",
        "print(find_index([2,3,4,5], 2))"
      ],
      "metadata": {
        "colab": {
          "base_uri": "https://localhost:8080/"
        },
        "id": "kumT76_3_kp4",
        "outputId": "84a5fc70-4372-4ed7-ef15-4cd2d5ebeaad"
      },
      "execution_count": null,
      "outputs": [
        {
          "output_type": "stream",
          "name": "stdout",
          "text": [
            "0\n"
          ]
        }
      ]
    },
    {
      "cell_type": "code",
      "source": [
        "from typing import List\n",
        "\n",
        "def find_index(nums: List[int], target: int) -> int:\n",
        "  for i in range(len(nums)):\n",
        "    n = nums[i]\n",
        "    if n == target:\n",
        "      return i\n",
        "  return False\n",
        "\n",
        "print(find_index([1,2,3,4,5], 2))"
      ],
      "metadata": {
        "colab": {
          "base_uri": "https://localhost:8080/"
        },
        "id": "AIMqxjbJA8ON",
        "outputId": "b862bf74-4a7c-4ecd-a443-de2523f84363"
      },
      "execution_count": null,
      "outputs": [
        {
          "output_type": "stream",
          "name": "stdout",
          "text": [
            "1\n"
          ]
        }
      ]
    }
  ]
}