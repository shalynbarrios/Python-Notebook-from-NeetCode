{
  "nbformat": 4,
  "nbformat_minor": 0,
  "metadata": {
    "colab": {
      "provenance": [],
      "authorship_tag": "ABX9TyMN+VnhRNM/DzNgjZOCzmwa",
      "include_colab_link": true
    },
    "kernelspec": {
      "name": "python3",
      "display_name": "Python 3"
    },
    "language_info": {
      "name": "python"
    }
  },
  "cells": [
    {
      "cell_type": "markdown",
      "metadata": {
        "id": "view-in-github",
        "colab_type": "text"
      },
      "source": [
        "<a href=\"https://colab.research.google.com/github/shalynbarrios/Python-Notebook-from-NeetCode/blob/main/lesson65_listslicing.ipynb\" target=\"_parent\"><img src=\"https://colab.research.google.com/assets/colab-badge.svg\" alt=\"Open In Colab\"/></a>"
      ]
    },
    {
      "cell_type": "markdown",
      "source": [
        "Lesson 65 is on list slicing"
      ],
      "metadata": {
        "id": "FTborMFMiVjg"
      }
    },
    {
      "cell_type": "code",
      "execution_count": null,
      "metadata": {
        "colab": {
          "base_uri": "https://localhost:8080/"
        },
        "id": "0nGNW0J6iRT_",
        "outputId": "7a661cac-de1f-4c37-c8dc-0ec3ee2761d0"
      },
      "outputs": [
        {
          "output_type": "stream",
          "name": "stdout",
          "text": [
            "[2, 3]\n"
          ]
        }
      ],
      "source": [
        "# it's the exact same as slicing a string!\n",
        "\n",
        "my_list = [1,2,3,4,5]\n",
        "\n",
        "print(my_list[1:3]) # will print [2,3]\n",
        "\n",
        "# so we are getting a portion of the list from the specified index bounds"
      ]
    },
    {
      "cell_type": "code",
      "source": [
        "my_list = [1,2,3,4,5]\n",
        "\n",
        "print(my_list[::-1]) # will print backwards"
      ],
      "metadata": {
        "colab": {
          "base_uri": "https://localhost:8080/"
        },
        "id": "xy6FK37nmomy",
        "outputId": "97046323-25bc-43b6-9b0f-be1dd25b5531"
      },
      "execution_count": null,
      "outputs": [
        {
          "output_type": "stream",
          "name": "stdout",
          "text": [
            "[5, 4, 3, 2, 1]\n"
          ]
        }
      ]
    },
    {
      "cell_type": "markdown",
      "source": [
        "Make an important note that this does not modify the original list. This returns a new list with the slice."
      ],
      "metadata": {
        "id": "Pgv-w0wGlKRu"
      }
    },
    {
      "cell_type": "code",
      "source": [
        "# what about a negative list?\n",
        "\n",
        "my_list = [1,2,3,4,5]\n",
        "\n",
        "print(my_list[-1]) # python allows this to access the last element\n",
        "# it's like backwards\n",
        "# last element = -1\n",
        "# second-to-last = -2"
      ],
      "metadata": {
        "colab": {
          "base_uri": "https://localhost:8080/"
        },
        "id": "mf726SwflTmw",
        "outputId": "2b9dfb6b-ae68-4d42-94bf-531b4933e461"
      },
      "execution_count": null,
      "outputs": [
        {
          "output_type": "stream",
          "name": "stdout",
          "text": [
            "5\n"
          ]
        }
      ]
    },
    {
      "cell_type": "code",
      "source": [
        "from typing import List\n",
        "\n",
        "def get_last_3_elements(my_list: List[int]) -> List[int]:\n",
        "  return my_list[len(my_list)-3:]\n",
        "\n",
        "print(get_last_3_elements([1,2,3,4]))"
      ],
      "metadata": {
        "colab": {
          "base_uri": "https://localhost:8080/"
        },
        "id": "RLUiDvo2mx3Y",
        "outputId": "b0e929fd-df8f-4e93-8368-95898451cc18"
      },
      "execution_count": null,
      "outputs": [
        {
          "output_type": "stream",
          "name": "stdout",
          "text": [
            "[2, 3, 4]\n"
          ]
        }
      ]
    },
    {
      "cell_type": "code",
      "source": [
        "from typing import List\n",
        "\n",
        "def get_last_3_elements(my_list: List[int]) -> List[int]:\n",
        "  return my_list[-3:]\n",
        "\n",
        "print(get_last_3_elements([1,2,3,4]))"
      ],
      "metadata": {
        "colab": {
          "base_uri": "https://localhost:8080/"
        },
        "id": "iXOXsykinN5r",
        "outputId": "817d9470-a581-4737-f1bc-2819e8afde2f"
      },
      "execution_count": null,
      "outputs": [
        {
          "output_type": "stream",
          "name": "stdout",
          "text": [
            "[2, 3, 4]\n"
          ]
        }
      ]
    }
  ]
}