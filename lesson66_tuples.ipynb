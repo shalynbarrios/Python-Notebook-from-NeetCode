{
  "nbformat": 4,
  "nbformat_minor": 0,
  "metadata": {
    "colab": {
      "provenance": [],
      "authorship_tag": "ABX9TyNIm5ATd2AMMMHtb75pUETE",
      "include_colab_link": true
    },
    "kernelspec": {
      "name": "python3",
      "display_name": "Python 3"
    },
    "language_info": {
      "name": "python"
    }
  },
  "cells": [
    {
      "cell_type": "markdown",
      "metadata": {
        "id": "view-in-github",
        "colab_type": "text"
      },
      "source": [
        "<a href=\"https://colab.research.google.com/github/shalynbarrios/Python-Notebook-from-NeetCode/blob/main/lesson66_tuples.ipynb\" target=\"_parent\"><img src=\"https://colab.research.google.com/assets/colab-badge.svg\" alt=\"Open In Colab\"/></a>"
      ]
    },
    {
      "cell_type": "markdown",
      "source": [
        "**Lesson 66 is on tuples! Last lesson relating to lists.**\n",
        "\n",
        "They are like lists but they are immutable. Once it is created, it cannot be changes. We can create a tuple with () instead of []"
      ],
      "metadata": {
        "id": "1yEYUHzbnz83"
      }
    },
    {
      "cell_type": "code",
      "execution_count": null,
      "metadata": {
        "colab": {
          "base_uri": "https://localhost:8080/"
        },
        "id": "zTdExfpjnxiK",
        "outputId": "d3738667-9b96-4792-ae27-d4c5a0b2bd89"
      },
      "outputs": [
        {
          "output_type": "stream",
          "name": "stdout",
          "text": [
            "(4, 5, 6)\n"
          ]
        }
      ],
      "source": [
        "my_tuple = (4,5,6)\n",
        "\n",
        "print(my_tuple)"
      ]
    },
    {
      "cell_type": "code",
      "source": [
        "my_tuple = (4,5,6)\n",
        "\n",
        "print(my_tuple[0])"
      ],
      "metadata": {
        "colab": {
          "base_uri": "https://localhost:8080/"
        },
        "id": "1Z6yIGN8oKJH",
        "outputId": "5205fbf5-c60b-483b-c857-0016dae05f4a"
      },
      "execution_count": null,
      "outputs": [
        {
          "output_type": "stream",
          "name": "stdout",
          "text": [
            "4\n"
          ]
        }
      ]
    },
    {
      "cell_type": "code",
      "source": [
        "my_tuple = (4,5,6)\n",
        "\n",
        "print(my_tuple[1:])"
      ],
      "metadata": {
        "colab": {
          "base_uri": "https://localhost:8080/"
        },
        "id": "aWhW9fgEoWl0",
        "outputId": "d300d1c4-7d70-457e-cecb-39b1d129be70"
      },
      "execution_count": null,
      "outputs": [
        {
          "output_type": "stream",
          "name": "stdout",
          "text": [
            "(5, 6)\n"
          ]
        }
      ]
    },
    {
      "cell_type": "code",
      "source": [
        "my_tuple = (4,5,6)\n",
        "\n",
        "my_tuple[0] = 1\n",
        "\n",
        "# this raises an eroror because we cannot change the element at the index\n",
        "# so we also cannot append or pop an element b/c that would change it"
      ],
      "metadata": {
        "id": "W5F9_4aOoiTw"
      },
      "execution_count": null,
      "outputs": []
    },
    {
      "cell_type": "code",
      "source": [
        "my_tuple = (4,5,6)\n",
        "\n",
        "print(max(my_tuple))\n",
        "print(min(my_tuple))\n",
        "print(sum(my_tuple))"
      ],
      "metadata": {
        "colab": {
          "base_uri": "https://localhost:8080/"
        },
        "id": "SDNQw-57oqqx",
        "outputId": "66ac874e-4ec7-4e5a-9ea3-ca4b8b1e3b2a"
      },
      "execution_count": null,
      "outputs": [
        {
          "output_type": "stream",
          "name": "stdout",
          "text": [
            "6\n",
            "4\n",
            "15\n"
          ]
        }
      ]
    },
    {
      "cell_type": "code",
      "source": [
        "from typing import Tuple\n",
        "\n",
        "def create_pair(name:str, age: int) -> Tuple[str, int]:\n",
        "  empty_tuple = (name, age)\n",
        "  return empty_tuple\n",
        "\n",
        "print(create_pair(\"Alice\", 25))"
      ],
      "metadata": {
        "colab": {
          "base_uri": "https://localhost:8080/"
        },
        "id": "mYn5ZgVEo2Ud",
        "outputId": "3d79709e-4fe7-483c-8fa3-06b49ebaf118"
      },
      "execution_count": null,
      "outputs": [
        {
          "output_type": "stream",
          "name": "stdout",
          "text": [
            "('Alice', 25)\n"
          ]
        }
      ]
    },
    {
      "cell_type": "code",
      "source": [
        "from typing import Tuple\n",
        "\n",
        "def create_pair(name:str, age: int) -> Tuple[str, int]:\n",
        "  return (name, age)\n",
        "\n",
        "print(create_pair(\"Alice\", 25))\n",
        "\n",
        "# this also works"
      ],
      "metadata": {
        "id": "VA0pSTKYpj9v"
      },
      "execution_count": null,
      "outputs": []
    }
  ]
}