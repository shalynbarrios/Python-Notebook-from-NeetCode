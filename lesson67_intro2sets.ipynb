{
  "nbformat": 4,
  "nbformat_minor": 0,
  "metadata": {
    "colab": {
      "provenance": [],
      "authorship_tag": "ABX9TyOSsOcJibcOYU4rNLNEQUiG",
      "include_colab_link": true
    },
    "kernelspec": {
      "name": "python3",
      "display_name": "Python 3"
    },
    "language_info": {
      "name": "python"
    }
  },
  "cells": [
    {
      "cell_type": "markdown",
      "metadata": {
        "id": "view-in-github",
        "colab_type": "text"
      },
      "source": [
        "<a href=\"https://colab.research.google.com/github/shalynbarrios/Python-Notebook-from-NeetCode/blob/main/lesson67_intro2sets.ipynb\" target=\"_parent\"><img src=\"https://colab.research.google.com/assets/colab-badge.svg\" alt=\"Open In Colab\"/></a>"
      ]
    },
    {
      "cell_type": "markdown",
      "source": [
        "Lesson 67 is an intro to sets"
      ],
      "metadata": {
        "id": "M3j2afAyegC3"
      }
    },
    {
      "cell_type": "code",
      "execution_count": null,
      "metadata": {
        "colab": {
          "base_uri": "https://localhost:8080/"
        },
        "id": "XGAqxvj4ecUo",
        "outputId": "21d8dac4-e769-4f17-ad2f-3a2c73965df9"
      },
      "outputs": [
        {
          "output_type": "stream",
          "name": "stdout",
          "text": [
            "{1, 2, 3}\n",
            "{1, 2, 3}\n"
          ]
        }
      ],
      "source": [
        "# a set in unordered (the order is unpredictable)\n",
        "# only unique elements (no duplicates)\n",
        "\n",
        "my_set = {1,2,3}\n",
        "print(my_set)\n",
        "\n",
        "my_set = {2,1,3}\n",
        "print(my_set)\n",
        "\n",
        "# see how the order changed?"
      ]
    },
    {
      "cell_type": "code",
      "source": [
        "my_set = set()\n",
        "\n",
        "# not curly braces for an empty set\n",
        "\n",
        "my_set.add(3)\n",
        "my_set.add(1)\n",
        "\n",
        "print(my_set)"
      ],
      "metadata": {
        "colab": {
          "base_uri": "https://localhost:8080/"
        },
        "id": "ObFBRW-xfD9s",
        "outputId": "eebb3d5a-0f43-4b9e-ce87-7d2cce59bca1"
      },
      "execution_count": null,
      "outputs": [
        {
          "output_type": "stream",
          "name": "stdout",
          "text": [
            "{1, 3}\n"
          ]
        }
      ]
    },
    {
      "cell_type": "code",
      "source": [
        "from typing import List, Sequence\n",
        "\n",
        "def list_2_set(nums: List[int]) -> set[int]:\n",
        "  my_set = set()\n",
        "  for n in nums:\n",
        "    my_set.add(n)\n",
        "  return my_set\n",
        "\n",
        "print(list_2_set([1,2,3,3,4,5]))"
      ],
      "metadata": {
        "colab": {
          "base_uri": "https://localhost:8080/"
        },
        "id": "Twb5qeHJfXfS",
        "outputId": "c6b2ce22-f99a-489e-a58b-5b3b8acee301"
      },
      "execution_count": null,
      "outputs": [
        {
          "output_type": "stream",
          "name": "stdout",
          "text": [
            "{1, 2, 3, 4, 5}\n"
          ]
        }
      ]
    }
  ]
}