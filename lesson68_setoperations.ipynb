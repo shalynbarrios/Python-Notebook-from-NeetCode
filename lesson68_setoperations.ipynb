{
  "nbformat": 4,
  "nbformat_minor": 0,
  "metadata": {
    "colab": {
      "provenance": [],
      "authorship_tag": "ABX9TyPKiObhEPKaUrZ2DCKMOn6W",
      "include_colab_link": true
    },
    "kernelspec": {
      "name": "python3",
      "display_name": "Python 3"
    },
    "language_info": {
      "name": "python"
    }
  },
  "cells": [
    {
      "cell_type": "markdown",
      "metadata": {
        "id": "view-in-github",
        "colab_type": "text"
      },
      "source": [
        "<a href=\"https://colab.research.google.com/github/shalynbarrios/Python-Notebook-from-NeetCode/blob/main/lesson68_setoperations.ipynb\" target=\"_parent\"><img src=\"https://colab.research.google.com/assets/colab-badge.svg\" alt=\"Open In Colab\"/></a>"
      ]
    },
    {
      "cell_type": "markdown",
      "source": [
        "**Lesson 68 is on set operations**\n",
        "\n",
        "Remember, a set is:\n",
        "1. unordered\n",
        "2. mutable\n",
        "3. only unique elements\n",
        "\n"
      ],
      "metadata": {
        "id": "u0vRKZbivSJ3"
      }
    },
    {
      "cell_type": "code",
      "execution_count": null,
      "metadata": {
        "colab": {
          "base_uri": "https://localhost:8080/"
        },
        "id": "NBlEaCsbvHkQ",
        "outputId": "3fa91809-6038-4563-b475-bc754f8be29d"
      },
      "outputs": [
        {
          "output_type": "stream",
          "name": "stdout",
          "text": [
            "{1, 3}\n"
          ]
        }
      ],
      "source": [
        "my_set = {1, 2, 3}\n",
        "\n",
        "my_set.remove(2) # this is like pop (removes the element)\n",
        "\n",
        "print(my_set)\n",
        "\n",
        "# my_set.remove(4) this is an error\n",
        "\n",
        "# so here, instead of pop or append, it's .remove and .add"
      ]
    },
    {
      "cell_type": "code",
      "source": [
        "# just like with lists, we can use the in keyword\n",
        "\n",
        "my_set = {\"cat\",\"dog\",\"mouse\"}\n",
        "\n",
        "contains_cat = \"cat\" in my_set\n",
        "\n",
        "print(contains_cat)"
      ],
      "metadata": {
        "colab": {
          "base_uri": "https://localhost:8080/"
        },
        "id": "ThA1HyhM1m5D",
        "outputId": "aaf3896a-335b-4664-d7d3-bc1f71719f28"
      },
      "execution_count": null,
      "outputs": [
        {
          "output_type": "stream",
          "name": "stdout",
          "text": [
            "True\n"
          ]
        }
      ]
    },
    {
      "cell_type": "code",
      "source": [
        "# or not in\n",
        "\n",
        "\n",
        "my_set = {\"cat\",\"dog\",\"mouse\"}\n",
        "\n",
        "contains_cat = \"cat\" not in my_set\n",
        "\n",
        "print(contains_cat)"
      ],
      "metadata": {
        "colab": {
          "base_uri": "https://localhost:8080/"
        },
        "id": "9-XwYgz2-BUD",
        "outputId": "dac30539-56e6-4382-8011-a31fd5d837a4"
      },
      "execution_count": null,
      "outputs": [
        {
          "output_type": "stream",
          "name": "stdout",
          "text": [
            "False\n"
          ]
        }
      ]
    },
    {
      "cell_type": "code",
      "source": [
        "# remember, this is how to create an empty set\n",
        "\n",
        "my_set = set()\n",
        "\n",
        "for i in range(5):\n",
        "  my_set.add(i)\n",
        "\n",
        "print(my_set)\n"
      ],
      "metadata": {
        "colab": {
          "base_uri": "https://localhost:8080/"
        },
        "id": "TQPwKQ9r-RXT",
        "outputId": "c1620a01-0d3e-4f63-b3e6-a6cd2b44b030"
      },
      "execution_count": null,
      "outputs": [
        {
          "output_type": "stream",
          "name": "stdout",
          "text": [
            "{0, 1, 2, 3, 4}\n"
          ]
        }
      ]
    },
    {
      "cell_type": "code",
      "source": [
        "my_set = set()\n",
        "\n",
        "for i in range(5):\n",
        "  my_set.add(1)\n",
        "\n",
        "print(my_set)\n",
        "\n",
        "# notice how the previous for loop returns {0, 1, 2, 3, 4}\n",
        "# this one is just 1, because the duplicates are not allowed in a set"
      ],
      "metadata": {
        "colab": {
          "base_uri": "https://localhost:8080/"
        },
        "id": "a8qlbOJG_2u1",
        "outputId": "1461decd-ab91-4781-cdf2-e76c567866e4"
      },
      "execution_count": null,
      "outputs": [
        {
          "output_type": "stream",
          "name": "stdout",
          "text": [
            "{1}\n"
          ]
        }
      ]
    },
    {
      "cell_type": "code",
      "source": [
        "# we can convert a list to a set\n",
        "from typing import List\n",
        "\n",
        "def count_unique_words(words: List[str]) -> set():\n",
        "  my_set = set()\n",
        "  for word in words:\n",
        "    my_set.add(word)\n",
        "  return len(my_set)\n",
        "\n",
        "\n",
        "print(count_unique_words([\"cat\",\"dog\",\"mouse\",\"cat\"]))\n",
        "print(count_unique_words([\"cat\",\"dog\",\"mouse\",\"cat\",\"lion\"]))"
      ],
      "metadata": {
        "id": "0oGssnKHwPvl",
        "colab": {
          "base_uri": "https://localhost:8080/"
        },
        "outputId": "bfdef450-3022-42b3-ae9b-1d55f33d9a36"
      },
      "execution_count": null,
      "outputs": [
        {
          "output_type": "stream",
          "name": "stdout",
          "text": [
            "3\n",
            "4\n"
          ]
        }
      ]
    },
    {
      "cell_type": "code",
      "source": [
        "# we can also do this\n",
        "from typing import List\n",
        "\n",
        "def count_unique_words(words: List[str]) -> set():\n",
        "  my_set = set(words)\n",
        "  return len(my_set)\n",
        "\n",
        "\n",
        "print(count_unique_words([\"cat\",\"dog\",\"mouse\",\"cat\"]))\n",
        "print(count_unique_words([\"cat\",\"dog\",\"mouse\",\"cat\",\"lion\"]))"
      ],
      "metadata": {
        "colab": {
          "base_uri": "https://localhost:8080/"
        },
        "id": "vMI1Yccx_ktY",
        "outputId": "900163e8-cf5a-4c60-a2f1-62732476a388"
      },
      "execution_count": null,
      "outputs": [
        {
          "output_type": "stream",
          "name": "stdout",
          "text": [
            "3\n",
            "4\n"
          ]
        }
      ]
    },
    {
      "cell_type": "markdown",
      "source": [
        "**Here is some set practice (Lesson 69)**\n",
        "\n",
        "Create a function where we return True if there are duplicate strings"
      ],
      "metadata": {
        "id": "bqx6-JNjAHqP"
      }
    },
    {
      "cell_type": "code",
      "source": [
        "from typing import List\n",
        "\n",
        "def check_duplicates(my_list: List[str]) -> bool:\n",
        "  my_set = set(my_list)\n",
        "  return len(my_set) < len(my_list)\n",
        "\n",
        "check_duplicates([\"hey\",\"hi\",\"hello\",\"hi\"])"
      ],
      "metadata": {
        "colab": {
          "base_uri": "https://localhost:8080/"
        },
        "id": "og6l38n9ARwz",
        "outputId": "e1ab61ef-a566-40f3-c5b7-0f24312a2068"
      },
      "execution_count": null,
      "outputs": [
        {
          "output_type": "execute_result",
          "data": {
            "text/plain": [
              "True"
            ]
          },
          "metadata": {},
          "execution_count": 16
        }
      ]
    },
    {
      "cell_type": "code",
      "source": [
        "# this code, though a little less elegant, also works!\n",
        "\n",
        "from typing import List\n",
        "\n",
        "def check_duplicates(my_list: List[str]) -> bool:\n",
        "  my_set = set()\n",
        "  for word in my_list:\n",
        "    if word in my_set:\n",
        "      return True\n",
        "    my_set.add(word)\n",
        "  return False\n",
        "\n",
        "check_duplicates([\"hey\",\"hi\",\"hello\",\"hi\"])"
      ],
      "metadata": {
        "colab": {
          "base_uri": "https://localhost:8080/"
        },
        "id": "7dI5goJuBABF",
        "outputId": "a752b578-93fe-4292-a018-fff2f71ad84b"
      },
      "execution_count": null,
      "outputs": [
        {
          "output_type": "execute_result",
          "data": {
            "text/plain": [
              "True"
            ]
          },
          "metadata": {},
          "execution_count": 19
        }
      ]
    }
  ]
}