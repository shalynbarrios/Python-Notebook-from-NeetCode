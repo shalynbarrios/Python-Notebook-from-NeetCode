{
  "nbformat": 4,
  "nbformat_minor": 0,
  "metadata": {
    "colab": {
      "provenance": [],
      "authorship_tag": "ABX9TyPe2S/64Sg+neftnGn4KIK2",
      "include_colab_link": true
    },
    "kernelspec": {
      "name": "python3",
      "display_name": "Python 3"
    },
    "language_info": {
      "name": "python"
    }
  },
  "cells": [
    {
      "cell_type": "markdown",
      "metadata": {
        "id": "view-in-github",
        "colab_type": "text"
      },
      "source": [
        "<a href=\"https://colab.research.google.com/github/shalynbarrios/Python-Notebook-from-NeetCode/blob/main/lesson70_introtodictionaries.ipynb\" target=\"_parent\"><img src=\"https://colab.research.google.com/assets/colab-badge.svg\" alt=\"Open In Colab\"/></a>"
      ]
    },
    {
      "cell_type": "markdown",
      "source": [
        "**Lesson 70 is an introduction to dictionaries!!**\n",
        "\n",
        "This is a very important data type.\n",
        "\n",
        "Essentially, it's like an actual dictionary. You have the word and the definition, but to python, they are called \"keys\" and \"values.\""
      ],
      "metadata": {
        "id": "dW_4HaRtBx8N"
      }
    },
    {
      "cell_type": "code",
      "execution_count": null,
      "metadata": {
        "colab": {
          "base_uri": "https://localhost:8080/"
        },
        "id": "fabklkPDBmdE",
        "outputId": "f6f73b69-067e-4890-c8ce-757eb37424ca"
      },
      "outputs": [
        {
          "output_type": "stream",
          "name": "stdout",
          "text": [
            "{'Alice': 25, 'Dave': 20, 'Rodrick': 30}\n"
          ]
        }
      ],
      "source": [
        "my_dictionary = {\n",
        "    \"Alice\":25,\n",
        "    \"Dave\":20,\n",
        "    \"Rodrick\":30,\n",
        "}\n",
        "print(my_dictionary)\n",
        "\n",
        "# it's spaced out this way traditionally because it's easier to read"
      ]
    },
    {
      "cell_type": "markdown",
      "source": [
        "Dictionaries are keys that map to a value.\n",
        "\n",
        "*They are also called maps / hashmaps!*"
      ],
      "metadata": {
        "id": "AfELS2O8CRq-"
      }
    },
    {
      "cell_type": "code",
      "source": [
        "# you might be wondering..\n",
        "# shay, these also have curly braces, like sets!\n",
        "# how can we tell the difference?\n",
        "\n",
        "# well, in a dictionary, there are two elements\n",
        "# a key and a value\n",
        "# like a word and it's definition\n",
        "# we call these key-value pairs\n",
        "\n",
        "my_dictionary = {\n",
        "    \"Alice\":25,\n",
        "    \"Dave\":20,\n",
        "    \"Rodrick\":30,\n",
        "}\n",
        "print(my_dictionary)\n",
        "\n",
        "# so here, the key is the string Alice\n",
        "# which maps to the value 25"
      ],
      "metadata": {
        "id": "ka5AV5CMCVSz"
      },
      "execution_count": null,
      "outputs": []
    },
    {
      "cell_type": "code",
      "source": [
        "# remember how we define sets like this? set()\n",
        "# the reason we couldn't use curly braces to define an empty set is because thats reserved for empty dictionaries\n",
        "\n",
        "my_empty_dict = {}\n",
        "\n",
        "# how can we add keyvalue pairs to this empty dictionary?\n",
        "\n",
        "my_empty_dict[\"Alice\"] = 25  # this is how!\n",
        "my_empty_dict[\"Dave\"] = 20. # we use the assignment operator = to assign the key to a value we desire\n",
        "\n",
        "print(my_empty_dict)"
      ],
      "metadata": {
        "colab": {
          "base_uri": "https://localhost:8080/"
        },
        "id": "QeyBMx0aDSfp",
        "outputId": "dfc9ac60-5e99-4aef-ad6e-1cdb380a81bc"
      },
      "execution_count": null,
      "outputs": [
        {
          "output_type": "stream",
          "name": "stdout",
          "text": [
            "{'Alice': 25, 'Dave': 20}\n"
          ]
        }
      ]
    },
    {
      "cell_type": "code",
      "source": [
        "# let's say we want to create a function that creates a dictionary from two parameters\n",
        "from typing import Dict\n",
        "\n",
        "\n",
        "def create_dict(name:str, age:int) -> Dict[str, int]:\n",
        "  my_dict = {}\n",
        "  my_dict[name] = age\n",
        "  return my_dict\n",
        "\n",
        "print(create_dict(\"Alice\", 25))"
      ],
      "metadata": {
        "colab": {
          "base_uri": "https://localhost:8080/"
        },
        "id": "kV9g5PpYDzsM",
        "outputId": "934eb0c0-f024-43e0-e5aa-d45ca1bc3d55"
      },
      "execution_count": null,
      "outputs": [
        {
          "output_type": "stream",
          "name": "stdout",
          "text": [
            "{'Alice': 25}\n"
          ]
        }
      ]
    },
    {
      "cell_type": "code",
      "source": [
        "# another way to do it (more elegant)\n",
        "from typing import Dict\n",
        "\n",
        "\n",
        "def create_dict(name:str, age:int) -> Dict[str, int]:\n",
        "  my_dict = {name:age}\n",
        "  return my_dict\n",
        "\n",
        "print(create_dict(\"Alice\", 25))"
      ],
      "metadata": {
        "colab": {
          "base_uri": "https://localhost:8080/"
        },
        "id": "TMoUCE91FOrV",
        "outputId": "7e7721a7-40a6-4f57-cd4b-a775404aa418"
      },
      "execution_count": null,
      "outputs": [
        {
          "output_type": "stream",
          "name": "stdout",
          "text": [
            "{'Alice': 25}\n"
          ]
        }
      ]
    },
    {
      "cell_type": "code",
      "source": [
        "# how about if we take a list of strings and map each string\n",
        "# to its index in the list?\n",
        "from typing import List, Dict\n",
        "\n",
        "\n",
        "def list_strings_to_dict(words: list[str]) -> Dict[str,int]:\n",
        "  my_new_dict = {}\n",
        "  for i in range(len(words)):\n",
        "    word = words[i]\n",
        "    my_new_dict[word] = i # here we are adding the pair per every iteration of the loop\n",
        "  return my_new_dict\n",
        "\n",
        "print(list_strings_to_dict([\"hey\",\"hi\",\"hello\",\"world\",\"and\",\"shay\"]))"
      ],
      "metadata": {
        "id": "7_3r_t_fFgqn",
        "colab": {
          "base_uri": "https://localhost:8080/"
        },
        "outputId": "1f11b0fb-8f5e-4ffe-c16b-679119819c28"
      },
      "execution_count": null,
      "outputs": [
        {
          "output_type": "stream",
          "name": "stdout",
          "text": [
            "{'hey': 0, 'hi': 1, 'hello': 2, 'world': 3, 'and': 4, 'shay': 5}\n"
          ]
        }
      ]
    }
  ]
}