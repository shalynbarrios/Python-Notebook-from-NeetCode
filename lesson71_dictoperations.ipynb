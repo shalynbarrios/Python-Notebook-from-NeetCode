{
  "nbformat": 4,
  "nbformat_minor": 0,
  "metadata": {
    "colab": {
      "provenance": [],
      "authorship_tag": "ABX9TyOI+Nrt4RewpPdHwYfmZh2I",
      "include_colab_link": true
    },
    "kernelspec": {
      "name": "python3",
      "display_name": "Python 3"
    },
    "language_info": {
      "name": "python"
    }
  },
  "cells": [
    {
      "cell_type": "markdown",
      "metadata": {
        "id": "view-in-github",
        "colab_type": "text"
      },
      "source": [
        "<a href=\"https://colab.research.google.com/github/shalynbarrios/Python-Notebook-from-NeetCode/blob/main/lesson71_dictoperations.ipynb\" target=\"_parent\"><img src=\"https://colab.research.google.com/assets/colab-badge.svg\" alt=\"Open In Colab\"/></a>"
      ]
    },
    {
      "cell_type": "markdown",
      "source": [
        "**Lesson 71 is on dictionary operations**\n",
        "\n",
        "Essentially, what else can we do with dictionaries?"
      ],
      "metadata": {
        "id": "9fXSHQrhlguC"
      }
    },
    {
      "cell_type": "code",
      "execution_count": null,
      "metadata": {
        "colab": {
          "base_uri": "https://localhost:8080/"
        },
        "id": "BWH0TNFvlbwh",
        "outputId": "63c41fb7-8fdc-436b-cf53-66c7c3ae8e62"
      },
      "outputs": [
        {
          "output_type": "stream",
          "name": "stdout",
          "text": [
            "1\n",
            "4\n"
          ]
        }
      ],
      "source": [
        "# we must understand that dictionaries cant contain duplicate keys\n",
        "# it's like if we say x = 1 but later we say x = 4, there are no two\n",
        "# variables named x, just one\n",
        "\n",
        "my_dict = {\"a\":1, \"b\":2, \"c\":3}\n",
        "\n",
        "print(my_dict[\"a\"]) # output is 1\n",
        "\n",
        "my_dict[\"a\"] = 4\n",
        "\n",
        "print(my_dict[\"a\"]) # output is 4"
      ]
    },
    {
      "cell_type": "code",
      "source": [
        "# however, you CAN have duplicate values\n",
        "my_dict = {\"a\":1, \"b\":1, \"c\":1}\n",
        "\n",
        "print(my_dict[\"a\"]) # output is 1\n",
        "\n",
        "print(my_dict[\"b\"]) # output is 1"
      ],
      "metadata": {
        "colab": {
          "base_uri": "https://localhost:8080/"
        },
        "id": "vZ_hRgIpmeg7",
        "outputId": "d2787520-303a-4b29-87cf-f57ec8b6106b"
      },
      "execution_count": null,
      "outputs": [
        {
          "output_type": "stream",
          "name": "stdout",
          "text": [
            "1\n",
            "1\n"
          ]
        }
      ]
    },
    {
      "cell_type": "code",
      "source": [
        "# values can be as similar or as unique as you want them to be!\n",
        "\n",
        "my_dict = {\"a\":[1,2], \"b\":\"y\", \"c\":{1,2,3}, \"d\":{\"a\":[1,2]}} # even another dictionary!\n",
        "\n",
        "print(my_dict[\"a\"]) # list\n",
        "print(my_dict[\"b\"]) # string\n",
        "print(my_dict[\"c\"]) # set\n",
        "print(my_dict[\"d\"]) # dict"
      ],
      "metadata": {
        "colab": {
          "base_uri": "https://localhost:8080/"
        },
        "id": "jQKIah9smqW6",
        "outputId": "193a798b-c47d-4acc-a04f-947fe2617d11"
      },
      "execution_count": null,
      "outputs": [
        {
          "output_type": "stream",
          "name": "stdout",
          "text": [
            "[1, 2]\n",
            "y\n",
            "{1, 2, 3}\n",
            "{'a': [1, 2]}\n"
          ]
        }
      ]
    },
    {
      "cell_type": "code",
      "source": [
        "# to check if a dictionary contains a key you're looking for,\n",
        "# this is what you can do:\n",
        "\n",
        "my_dict = {\"a\":1, \"b\":2, \"c\":3}\n",
        "\n",
        "print(\"a\" in my_dict) # true\n",
        "\n",
        "print(\"d\" in my_dict) # false"
      ],
      "metadata": {
        "colab": {
          "base_uri": "https://localhost:8080/"
        },
        "id": "SFoqCQO6oQp2",
        "outputId": "dfb35027-5669-461b-d74c-a999db6339d2"
      },
      "execution_count": null,
      "outputs": [
        {
          "output_type": "stream",
          "name": "stdout",
          "text": [
            "True\n",
            "False\n"
          ]
        }
      ]
    },
    {
      "cell_type": "markdown",
      "source": [
        "Mini challenge time!"
      ],
      "metadata": {
        "id": "Wjp7h0dWoi0Z"
      }
    },
    {
      "cell_type": "code",
      "source": [
        "# given this dictionary,\n",
        "# print it, get the value of key \"a\", bool check key \"d\"\n",
        "\n",
        "your_dict = {\n",
        "    \"a\":10,\n",
        "    \"apple\":12,\n",
        "    \"bat\":7\n",
        "}\n",
        "\n",
        "print(your_dict)\n",
        "print(your_dict[\"a\"])\n",
        "print(\"d\" in your_dict)\n",
        "your_dict[\"a\"] = 4\n",
        "print(your_dict)"
      ],
      "metadata": {
        "colab": {
          "base_uri": "https://localhost:8080/"
        },
        "id": "p-fTwGxIoiFn",
        "outputId": "c68bc0e1-c685-482c-b976-426d723a3e83"
      },
      "execution_count": null,
      "outputs": [
        {
          "output_type": "stream",
          "name": "stdout",
          "text": [
            "{'a': 10, 'apple': 12, 'bat': 7}\n",
            "10\n",
            "False\n",
            "{'a': 4, 'apple': 12, 'bat': 7}\n"
          ]
        }
      ]
    }
  ]
}