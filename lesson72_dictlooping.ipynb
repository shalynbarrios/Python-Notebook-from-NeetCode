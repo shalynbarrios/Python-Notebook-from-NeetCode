{
  "nbformat": 4,
  "nbformat_minor": 0,
  "metadata": {
    "colab": {
      "provenance": [],
      "authorship_tag": "ABX9TyNGGHH5FhVbS79t5y3eT20q",
      "include_colab_link": true
    },
    "kernelspec": {
      "name": "python3",
      "display_name": "Python 3"
    },
    "language_info": {
      "name": "python"
    }
  },
  "cells": [
    {
      "cell_type": "markdown",
      "metadata": {
        "id": "view-in-github",
        "colab_type": "text"
      },
      "source": [
        "<a href=\"https://colab.research.google.com/github/shalynbarrios/Python-Notebook-from-NeetCode/blob/main/lesson72_dictlooping.ipynb\" target=\"_parent\"><img src=\"https://colab.research.google.com/assets/colab-badge.svg\" alt=\"Open In Colab\"/></a>"
      ]
    },
    {
      "cell_type": "markdown",
      "source": [
        "Lesson 72 is on looping through a dictionary.\n",
        "\n",
        "* Note that you cannot index through a dictionary"
      ],
      "metadata": {
        "id": "KWtI5R43CJM8"
      }
    },
    {
      "cell_type": "code",
      "execution_count": null,
      "metadata": {
        "colab": {
          "base_uri": "https://localhost:8080/"
        },
        "id": "qgXKjGDBCFPg",
        "outputId": "0148f51b-22d1-443f-b31f-43346f255efb"
      },
      "outputs": [
        {
          "output_type": "stream",
          "name": "stdout",
          "text": [
            "3\n"
          ]
        }
      ],
      "source": [
        "# however, you can still use the len function\n",
        "\n",
        "my_dict = {\n",
        "    \"orange\":1,\n",
        "    \"red\":2,\n",
        "    \"blue\":3\n",
        "}\n",
        "\n",
        "print(len(my_dict))"
      ]
    },
    {
      "cell_type": "code",
      "source": [
        "# we can loop through a dictionary like we can a set\n",
        "\n",
        "my_dict = {\n",
        "    \"orange\":1,\n",
        "    \"red\":2,\n",
        "    \"blue\":3\n",
        "}\n",
        "\n",
        "for key in my_dict:  # gets the key\n",
        "  value = my_dict[key]  # gets the value\n",
        "  print(key,value)  # prints the pair"
      ],
      "metadata": {
        "colab": {
          "base_uri": "https://localhost:8080/"
        },
        "id": "KA7jUJPIC0z4",
        "outputId": "04ede291-8078-44df-9b26-28614f51254c"
      },
      "execution_count": null,
      "outputs": [
        {
          "output_type": "stream",
          "name": "stdout",
          "text": [
            "orange 1\n",
            "red 2\n",
            "blue 3\n"
          ]
        }
      ]
    },
    {
      "cell_type": "code",
      "source": [
        "# a more elegant solution is as follows...\n",
        "\n",
        "my_dict = {\n",
        "    \"orange\":1,\n",
        "    \"red\":2,\n",
        "    \"blue\":3\n",
        "}\n",
        "\n",
        "for key, value in my_dict.items():\n",
        "  print(key,value)"
      ],
      "metadata": {
        "colab": {
          "base_uri": "https://localhost:8080/"
        },
        "id": "YICfGQsZDFs_",
        "outputId": "8f0c17f7-1590-40d8-b68c-f123c556fb4c"
      },
      "execution_count": null,
      "outputs": [
        {
          "output_type": "stream",
          "name": "stdout",
          "text": [
            "orange 1\n",
            "red 2\n",
            "blue 3\n"
          ]
        }
      ]
    },
    {
      "cell_type": "markdown",
      "source": [
        "Mini challenge time!"
      ],
      "metadata": {
        "id": "mVR2FyE-DWWh"
      }
    },
    {
      "cell_type": "code",
      "source": [
        "# this function should take a dictionary of names and ages and return a list of the names\n",
        "from typing import List, Dict\n",
        "\n",
        "def get_dict_keys(age_name_dict:Dict[str, int]) -> List[str]:\n",
        "  my_list = []\n",
        "  for key in age_name_dict:\n",
        "    my_list.append(key)\n",
        "  return my_list\n",
        "\n",
        "get_dict_keys({\n",
        "    \"orange\":1,\n",
        "    \"red\":2,\n",
        "    \"blue\":3\n",
        "})"
      ],
      "metadata": {
        "colab": {
          "base_uri": "https://localhost:8080/"
        },
        "id": "ND5XEjpbDRDc",
        "outputId": "61b32ef6-9e8f-42a7-cd96-6d0179b9ae0f"
      },
      "execution_count": null,
      "outputs": [
        {
          "output_type": "execute_result",
          "data": {
            "text/plain": [
              "['orange', 'red', 'blue']"
            ]
          },
          "metadata": {},
          "execution_count": 5
        }
      ]
    },
    {
      "cell_type": "code",
      "source": [
        "# this function should take a dictionary of names and ages and return a list of the ages\n",
        "from typing import Dict, List\n",
        "\n",
        "def get_dict_values(age_name_dict:Dict[str,int]) -> List[int]:\n",
        "  new_list = []\n",
        "  for key in age_name_dict:\n",
        "    value = age_name_dict[key]\n",
        "    new_list.append(value)\n",
        "  return new_list\n",
        "\n",
        "get_dict_values({\n",
        "    \"orange\":1,\n",
        "    \"red\":2,\n",
        "    \"blue\":3\n",
        "})"
      ],
      "metadata": {
        "colab": {
          "base_uri": "https://localhost:8080/"
        },
        "id": "4C5kys0OEJqg",
        "outputId": "3e125c8c-c44c-4489-c2de-6b261109d76b"
      },
      "execution_count": null,
      "outputs": [
        {
          "output_type": "execute_result",
          "data": {
            "text/plain": [
              "[1, 2, 3]"
            ]
          },
          "metadata": {},
          "execution_count": 6
        }
      ]
    }
  ]
}