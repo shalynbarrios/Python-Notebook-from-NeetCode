{
  "nbformat": 4,
  "nbformat_minor": 0,
  "metadata": {
    "colab": {
      "provenance": [],
      "authorship_tag": "ABX9TyPIYwLbDrkuM6hnwcBuWqgn",
      "include_colab_link": true
    },
    "kernelspec": {
      "name": "python3",
      "display_name": "Python 3"
    },
    "language_info": {
      "name": "python"
    }
  },
  "cells": [
    {
      "cell_type": "markdown",
      "metadata": {
        "id": "view-in-github",
        "colab_type": "text"
      },
      "source": [
        "<a href=\"https://colab.research.google.com/github/shalynbarrios/Python-Notebook-from-NeetCode/blob/main/lesson73_dictpractice.ipynb\" target=\"_parent\"><img src=\"https://colab.research.google.com/assets/colab-badge.svg\" alt=\"Open In Colab\"/></a>"
      ]
    },
    {
      "cell_type": "markdown",
      "source": [
        "Lesson 73 is some more practice with dictionaries"
      ],
      "metadata": {
        "id": "9gwraKzoFRxz"
      }
    },
    {
      "cell_type": "code",
      "execution_count": null,
      "metadata": {
        "id": "NwOpzZsKFOPr"
      },
      "outputs": [],
      "source": [
        "# a very common use of dcitionaries is to\n",
        "# count the occurences of elements in a list\n",
        "\n",
        "# so in a list like\n",
        "my_list = [1,1,1,2,2,2,3,3,3]\n",
        "\n",
        "\n",
        "# the resulting dictionary would be this\n",
        "# because 1 occurs 3 times, 2 occurs 3 times, etc\n",
        "count = {\n",
        "    1: 3,\n",
        "    2: 3,\n",
        "    3: 3\n",
        "}\n"
      ]
    },
    {
      "cell_type": "code",
      "source": [
        "from typing import Dict\n",
        "\n",
        "def count_chars(word: str) -> Dict[str, int]:\n",
        "  new_dict = {}\n",
        "  for char in word:\n",
        "    if char not in new_dict:\n",
        "      new_dict[char] = 0\n",
        "    new_dict[char] += 1\n",
        "\n",
        "  return new_dict\n",
        "\n",
        "print(count_chars(\"hello\"))"
      ],
      "metadata": {
        "colab": {
          "base_uri": "https://localhost:8080/"
        },
        "id": "xzzBKK-SFrzN",
        "outputId": "913990c1-ef5d-4b64-8e7a-89d6309b4ae7"
      },
      "execution_count": null,
      "outputs": [
        {
          "output_type": "stream",
          "name": "stdout",
          "text": [
            "{'h': 1, 'e': 1, 'l': 2, 'o': 1}\n"
          ]
        }
      ]
    },
    {
      "cell_type": "code",
      "source": [
        "# we can also say\n",
        "\n",
        "from typing import Dict\n",
        "\n",
        "def count_chars(word: str) -> Dict[str, int]:\n",
        "  new_dict = {}\n",
        "  for char in word:\n",
        "    if char not in new_dict:\n",
        "      new_dict[char] = 1\n",
        "    else:\n",
        "      new_dict[char] += 1\n",
        "\n",
        "  return new_dict\n",
        "\n",
        "print(count_chars(\"hello\"))"
      ],
      "metadata": {
        "id": "hQk_1BBGHM9o",
        "outputId": "2da8f4ac-ef93-4209-e9db-9d30078d1771",
        "colab": {
          "base_uri": "https://localhost:8080/"
        }
      },
      "execution_count": null,
      "outputs": [
        {
          "output_type": "stream",
          "name": "stdout",
          "text": [
            "{'h': 1, 'e': 1, 'l': 2, 'o': 1}\n"
          ]
        }
      ]
    }
  ]
}