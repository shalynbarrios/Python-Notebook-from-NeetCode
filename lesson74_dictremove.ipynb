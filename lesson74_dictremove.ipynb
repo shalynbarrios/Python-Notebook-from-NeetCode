{
  "nbformat": 4,
  "nbformat_minor": 0,
  "metadata": {
    "colab": {
      "provenance": [],
      "authorship_tag": "ABX9TyObwW2/MQswXP5qnB5B4EtN",
      "include_colab_link": true
    },
    "kernelspec": {
      "name": "python3",
      "display_name": "Python 3"
    },
    "language_info": {
      "name": "python"
    }
  },
  "cells": [
    {
      "cell_type": "markdown",
      "metadata": {
        "id": "view-in-github",
        "colab_type": "text"
      },
      "source": [
        "<a href=\"https://colab.research.google.com/github/shalynbarrios/Python-Notebook-from-NeetCode/blob/main/lesson74_dictremove.ipynb\" target=\"_parent\"><img src=\"https://colab.research.google.com/assets/colab-badge.svg\" alt=\"Open In Colab\"/></a>"
      ]
    },
    {
      "cell_type": "markdown",
      "source": [
        "Lesson 74 is on how to remove items from a dictionary"
      ],
      "metadata": {
        "id": "BOu00DKUYGwV"
      }
    },
    {
      "cell_type": "code",
      "execution_count": null,
      "metadata": {
        "colab": {
          "base_uri": "https://localhost:8080/"
        },
        "id": "vHec0nFtIh6K",
        "outputId": "1b330783-4892-4724-bd52-d7873a347d4e"
      },
      "outputs": [
        {
          "output_type": "stream",
          "name": "stdout",
          "text": [
            "{'a': 1, 'b': 2, 'c': 3}\n",
            "{'b': 2, 'c': 3}\n"
          ]
        }
      ],
      "source": [
        "# we can use the pop function!\n",
        "\n",
        "my_dict = {\n",
        "    \"a\":1,\n",
        "    \"b\":2,\n",
        "    \"c\":3\n",
        "}\n",
        "\n",
        "print(my_dict)\n",
        "\n",
        "my_dict.pop(\"a\") # put the key you would like to pop the key value pair of\n",
        "\n",
        "print(my_dict)"
      ]
    },
    {
      "cell_type": "code",
      "source": [
        "# but what if we try popping a key that isn't in the dictionary?\n",
        "# it will raise a key error\n",
        "\n",
        "# good news is, the pop function has a second built-in parameter\n",
        "# this argument is a default value for if the key doesn't exist\n",
        "\n",
        "my_dict = {\n",
        "    \"a\":1,\n",
        "    \"b\":2,\n",
        "    \"c\":3\n",
        "}\n",
        "\n",
        "print(my_dict)\n",
        "\n",
        "my_dict.pop(\"d\", 0) # the second argument is 0, which returns 0\n",
        "\n",
        "print(my_dict)"
      ],
      "metadata": {
        "colab": {
          "base_uri": "https://localhost:8080/"
        },
        "id": "BMZlBJ8_Yg32",
        "outputId": "c6b5979a-df8f-4db1-a131-e57f976501ff"
      },
      "execution_count": null,
      "outputs": [
        {
          "output_type": "stream",
          "name": "stdout",
          "text": [
            "{'a': 1, 'b': 2, 'c': 3}\n",
            "{'a': 1, 'b': 2, 'c': 3}\n"
          ]
        }
      ]
    },
    {
      "cell_type": "code",
      "source": [
        "# another way to remove a key word is by using a\n",
        "# built-in function we haven't talked about yet\n",
        "\n",
        "my_dict = {\n",
        "    \"a\":1,\n",
        "    \"b\":2,\n",
        "    \"c\":3\n",
        "}\n",
        "\n",
        "print(my_dict)\n",
        "\n",
        "del my_dict[\"a\"] # \"deletes\" key value pair of key \"a\"\n",
        "\n",
        "print(my_dict)"
      ],
      "metadata": {
        "colab": {
          "base_uri": "https://localhost:8080/"
        },
        "id": "q4yqIDn8ZD04",
        "outputId": "f2d6eb4b-2996-4af6-8926-ea4e4e2532d5"
      },
      "execution_count": null,
      "outputs": [
        {
          "output_type": "stream",
          "name": "stdout",
          "text": [
            "{'a': 1, 'b': 2, 'c': 3}\n",
            "{'b': 2, 'c': 3}\n"
          ]
        }
      ]
    },
    {
      "cell_type": "code",
      "source": [
        "# given a dictionary and a list of keys, remove the keys from the dictionary\n",
        "# and return the modifided dictionary\n",
        "from typing import List, Dict\n",
        "\n",
        "\n",
        "def remove_keys(my_dict: Dict, keys: List[str]) -> Dict[str,int]:\n",
        "  for key in keys:\n",
        "    if key in my_dict:\n",
        "      my_dict.pop(key)\n",
        "  return my_dict\n",
        "\n",
        "print(remove_keys({\"a\":1,\"b\":2,\"c\":3}, [\"a\"]))"
      ],
      "metadata": {
        "colab": {
          "base_uri": "https://localhost:8080/"
        },
        "id": "I0ZlYmOdZeir",
        "outputId": "4c752892-4d47-45d9-f985-042610762af7"
      },
      "execution_count": null,
      "outputs": [
        {
          "output_type": "stream",
          "name": "stdout",
          "text": [
            "{'b': 2, 'c': 3}\n"
          ]
        }
      ]
    },
    {
      "cell_type": "code",
      "source": [
        "# another way\n",
        "# given a dictionary and a list of keys, remove the keys from the dictionary\n",
        "# and return the modifided dictionary\n",
        "from typing import List, Dict\n",
        "\n",
        "\n",
        "def remove_keys(my_dict: Dict, keys: List[str]) -> Dict[str,int]:\n",
        "  for key in keys:\n",
        "    my_dict.pop(key, 0)\n",
        "  return my_dict\n",
        "\n",
        "print(remove_keys({\"a\":1,\"b\":2,\"c\":3}, [\"a\"]))"
      ],
      "metadata": {
        "colab": {
          "base_uri": "https://localhost:8080/"
        },
        "id": "owgnUtatbAaf",
        "outputId": "41ec19de-3159-4127-c1c6-9ef9444bf0ba"
      },
      "execution_count": null,
      "outputs": [
        {
          "output_type": "stream",
          "name": "stdout",
          "text": [
            "{'b': 2, 'c': 3}\n"
          ]
        }
      ]
    },
    {
      "cell_type": "code",
      "source": [
        "# another way using a temporary copy\n",
        "from typing import List, Dict\n",
        "\n",
        "\n",
        "def remove_keys(my_dict: Dict, keys: List[str]) -> Dict[str,int]:\n",
        "  new_dict = my_dict.copy()\n",
        "  for key in my_dict:\n",
        "    if key in keys:\n",
        "      new_dict.pop(key)\n",
        "  return new_dict\n",
        "\n",
        "print(remove_keys({\"a\":1,\"b\":2,\"c\":3}, [\"a\"]))"
      ],
      "metadata": {
        "colab": {
          "base_uri": "https://localhost:8080/"
        },
        "id": "dFKnCOOsbgt7",
        "outputId": "f4e8dcb3-6cbf-4ef0-94f2-9b854d24a99f"
      },
      "execution_count": null,
      "outputs": [
        {
          "output_type": "stream",
          "name": "stdout",
          "text": [
            "{'b': 2, 'c': 3}\n"
          ]
        }
      ]
    }
  ]
}