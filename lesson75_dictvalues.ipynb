{
  "nbformat": 4,
  "nbformat_minor": 0,
  "metadata": {
    "colab": {
      "provenance": [],
      "authorship_tag": "ABX9TyNWJDyl61p4q8Lb/LRJnR5l",
      "include_colab_link": true
    },
    "kernelspec": {
      "name": "python3",
      "display_name": "Python 3"
    },
    "language_info": {
      "name": "python"
    }
  },
  "cells": [
    {
      "cell_type": "markdown",
      "metadata": {
        "id": "view-in-github",
        "colab_type": "text"
      },
      "source": [
        "<a href=\"https://colab.research.google.com/github/shalynbarrios/Python-Notebook-from-NeetCode/blob/main/lesson75_dictvalues.ipynb\" target=\"_parent\"><img src=\"https://colab.research.google.com/assets/colab-badge.svg\" alt=\"Open In Colab\"/></a>"
      ]
    },
    {
      "cell_type": "markdown",
      "source": [
        "**Lesson 75 is on another way to iterate over a dictionary**\n",
        "\n",
        "We will be learning about a new built-in function called values()."
      ],
      "metadata": {
        "id": "WMDB-WftcB4C"
      }
    },
    {
      "cell_type": "code",
      "execution_count": null,
      "metadata": {
        "colab": {
          "base_uri": "https://localhost:8080/"
        },
        "id": "NM7U5lHvb-7K",
        "outputId": "759b90c3-2940-4a3d-8afa-b292faaad388"
      },
      "outputs": [
        {
          "output_type": "stream",
          "name": "stdout",
          "text": [
            "1\n",
            "2\n",
            "3\n"
          ]
        }
      ],
      "source": [
        "my_dict = {\"a\":1,\"b\":2,\"c\":3}\n",
        "\n",
        "for value in my_dict.values(): # this will only print the values\n",
        "  print(value)"
      ]
    },
    {
      "cell_type": "code",
      "source": [
        "# a very useful application for this function is\n",
        "# to convert the values into a list\n",
        "\n",
        "my_dict = {\"a\":1,\"b\":2,\"c\":3}\n",
        "\n",
        "my_list = []\n",
        "for value in my_dict.values():\n",
        "  my_list.append(value)\n",
        "print(my_list)"
      ],
      "metadata": {
        "colab": {
          "base_uri": "https://localhost:8080/"
        },
        "id": "cOHC6cBfcxJM",
        "outputId": "bd26b848-3feb-4890-fb6e-3d50b77cb491"
      },
      "execution_count": null,
      "outputs": [
        {
          "output_type": "stream",
          "name": "stdout",
          "text": [
            "[1, 2, 3]\n"
          ]
        }
      ]
    },
    {
      "cell_type": "code",
      "source": [
        "# more commonly, we can do\n",
        "\n",
        "my_dict = {\"a\":1,\"b\":2,\"c\":3}\n",
        "\n",
        "values = list(my_dict.values())\n",
        "\n",
        "print(values)"
      ],
      "metadata": {
        "colab": {
          "base_uri": "https://localhost:8080/"
        },
        "id": "5UYX93XZdKkW",
        "outputId": "b6ef2001-e6dd-4729-ed10-bf82ab2e3f6d"
      },
      "execution_count": null,
      "outputs": [
        {
          "output_type": "stream",
          "name": "stdout",
          "text": [
            "[1, 2, 3]\n"
          ]
        }
      ]
    },
    {
      "cell_type": "code",
      "source": [
        "# okay, now create a function that takes a dictionary of names and ages and return the list of ages\n",
        "from typing import Dict, List\n",
        "\n",
        "\n",
        "def get_dict_values(age_dict: Dict[str,int]) -> List[int]:\n",
        "  ages = age_dict.values()\n",
        "  age_list = list(ages)\n",
        "  return age_list\n",
        "\n",
        "print(get_dict_values({\"Alice\":20,\"Bob\":25}))"
      ],
      "metadata": {
        "colab": {
          "base_uri": "https://localhost:8080/"
        },
        "id": "AT3zel39dS_3",
        "outputId": "ad537986-bae9-43a7-eefe-efa5b3a90a19"
      },
      "execution_count": null,
      "outputs": [
        {
          "output_type": "stream",
          "name": "stdout",
          "text": [
            "[20, 25]\n"
          ]
        }
      ]
    },
    {
      "cell_type": "code",
      "source": [
        "# we can fit this into one line and say\n",
        "\n",
        "def get_dict_values(age_dict: Dict[str,int]) -> List[int]:\n",
        "  return list(age_dict.values())\n",
        "\n",
        "print(get_dict_values({\"Alice\":20,\"Bob\":25}))"
      ],
      "metadata": {
        "colab": {
          "base_uri": "https://localhost:8080/"
        },
        "id": "eA9vjOcWeJ5G",
        "outputId": "4e481af0-1d1a-4113-ad17-145b0c30f05b"
      },
      "execution_count": null,
      "outputs": [
        {
          "output_type": "stream",
          "name": "stdout",
          "text": [
            "[20, 25]\n"
          ]
        }
      ]
    }
  ]
}