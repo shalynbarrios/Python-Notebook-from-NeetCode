{
  "nbformat": 4,
  "nbformat_minor": 0,
  "metadata": {
    "colab": {
      "provenance": [],
      "authorship_tag": "ABX9TyPwE/IceiwR20j0z8Om4Yio",
      "include_colab_link": true
    },
    "kernelspec": {
      "name": "python3",
      "display_name": "Python 3"
    },
    "language_info": {
      "name": "python"
    }
  },
  "cells": [
    {
      "cell_type": "markdown",
      "metadata": {
        "id": "view-in-github",
        "colab_type": "text"
      },
      "source": [
        "<a href=\"https://colab.research.google.com/github/shalynbarrios/Python-Notebook-from-NeetCode/blob/main/lesson76_readinginput.ipynb\" target=\"_parent\"><img src=\"https://colab.research.google.com/assets/colab-badge.svg\" alt=\"Open In Colab\"/></a>"
      ]
    },
    {
      "cell_type": "markdown",
      "source": [
        "**Lesson 76 is on reading input.**\n",
        "\n",
        "For the first time in this course, we have input and output.\n",
        "\n",
        "A good way to think about this is when you text. You tap on the screen, the phone takes an input, and generates an output, which is sending the text to your loved ones!\n",
        "\n",
        "Here, we're essentially doing something very similar. The notebook is going to ask for input from us."
      ],
      "metadata": {
        "id": "J6GbLybGprzp"
      }
    },
    {
      "cell_type": "code",
      "execution_count": null,
      "metadata": {
        "colab": {
          "base_uri": "https://localhost:8080/"
        },
        "id": "-ikIFRGXpRrB",
        "outputId": "a87d13cd-4dc9-40b8-bc03-bf6ab0ded9c5"
      },
      "outputs": [
        {
          "output_type": "stream",
          "name": "stdout",
          "text": [
            "Enter some text: hey shay!\n",
            "hey shay!\n"
          ]
        }
      ],
      "source": [
        "user_input = input(\"Enter some text: \")\n",
        "\n",
        "print(user_input)"
      ]
    },
    {
      "cell_type": "code",
      "source": [
        "# let's try a mini example...\n",
        "user_input = input(\"How are you? \")\n",
        "\n",
        "if user_input == \"good\":\n",
        "  print(\"I'm good too!\")\n",
        "else:\n",
        "  print(\"hmm, i'm not sure i understand\")"
      ],
      "metadata": {
        "colab": {
          "base_uri": "https://localhost:8080/"
        },
        "id": "pv84CTjIqTeB",
        "outputId": "82c4ca37-3193-43ce-b701-3ac1466b2d4b"
      },
      "execution_count": null,
      "outputs": [
        {
          "output_type": "stream",
          "name": "stdout",
          "text": [
            "How are you? good\n",
            "I'm good too!\n"
          ]
        }
      ]
    },
    {
      "cell_type": "code",
      "source": [
        "def read_and_print_input() -> None:\n",
        "  line = input(\"Hello! \")\n",
        "  print(line)\n",
        "\n",
        "read_and_print_input() # this function says hello!\n",
        "# then it repeats what you said back to you\n",
        "read_and_print_input()"
      ],
      "metadata": {
        "colab": {
          "base_uri": "https://localhost:8080/"
        },
        "id": "6PW6OFCcqhyG",
        "outputId": "7ef1f4ae-38f5-4454-f83e-03665060ace8"
      },
      "execution_count": null,
      "outputs": [
        {
          "output_type": "stream",
          "name": "stdout",
          "text": [
            "Hello! Hey!\n",
            "Hey!\n",
            "Hello! What's up!\n",
            "What's up!\n"
          ]
        }
      ]
    },
    {
      "cell_type": "code",
      "source": [
        "# note that by default\n",
        "# the input() function returns the user input as a STRING,\n",
        "# which is why we could say  ( if user_input == \"good\": )  earlier\n",
        "\n",
        "user = input() # this will read one line from stdin\n",
        "              # and store it in the variable user\n",
        "\n",
        "# Reading from stdin (standard input) in Python is a\n",
        "# common programming task that helps create interactive programs\n",
        "\n",
        "# stdin reads keyboard inputs from a user, files, or data streams\n",
        "\n",
        "print(user) # this will print the input to the console, which\n",
        "# is what hapens everytime you print something!\n",
        "# it goes to the console!"
      ],
      "metadata": {
        "colab": {
          "base_uri": "https://localhost:8080/"
        },
        "id": "vHExz7yhrK7p",
        "outputId": "2cea604a-5e85-4d10-eca1-4e52dcd6b28f"
      },
      "execution_count": null,
      "outputs": [
        {
          "output_type": "stream",
          "name": "stdout",
          "text": [
            "hello!\n",
            "hello!\n"
          ]
        }
      ]
    }
  ]
}