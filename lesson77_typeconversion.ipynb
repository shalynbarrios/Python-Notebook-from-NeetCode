{
  "nbformat": 4,
  "nbformat_minor": 0,
  "metadata": {
    "colab": {
      "provenance": [],
      "authorship_tag": "ABX9TyMbRMGhTkpzXs2AorEU9U/V",
      "include_colab_link": true
    },
    "kernelspec": {
      "name": "python3",
      "display_name": "Python 3"
    },
    "language_info": {
      "name": "python"
    }
  },
  "cells": [
    {
      "cell_type": "markdown",
      "metadata": {
        "id": "view-in-github",
        "colab_type": "text"
      },
      "source": [
        "<a href=\"https://colab.research.google.com/github/shalynbarrios/Python-Notebook-from-NeetCode/blob/main/lesson77_typeconversion.ipynb\" target=\"_parent\"><img src=\"https://colab.research.google.com/assets/colab-badge.svg\" alt=\"Open In Colab\"/></a>"
      ]
    },
    {
      "cell_type": "markdown",
      "source": [
        "Lesson 77 is on type conversion with input"
      ],
      "metadata": {
        "id": "SfhIyoDIsSNv"
      }
    },
    {
      "cell_type": "code",
      "source": [
        "# before we begin, i would just like to point ot tha\n",
        "# we are NOT required to provide a prompt\n",
        "# to the user when we use the input() function\n",
        "# it is an optional parameter\n",
        "\n",
        "user = input()\n",
        "\n",
        "print(user)"
      ],
      "metadata": {
        "colab": {
          "base_uri": "https://localhost:8080/"
        },
        "id": "3ADaUEadshOR",
        "outputId": "78e4d987-4815-40ae-fe6a-9dac0f37c279"
      },
      "execution_count": null,
      "outputs": [
        {
          "output_type": "stream",
          "name": "stdout",
          "text": [
            "hi!\n",
            "hi!\n"
          ]
        }
      ]
    },
    {
      "cell_type": "markdown",
      "source": [
        "Let's begin!"
      ],
      "metadata": {
        "id": "Fc6_lq0TswzY"
      }
    },
    {
      "cell_type": "code",
      "execution_count": null,
      "metadata": {
        "colab": {
          "base_uri": "https://localhost:8080/"
        },
        "id": "8CMBrN_asP25",
        "outputId": "c8b89603-8f2d-46be-cd02-b9455863c6eb"
      },
      "outputs": [
        {
          "output_type": "stream",
          "name": "stdout",
          "text": [
            "3\n"
          ]
        }
      ],
      "source": [
        "# remember how we can change a value from\n",
        "# for example, float to integer\n",
        "\n",
        "pi = 3.14\n",
        "print(int(pi))"
      ]
    },
    {
      "cell_type": "code",
      "source": [
        "age = int(input(\"Enter your age: \")) # now stored in variable age\n",
        "\n",
        "temperature = float(input(\"Enter the temperature\")) # now stored in variable temperature\n",
        "\n",
        "# however.. what if a user inputs a string?\n",
        "# we will cover that in the next section"
      ],
      "metadata": {
        "id": "DaDpceFpsgOT"
      },
      "execution_count": null,
      "outputs": []
    },
    {
      "cell_type": "code",
      "source": [
        "def read_integer() -> int:\n",
        "  return int(input())\n",
        "\n",
        "print(read_integer())"
      ],
      "metadata": {
        "colab": {
          "base_uri": "https://localhost:8080/"
        },
        "id": "IqfPJBKruLPK",
        "outputId": "44dbf11b-77cf-460a-930d-f13d98cac2d0"
      },
      "execution_count": null,
      "outputs": [
        {
          "output_type": "stream",
          "name": "stdout",
          "text": [
            "4\n",
            "4\n"
          ]
        }
      ]
    },
    {
      "cell_type": "code",
      "source": [
        "def read_float() -> float:\n",
        "  return float(input())\n",
        "\n",
        "print(read_float())"
      ],
      "metadata": {
        "colab": {
          "base_uri": "https://localhost:8080/"
        },
        "id": "0FH1_10kuOvS",
        "outputId": "8183282d-b578-48b6-f0a1-27d33b2a3bc9"
      },
      "execution_count": null,
      "outputs": [
        {
          "output_type": "stream",
          "name": "stdout",
          "text": [
            "3.0\n",
            "3.0\n"
          ]
        }
      ]
    }
  ]
}