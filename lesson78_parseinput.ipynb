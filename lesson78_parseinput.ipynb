{
  "nbformat": 4,
  "nbformat_minor": 0,
  "metadata": {
    "colab": {
      "provenance": [],
      "authorship_tag": "ABX9TyM0tpPk25Js89WEVz6s5gzR",
      "include_colab_link": true
    },
    "kernelspec": {
      "name": "python3",
      "display_name": "Python 3"
    },
    "language_info": {
      "name": "python"
    }
  },
  "cells": [
    {
      "cell_type": "markdown",
      "metadata": {
        "id": "view-in-github",
        "colab_type": "text"
      },
      "source": [
        "<a href=\"https://colab.research.google.com/github/shalynbarrios/Python-Notebook-from-NeetCode/blob/main/lesson78_parseinput.ipynb\" target=\"_parent\"><img src=\"https://colab.research.google.com/assets/colab-badge.svg\" alt=\"Open In Colab\"/></a>"
      ]
    },
    {
      "cell_type": "markdown",
      "source": [
        "Lesson 78 is on how to restructurize the input in some way (parsing the imput)."
      ],
      "metadata": {
        "id": "3IvV9CGLt_D2"
      }
    },
    {
      "cell_type": "code",
      "execution_count": null,
      "metadata": {
        "colab": {
          "base_uri": "https://localhost:8080/"
        },
        "id": "S9_nRZY-t8t3",
        "outputId": "24d44565-7a2c-44c1-8506-b12a09efd96a"
      },
      "outputs": [
        {
          "output_type": "stream",
          "name": "stdout",
          "text": [
            "['1', '2', '3']\n"
          ]
        }
      ],
      "source": [
        "# let's say an input was the string\n",
        "# \"1, 2, 3\"\n",
        "\n",
        "number_string = \"1, 2, 3\"  # like this\n",
        "\n",
        "string_list = number_string.split(\", \")\n",
        "\n",
        "print(string_list)\n",
        "\n",
        "# the code above will split the numbers by the \", \" substring\n",
        "# it will store each number as a string in the list string_list\n",
        "# \", \" is considered the DELIMITER in this case"
      ]
    },
    {
      "cell_type": "code",
      "source": [
        "from typing import List\n",
        "\n",
        "def read_integers() -> List[int]:\n",
        "  ask = input()\n",
        "  list_of_strings = ask.split(\",\")\n",
        "  empty_list = []\n",
        "  for string in list_of_strings:\n",
        "    empty_list.append(int(string))\n",
        "  return empty_list\n",
        "\n",
        "print(read_integers())"
      ],
      "metadata": {
        "colab": {
          "base_uri": "https://localhost:8080/"
        },
        "id": "DeSWEMdIumkE",
        "outputId": "0e1251ad-d58c-44a7-8edb-ba2c28331a83"
      },
      "execution_count": null,
      "outputs": [
        {
          "output_type": "stream",
          "name": "stdout",
          "text": [
            "1,2,3\n",
            "[1, 2, 3]\n"
          ]
        }
      ]
    },
    {
      "cell_type": "markdown",
      "source": [
        "**Mini challenge!**\n",
        "\n",
        "**Write a program that reads a line of integers separated by spaces, then outputs their sum.**\n",
        "\n",
        "Input format: A single line containing integers separated by spaces.\n",
        "\n",
        "Ex: 1 2 3 4 5"
      ],
      "metadata": {
        "id": "t46GJ4jDxzTB"
      }
    },
    {
      "cell_type": "code",
      "source": [
        "def get_sum_from_string() -> int:\n",
        "  ask = input()\n",
        "  line_of_nums = ask.split(\" \")\n",
        "  total = 0\n",
        "  for num in line_of_nums:\n",
        "    total += int(num)\n",
        "  return total\n",
        "\n",
        "get_sum_from_string()"
      ],
      "metadata": {
        "colab": {
          "base_uri": "https://localhost:8080/"
        },
        "id": "AMt805oYyHWO",
        "outputId": "b4e0f231-6e02-4ae4-ff54-69b977e1f84c"
      },
      "execution_count": null,
      "outputs": [
        {
          "name": "stdout",
          "output_type": "stream",
          "text": [
            "1 2 3 4 5\n"
          ]
        },
        {
          "output_type": "execute_result",
          "data": {
            "text/plain": [
              "15"
            ]
          },
          "metadata": {},
          "execution_count": 10
        }
      ]
    },
    {
      "cell_type": "markdown",
      "source": [
        "**Parse Date Problem: Given a string representing a date in the format YYYY-MM-DD, print the date in the format DD/MM/YYYY.**\n",
        "\n",
        "Input format: A single string in the format YYYY-MM-DD."
      ],
      "metadata": {
        "id": "ee36Rxy0zpws"
      }
    },
    {
      "cell_type": "code",
      "source": [
        "def reformat_date() -> str:\n",
        "    ask = input(\"Enter a date in YYYY-MM-DD format: \")\n",
        "    # split the input string by the dash character '-'\n",
        "    year, month, day = ask.split('-')\n",
        "\n",
        "    # return the formatted date in DD/MM/YYYY format\n",
        "    return f\"{day}/{month}/{year}\"\n",
        "\n",
        "print(reformat_date())"
      ],
      "metadata": {
        "colab": {
          "base_uri": "https://localhost:8080/"
        },
        "id": "GFHxasvKzulg",
        "outputId": "9fb6d552-0482-44bd-a8a9-a580e133bc17"
      },
      "execution_count": null,
      "outputs": [
        {
          "output_type": "stream",
          "name": "stdout",
          "text": [
            "Enter a date in YYYY-MM-DD format: 2006-01-06\n",
            "06/01/2006\n"
          ]
        }
      ]
    }
  ]
}