{
  "nbformat": 4,
  "nbformat_minor": 0,
  "metadata": {
    "colab": {
      "provenance": [],
      "authorship_tag": "ABX9TyPS71P1pLjZp5fNztcPKd6Z",
      "include_colab_link": true
    },
    "kernelspec": {
      "name": "python3",
      "display_name": "Python 3"
    },
    "language_info": {
      "name": "python"
    }
  },
  "cells": [
    {
      "cell_type": "markdown",
      "metadata": {
        "id": "view-in-github",
        "colab_type": "text"
      },
      "source": [
        "<a href=\"https://colab.research.google.com/github/shalynbarrios/Python-Notebook-from-NeetCode/blob/main/lesson79_readinginputpractice.ipynb\" target=\"_parent\"><img src=\"https://colab.research.google.com/assets/colab-badge.svg\" alt=\"Open In Colab\"/></a>"
      ]
    },
    {
      "cell_type": "markdown",
      "source": [
        "Lesson 79 is just small practice continued."
      ],
      "metadata": {
        "id": "5conmG741_aG"
      }
    },
    {
      "cell_type": "code",
      "execution_count": null,
      "metadata": {
        "colab": {
          "base_uri": "https://localhost:8080/"
        },
        "id": "8M3AWfmn1RkE",
        "outputId": "6dcf3d3d-4e56-41f4-cf1c-7074f3d9ad0b"
      },
      "outputs": [
        {
          "name": "stdout",
          "output_type": "stream",
          "text": [
            "1,3\n"
          ]
        },
        {
          "output_type": "execute_result",
          "data": {
            "text/plain": [
              "4"
            ]
          },
          "metadata": {},
          "execution_count": 2
        }
      ],
      "source": [
        "# remember, no parameters because you will be reading from stdin\n",
        "\n",
        "def add_two_numbers() -> int:\n",
        "  ask = input()\n",
        "  two_num_strings = ask.split(\",\")\n",
        "  total = 0\n",
        "  for num in two_num_strings:\n",
        "    total += int(num)\n",
        "  return total\n",
        "\n",
        "\n",
        "add_two_numbers()"
      ]
    },
    {
      "cell_type": "code",
      "source": [
        "# another way to do it\n",
        "\n",
        "def add_two_numbers() -> int:\n",
        "  ask = input()\n",
        "  two_num_strings = ask.split(\",\")\n",
        "  return int(two_num_strings[0])+ int(two_num_strings[1])\n",
        "\n",
        "add_two_numbers()"
      ],
      "metadata": {
        "colab": {
          "base_uri": "https://localhost:8080/"
        },
        "id": "rre8nyzX3eri",
        "outputId": "a7bb54db-19b2-42cc-c1f6-27db49de994d"
      },
      "execution_count": null,
      "outputs": [
        {
          "name": "stdout",
          "output_type": "stream",
          "text": [
            "1,2\n"
          ]
        },
        {
          "output_type": "execute_result",
          "data": {
            "text/plain": [
              "3"
            ]
          },
          "metadata": {},
          "execution_count": 4
        }
      ]
    }
  ]
}