{
  "nbformat": 4,
  "nbformat_minor": 0,
  "metadata": {
    "colab": {
      "provenance": [],
      "authorship_tag": "ABX9TyO3nGxsVHowdUmEWsR2jNB4",
      "include_colab_link": true
    },
    "kernelspec": {
      "name": "python3",
      "display_name": "Python 3"
    },
    "language_info": {
      "name": "python"
    }
  },
  "cells": [
    {
      "cell_type": "markdown",
      "metadata": {
        "id": "view-in-github",
        "colab_type": "text"
      },
      "source": [
        "<a href=\"https://colab.research.google.com/github/shalynbarrios/Python-Notebook-from-NeetCode/blob/main/lesson80_tryexcept.ipynb\" target=\"_parent\"><img src=\"https://colab.research.google.com/assets/colab-badge.svg\" alt=\"Open In Colab\"/></a>"
      ]
    },
    {
      "cell_type": "markdown",
      "source": [
        "Lesson 80 is on **try except.**\n",
        "\n",
        "When an error occurs, it causes the program to crash. Try and except is a way we can prevent that."
      ],
      "metadata": {
        "id": "tUmiXwfj374k"
      }
    },
    {
      "cell_type": "code",
      "execution_count": null,
      "metadata": {
        "id": "isJwpDGF314g"
      },
      "outputs": [],
      "source": [
        "# this will crash\n",
        "\n",
        "result = 10/0\n",
        "\n",
        "# division by zero is a crash"
      ]
    },
    {
      "cell_type": "code",
      "source": [
        "try:\n",
        "  # here, you can put code that might cause an error\n",
        "  result = 10/0\n",
        "except:\n",
        "  print(\"an error occured!\")\n",
        "\n",
        "print(\"this is telling you python did the try and except\")"
      ],
      "metadata": {
        "colab": {
          "base_uri": "https://localhost:8080/"
        },
        "id": "USxfqmQN4Tts",
        "outputId": "4c1bfcee-c5fc-4629-bd2d-211edba33404"
      },
      "execution_count": null,
      "outputs": [
        {
          "output_type": "stream",
          "name": "stdout",
          "text": [
            "an error occured!\n",
            "this is telling you python did the try and except\n"
          ]
        }
      ]
    },
    {
      "cell_type": "code",
      "source": [
        "# a try: is very similar to an if statement\n",
        "# the code inside a try block will always be executed\n",
        "\n",
        "# but if any line of code raises an error\n",
        "# the program will immediately jump to the\n",
        "# except block .. if no error occurs the except block is skipped\n",
        "\n",
        "# this is called   exception handling"
      ],
      "metadata": {
        "id": "jqgAbN004wmy"
      },
      "execution_count": null,
      "outputs": []
    },
    {
      "cell_type": "code",
      "source": [
        "def divide_numbers(a: int, b: int) -> None: # none bc were printing\n",
        "  try:\n",
        "    result = a/b\n",
        "    print(result)\n",
        "  except:\n",
        "    print(\"an error occured\")\n",
        "\n",
        "divide_numbers(5,0)"
      ],
      "metadata": {
        "colab": {
          "base_uri": "https://localhost:8080/"
        },
        "id": "acrHCZkA6YTX",
        "outputId": "aa091f98-3016-4216-cb44-e505a2d415c9"
      },
      "execution_count": null,
      "outputs": [
        {
          "output_type": "stream",
          "name": "stdout",
          "text": [
            "an error occured\n"
          ]
        }
      ]
    }
  ]
}