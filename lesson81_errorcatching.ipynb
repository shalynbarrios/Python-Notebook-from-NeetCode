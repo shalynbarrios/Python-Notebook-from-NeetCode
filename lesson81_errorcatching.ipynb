{
  "nbformat": 4,
  "nbformat_minor": 0,
  "metadata": {
    "colab": {
      "provenance": [],
      "authorship_tag": "ABX9TyMXm3P0zqXgIMklUDddRWUh",
      "include_colab_link": true
    },
    "kernelspec": {
      "name": "python3",
      "display_name": "Python 3"
    },
    "language_info": {
      "name": "python"
    }
  },
  "cells": [
    {
      "cell_type": "markdown",
      "metadata": {
        "id": "view-in-github",
        "colab_type": "text"
      },
      "source": [
        "<a href=\"https://colab.research.google.com/github/shalynbarrios/Python-Notebook-from-NeetCode/blob/main/lesson81_errorcatching.ipynb\" target=\"_parent\"><img src=\"https://colab.research.google.com/assets/colab-badge.svg\" alt=\"Open In Colab\"/></a>"
      ]
    },
    {
      "cell_type": "markdown",
      "source": [
        "Lesson 81 is on error catching with the try and except blocks."
      ],
      "metadata": {
        "id": "vcLtHVm_9w0a"
      }
    },
    {
      "cell_type": "code",
      "execution_count": null,
      "metadata": {
        "colab": {
          "base_uri": "https://localhost:8080/"
        },
        "id": "X7D6eyTn9sqr",
        "outputId": "dc96819a-4bb8-47b2-92c3-cc97c773a194"
      },
      "outputs": [
        {
          "output_type": "stream",
          "name": "stdout",
          "text": [
            "Error division by zero\n"
          ]
        }
      ],
      "source": [
        "try:\n",
        "  result = 10/0\n",
        "except Exception as error: # stores the error in the variable error\n",
        "                            # using the as keyword\n",
        "  print(\"Error\", error)\n",
        "\n",
        "# super useful! instead of adding a lot of print statements everywhere"
      ]
    },
    {
      "cell_type": "code",
      "source": [
        "def divide_numbers(a: str, b:str) -> None:\n",
        "  try:\n",
        "    a_int = int(a)\n",
        "    b_int = int(b)\n",
        "    result = a_int / b_int\n",
        "    print(result)\n",
        "  except Exception as error:\n",
        "    print(\"An error occured:\", error)\n",
        "\n",
        "divide_numbers(\"10\",\"2\")\n",
        "divide_numbers(\"10\",\"0\")\n",
        "divide_numbers(\"10\",\"hi\")"
      ],
      "metadata": {
        "colab": {
          "base_uri": "https://localhost:8080/"
        },
        "id": "4f01eJG4-F6S",
        "outputId": "65070ee0-740c-4168-d3cb-79074d88b577"
      },
      "execution_count": null,
      "outputs": [
        {
          "output_type": "stream",
          "name": "stdout",
          "text": [
            "5.0\n",
            "An error occured: division by zero\n",
            "An error occured: invalid literal for int() with base 10: 'hi'\n"
          ]
        }
      ]
    },
    {
      "cell_type": "code",
      "source": [
        "# we can also do\n",
        "\n",
        "def divide_numbers(a: str, b: str) -> str:\n",
        "    try:\n",
        "        # convert inputs to integers\n",
        "        a_int = int(a)\n",
        "        b_int = int(b)\n",
        "\n",
        "        # division\n",
        "        result = a_int / b_int\n",
        "        return f\"The result is {result}\"\n",
        "\n",
        "    except Exception as error:\n",
        "        # handle error and return the error message\n",
        "        return f\"An error occurred: {error}\"\n",
        "\n",
        "print(divide_numbers(\"10\", \"2\"))\n",
        "print(divide_numbers(\"10\", \"0\"))  # should print error for division by zero\n",
        "print(divide_numbers(\"10\", \"hi\"))  # should print error for invalid input\n"
      ],
      "metadata": {
        "colab": {
          "base_uri": "https://localhost:8080/"
        },
        "id": "0m9hC8ts_Gh5",
        "outputId": "d8822489-e40b-43f5-8a50-155f9cd31503"
      },
      "execution_count": null,
      "outputs": [
        {
          "output_type": "stream",
          "name": "stdout",
          "text": [
            "The result is 5.0\n",
            "An error occurred: division by zero\n",
            "An error occurred: invalid literal for int() with base 10: 'hi'\n"
          ]
        }
      ]
    }
  ]
}