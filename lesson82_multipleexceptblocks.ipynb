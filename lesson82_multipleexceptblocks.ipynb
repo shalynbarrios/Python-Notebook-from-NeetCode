{
  "nbformat": 4,
  "nbformat_minor": 0,
  "metadata": {
    "colab": {
      "provenance": [],
      "authorship_tag": "ABX9TyPawCL0ODevwOQNROWKTLLe",
      "include_colab_link": true
    },
    "kernelspec": {
      "name": "python3",
      "display_name": "Python 3"
    },
    "language_info": {
      "name": "python"
    }
  },
  "cells": [
    {
      "cell_type": "markdown",
      "metadata": {
        "id": "view-in-github",
        "colab_type": "text"
      },
      "source": [
        "<a href=\"https://colab.research.google.com/github/shalynbarrios/Python-Notebook-from-NeetCode/blob/main/lesson82_multipleexceptblocks.ipynb\" target=\"_parent\"><img src=\"https://colab.research.google.com/assets/colab-badge.svg\" alt=\"Open In Colab\"/></a>"
      ]
    },
    {
      "cell_type": "markdown",
      "source": [
        "**LAST LESSON OF THIS SERIES!!!**\n",
        "\n",
        "Lesson 82 is on having multiple except blocks to handle different types of exceptions."
      ],
      "metadata": {
        "id": "H-1iS0Tl_nrf"
      }
    },
    {
      "cell_type": "code",
      "execution_count": null,
      "metadata": {
        "colab": {
          "base_uri": "https://localhost:8080/"
        },
        "id": "8T4WaAWK_jZv",
        "outputId": "c61447ef-6931-49d2-f1d3-2516a3e35ed8"
      },
      "outputs": [
        {
          "output_type": "stream",
          "name": "stdout",
          "text": [
            "Error:  division by zero\n"
          ]
        }
      ],
      "source": [
        "try:\n",
        "  n = 10/0\n",
        "except Exception as error:\n",
        "  print(\"Error: \", error)"
      ]
    },
    {
      "cell_type": "markdown",
      "source": [
        "We can also do..."
      ],
      "metadata": {
        "id": "vuwgDiN2_8pi"
      }
    },
    {
      "cell_type": "code",
      "source": [
        "a = \"5\"\n",
        "b = \"0\"\n",
        "\n",
        "try:\n",
        "  num1 = int(a)\n",
        "  num2 = int(b)\n",
        "  result = num1/num2\n",
        "except ValueError:\n",
        "  print(\"Invalid Value\")\n",
        "except ZeroDivisionError:\n",
        "  print(\"Division by zero\")\n",
        "except Exception as error: # catches every other type of error\n",
        "  print(\"Error: \", error) # one generic block is good\n",
        "\n",
        "  # some popular types of errors are\n",
        "  # typeerror, indexerror, keyerror, filenotfounderror, importerror\n",
        "  # you can also create your own exceptions!"
      ],
      "metadata": {
        "colab": {
          "base_uri": "https://localhost:8080/"
        },
        "id": "8xwJzX5c_-2G",
        "outputId": "7cac069f-0f7f-4b92-91eb-09ce09c3477c"
      },
      "execution_count": null,
      "outputs": [
        {
          "output_type": "stream",
          "name": "stdout",
          "text": [
            "Division by zero\n"
          ]
        }
      ]
    },
    {
      "cell_type": "code",
      "source": [
        "# mini function project time!\n",
        "# takes two strings as arguments\n",
        "# convert to int() and then divide the first num by second num\n",
        "# print result\n",
        "# consider cases where it cannot work\n",
        "\n",
        "def divide_numbers (a: str, b: str) -> None:\n",
        "  try:\n",
        "    a_num = int(a)\n",
        "    b_num = int(b)\n",
        "    result = a_num/b_num\n",
        "    print(result)\n",
        "  except Exception as ZeroDivisionError:\n",
        "    print(\"Division by zero\")\n",
        "  except Exception as error:\n",
        "    print(\"Error:\", error)\n",
        "\n",
        "divide_numbers(\"5\",\"0\")\n",
        "divide_numbers(\"5\",\"1\")"
      ],
      "metadata": {
        "colab": {
          "base_uri": "https://localhost:8080/"
        },
        "id": "j84WWoelATbM",
        "outputId": "9c37d64a-6a9c-4103-c46c-73bbfb031a03"
      },
      "execution_count": null,
      "outputs": [
        {
          "output_type": "stream",
          "name": "stdout",
          "text": [
            "Division by zero\n",
            "5.0\n"
          ]
        }
      ]
    }
  ]
}